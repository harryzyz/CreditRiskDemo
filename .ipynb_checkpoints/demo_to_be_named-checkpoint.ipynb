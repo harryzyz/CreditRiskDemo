{
 "cells": [
  {
   "cell_type": "markdown",
   "id": "compact-namibia",
   "metadata": {},
   "source": [
    "## This project focuses on implementing machine learning in credit risk predictions. Detail description will be updated shortly."
   ]
  },
  {
   "cell_type": "markdown",
   "id": "independent-today",
   "metadata": {},
   "source": [
    "# PD model"
   ]
  },
  {
   "cell_type": "markdown",
   "id": "recovered-haven",
   "metadata": {},
   "source": [
    "## Import Libraries"
   ]
  },
  {
   "cell_type": "code",
   "execution_count": 1,
   "id": "personal-settlement",
   "metadata": {},
   "outputs": [],
   "source": [
    "import numpy as np\n",
    "import pandas as pd\n",
    "import matplotlib.pyplot as plt\n",
    "%matplotlib inline\n",
    "import seaborn as sns\n",
    "sns.set()"
   ]
  },
  {
   "cell_type": "code",
   "execution_count": 2,
   "id": "major-bracelet",
   "metadata": {},
   "outputs": [],
   "source": [
    "from sklearn.model_selection import train_test_split"
   ]
  },
  {
   "cell_type": "markdown",
   "id": "amateur-latter",
   "metadata": {},
   "source": [
    "# Import Data"
   ]
  },
  {
   "cell_type": "code",
   "execution_count": 3,
   "id": "trying-terry",
   "metadata": {},
   "outputs": [
    {
     "name": "stderr",
     "output_type": "stream",
     "text": [
      "C:\\Users\\YizhiZhang\\anaconda3\\lib\\site-packages\\IPython\\core\\interactiveshell.py:3156: DtypeWarning: Columns (20) have mixed types.Specify dtype option on import or set low_memory=False.\n",
      "  interactivity=interactivity, compiler=compiler, result=result)\n"
     ]
    }
   ],
   "source": [
    "loan_data_backup = pd.read_csv('loan_data.csv')"
   ]
  },
  {
   "cell_type": "code",
   "execution_count": 4,
   "id": "reflected-toyota",
   "metadata": {},
   "outputs": [],
   "source": [
    "loan_data = loan_data_backup.copy()"
   ]
  },
  {
   "cell_type": "code",
   "execution_count": 5,
   "id": "brave-wallet",
   "metadata": {},
   "outputs": [],
   "source": [
    "pd.options.display.max_columns = None"
   ]
  },
  {
   "cell_type": "code",
   "execution_count": 6,
   "id": "charitable-paintball",
   "metadata": {
    "scrolled": false
   },
   "outputs": [
    {
     "data": {
      "text/html": [
       "<div>\n",
       "<style scoped>\n",
       "    .dataframe tbody tr th:only-of-type {\n",
       "        vertical-align: middle;\n",
       "    }\n",
       "\n",
       "    .dataframe tbody tr th {\n",
       "        vertical-align: top;\n",
       "    }\n",
       "\n",
       "    .dataframe thead th {\n",
       "        text-align: right;\n",
       "    }\n",
       "</style>\n",
       "<table border=\"1\" class=\"dataframe\">\n",
       "  <thead>\n",
       "    <tr style=\"text-align: right;\">\n",
       "      <th></th>\n",
       "      <th>Unnamed: 0</th>\n",
       "      <th>id</th>\n",
       "      <th>member_id</th>\n",
       "      <th>loan_amnt</th>\n",
       "      <th>funded_amnt</th>\n",
       "      <th>funded_amnt_inv</th>\n",
       "      <th>term</th>\n",
       "      <th>int_rate</th>\n",
       "      <th>installment</th>\n",
       "      <th>grade</th>\n",
       "      <th>sub_grade</th>\n",
       "      <th>emp_title</th>\n",
       "      <th>emp_length</th>\n",
       "      <th>home_ownership</th>\n",
       "      <th>annual_inc</th>\n",
       "      <th>verification_status</th>\n",
       "      <th>issue_d</th>\n",
       "      <th>loan_status</th>\n",
       "      <th>pymnt_plan</th>\n",
       "      <th>url</th>\n",
       "      <th>desc</th>\n",
       "      <th>purpose</th>\n",
       "      <th>title</th>\n",
       "      <th>zip_code</th>\n",
       "      <th>addr_state</th>\n",
       "      <th>dti</th>\n",
       "      <th>delinq_2yrs</th>\n",
       "      <th>earliest_cr_line</th>\n",
       "      <th>inq_last_6mths</th>\n",
       "      <th>mths_since_last_delinq</th>\n",
       "      <th>mths_since_last_record</th>\n",
       "      <th>open_acc</th>\n",
       "      <th>pub_rec</th>\n",
       "      <th>revol_bal</th>\n",
       "      <th>revol_util</th>\n",
       "      <th>total_acc</th>\n",
       "      <th>initial_list_status</th>\n",
       "      <th>out_prncp</th>\n",
       "      <th>out_prncp_inv</th>\n",
       "      <th>total_pymnt</th>\n",
       "      <th>total_pymnt_inv</th>\n",
       "      <th>total_rec_prncp</th>\n",
       "      <th>total_rec_int</th>\n",
       "      <th>total_rec_late_fee</th>\n",
       "      <th>recoveries</th>\n",
       "      <th>collection_recovery_fee</th>\n",
       "      <th>last_pymnt_d</th>\n",
       "      <th>last_pymnt_amnt</th>\n",
       "      <th>next_pymnt_d</th>\n",
       "      <th>last_credit_pull_d</th>\n",
       "      <th>collections_12_mths_ex_med</th>\n",
       "      <th>mths_since_last_major_derog</th>\n",
       "      <th>policy_code</th>\n",
       "      <th>application_type</th>\n",
       "      <th>annual_inc_joint</th>\n",
       "      <th>dti_joint</th>\n",
       "      <th>verification_status_joint</th>\n",
       "      <th>acc_now_delinq</th>\n",
       "      <th>tot_coll_amt</th>\n",
       "      <th>tot_cur_bal</th>\n",
       "      <th>open_acc_6m</th>\n",
       "      <th>open_il_6m</th>\n",
       "      <th>open_il_12m</th>\n",
       "      <th>open_il_24m</th>\n",
       "      <th>mths_since_rcnt_il</th>\n",
       "      <th>total_bal_il</th>\n",
       "      <th>il_util</th>\n",
       "      <th>open_rv_12m</th>\n",
       "      <th>open_rv_24m</th>\n",
       "      <th>max_bal_bc</th>\n",
       "      <th>all_util</th>\n",
       "      <th>total_rev_hi_lim</th>\n",
       "      <th>inq_fi</th>\n",
       "      <th>total_cu_tl</th>\n",
       "      <th>inq_last_12m</th>\n",
       "    </tr>\n",
       "  </thead>\n",
       "  <tbody>\n",
       "    <tr>\n",
       "      <th>0</th>\n",
       "      <td>0</td>\n",
       "      <td>1077501</td>\n",
       "      <td>1296599</td>\n",
       "      <td>5000</td>\n",
       "      <td>5000</td>\n",
       "      <td>4975.0</td>\n",
       "      <td>36 months</td>\n",
       "      <td>10.65</td>\n",
       "      <td>162.87</td>\n",
       "      <td>B</td>\n",
       "      <td>B2</td>\n",
       "      <td>NaN</td>\n",
       "      <td>10+ years</td>\n",
       "      <td>RENT</td>\n",
       "      <td>24000.0</td>\n",
       "      <td>Verified</td>\n",
       "      <td>Dec-11</td>\n",
       "      <td>Fully Paid</td>\n",
       "      <td>n</td>\n",
       "      <td>https://www.lendingclub.com/browse/loanDetail....</td>\n",
       "      <td>Borrower added on 12/22/11 &gt; I need to upgra...</td>\n",
       "      <td>credit_card</td>\n",
       "      <td>Computer</td>\n",
       "      <td>860xx</td>\n",
       "      <td>AZ</td>\n",
       "      <td>27.65</td>\n",
       "      <td>0.0</td>\n",
       "      <td>Jan-85</td>\n",
       "      <td>1.0</td>\n",
       "      <td>NaN</td>\n",
       "      <td>NaN</td>\n",
       "      <td>3.0</td>\n",
       "      <td>0.0</td>\n",
       "      <td>13648</td>\n",
       "      <td>83.7</td>\n",
       "      <td>9.0</td>\n",
       "      <td>f</td>\n",
       "      <td>0.0</td>\n",
       "      <td>0.0</td>\n",
       "      <td>5861.071414</td>\n",
       "      <td>5831.78</td>\n",
       "      <td>5000.00</td>\n",
       "      <td>861.07</td>\n",
       "      <td>0.00</td>\n",
       "      <td>0.00</td>\n",
       "      <td>0.00</td>\n",
       "      <td>Jan-15</td>\n",
       "      <td>171.62</td>\n",
       "      <td>NaN</td>\n",
       "      <td>Jan-16</td>\n",
       "      <td>0.0</td>\n",
       "      <td>NaN</td>\n",
       "      <td>1</td>\n",
       "      <td>INDIVIDUAL</td>\n",
       "      <td>NaN</td>\n",
       "      <td>NaN</td>\n",
       "      <td>NaN</td>\n",
       "      <td>0.0</td>\n",
       "      <td>NaN</td>\n",
       "      <td>NaN</td>\n",
       "      <td>NaN</td>\n",
       "      <td>NaN</td>\n",
       "      <td>NaN</td>\n",
       "      <td>NaN</td>\n",
       "      <td>NaN</td>\n",
       "      <td>NaN</td>\n",
       "      <td>NaN</td>\n",
       "      <td>NaN</td>\n",
       "      <td>NaN</td>\n",
       "      <td>NaN</td>\n",
       "      <td>NaN</td>\n",
       "      <td>NaN</td>\n",
       "      <td>NaN</td>\n",
       "      <td>NaN</td>\n",
       "      <td>NaN</td>\n",
       "    </tr>\n",
       "    <tr>\n",
       "      <th>1</th>\n",
       "      <td>1</td>\n",
       "      <td>1077430</td>\n",
       "      <td>1314167</td>\n",
       "      <td>2500</td>\n",
       "      <td>2500</td>\n",
       "      <td>2500.0</td>\n",
       "      <td>60 months</td>\n",
       "      <td>15.27</td>\n",
       "      <td>59.83</td>\n",
       "      <td>C</td>\n",
       "      <td>C4</td>\n",
       "      <td>Ryder</td>\n",
       "      <td>&lt; 1 year</td>\n",
       "      <td>RENT</td>\n",
       "      <td>30000.0</td>\n",
       "      <td>Source Verified</td>\n",
       "      <td>Dec-11</td>\n",
       "      <td>Charged Off</td>\n",
       "      <td>n</td>\n",
       "      <td>https://www.lendingclub.com/browse/loanDetail....</td>\n",
       "      <td>Borrower added on 12/22/11 &gt; I plan to use t...</td>\n",
       "      <td>car</td>\n",
       "      <td>bike</td>\n",
       "      <td>309xx</td>\n",
       "      <td>GA</td>\n",
       "      <td>1.00</td>\n",
       "      <td>0.0</td>\n",
       "      <td>Apr-99</td>\n",
       "      <td>5.0</td>\n",
       "      <td>NaN</td>\n",
       "      <td>NaN</td>\n",
       "      <td>3.0</td>\n",
       "      <td>0.0</td>\n",
       "      <td>1687</td>\n",
       "      <td>9.4</td>\n",
       "      <td>4.0</td>\n",
       "      <td>f</td>\n",
       "      <td>0.0</td>\n",
       "      <td>0.0</td>\n",
       "      <td>1008.710000</td>\n",
       "      <td>1008.71</td>\n",
       "      <td>456.46</td>\n",
       "      <td>435.17</td>\n",
       "      <td>0.00</td>\n",
       "      <td>117.08</td>\n",
       "      <td>1.11</td>\n",
       "      <td>Apr-13</td>\n",
       "      <td>119.66</td>\n",
       "      <td>NaN</td>\n",
       "      <td>Sep-13</td>\n",
       "      <td>0.0</td>\n",
       "      <td>NaN</td>\n",
       "      <td>1</td>\n",
       "      <td>INDIVIDUAL</td>\n",
       "      <td>NaN</td>\n",
       "      <td>NaN</td>\n",
       "      <td>NaN</td>\n",
       "      <td>0.0</td>\n",
       "      <td>NaN</td>\n",
       "      <td>NaN</td>\n",
       "      <td>NaN</td>\n",
       "      <td>NaN</td>\n",
       "      <td>NaN</td>\n",
       "      <td>NaN</td>\n",
       "      <td>NaN</td>\n",
       "      <td>NaN</td>\n",
       "      <td>NaN</td>\n",
       "      <td>NaN</td>\n",
       "      <td>NaN</td>\n",
       "      <td>NaN</td>\n",
       "      <td>NaN</td>\n",
       "      <td>NaN</td>\n",
       "      <td>NaN</td>\n",
       "      <td>NaN</td>\n",
       "      <td>NaN</td>\n",
       "    </tr>\n",
       "    <tr>\n",
       "      <th>2</th>\n",
       "      <td>2</td>\n",
       "      <td>1077175</td>\n",
       "      <td>1313524</td>\n",
       "      <td>2400</td>\n",
       "      <td>2400</td>\n",
       "      <td>2400.0</td>\n",
       "      <td>36 months</td>\n",
       "      <td>15.96</td>\n",
       "      <td>84.33</td>\n",
       "      <td>C</td>\n",
       "      <td>C5</td>\n",
       "      <td>NaN</td>\n",
       "      <td>10+ years</td>\n",
       "      <td>RENT</td>\n",
       "      <td>12252.0</td>\n",
       "      <td>Not Verified</td>\n",
       "      <td>Dec-11</td>\n",
       "      <td>Fully Paid</td>\n",
       "      <td>n</td>\n",
       "      <td>https://www.lendingclub.com/browse/loanDetail....</td>\n",
       "      <td>NaN</td>\n",
       "      <td>small_business</td>\n",
       "      <td>real estate business</td>\n",
       "      <td>606xx</td>\n",
       "      <td>IL</td>\n",
       "      <td>8.72</td>\n",
       "      <td>0.0</td>\n",
       "      <td>Nov-01</td>\n",
       "      <td>2.0</td>\n",
       "      <td>NaN</td>\n",
       "      <td>NaN</td>\n",
       "      <td>2.0</td>\n",
       "      <td>0.0</td>\n",
       "      <td>2956</td>\n",
       "      <td>98.5</td>\n",
       "      <td>10.0</td>\n",
       "      <td>f</td>\n",
       "      <td>0.0</td>\n",
       "      <td>0.0</td>\n",
       "      <td>3003.653644</td>\n",
       "      <td>3003.65</td>\n",
       "      <td>2400.00</td>\n",
       "      <td>603.65</td>\n",
       "      <td>0.00</td>\n",
       "      <td>0.00</td>\n",
       "      <td>0.00</td>\n",
       "      <td>Jun-14</td>\n",
       "      <td>649.91</td>\n",
       "      <td>NaN</td>\n",
       "      <td>Jan-16</td>\n",
       "      <td>0.0</td>\n",
       "      <td>NaN</td>\n",
       "      <td>1</td>\n",
       "      <td>INDIVIDUAL</td>\n",
       "      <td>NaN</td>\n",
       "      <td>NaN</td>\n",
       "      <td>NaN</td>\n",
       "      <td>0.0</td>\n",
       "      <td>NaN</td>\n",
       "      <td>NaN</td>\n",
       "      <td>NaN</td>\n",
       "      <td>NaN</td>\n",
       "      <td>NaN</td>\n",
       "      <td>NaN</td>\n",
       "      <td>NaN</td>\n",
       "      <td>NaN</td>\n",
       "      <td>NaN</td>\n",
       "      <td>NaN</td>\n",
       "      <td>NaN</td>\n",
       "      <td>NaN</td>\n",
       "      <td>NaN</td>\n",
       "      <td>NaN</td>\n",
       "      <td>NaN</td>\n",
       "      <td>NaN</td>\n",
       "      <td>NaN</td>\n",
       "    </tr>\n",
       "    <tr>\n",
       "      <th>3</th>\n",
       "      <td>3</td>\n",
       "      <td>1076863</td>\n",
       "      <td>1277178</td>\n",
       "      <td>10000</td>\n",
       "      <td>10000</td>\n",
       "      <td>10000.0</td>\n",
       "      <td>36 months</td>\n",
       "      <td>13.49</td>\n",
       "      <td>339.31</td>\n",
       "      <td>C</td>\n",
       "      <td>C1</td>\n",
       "      <td>AIR RESOURCES BOARD</td>\n",
       "      <td>10+ years</td>\n",
       "      <td>RENT</td>\n",
       "      <td>49200.0</td>\n",
       "      <td>Source Verified</td>\n",
       "      <td>Dec-11</td>\n",
       "      <td>Fully Paid</td>\n",
       "      <td>n</td>\n",
       "      <td>https://www.lendingclub.com/browse/loanDetail....</td>\n",
       "      <td>Borrower added on 12/21/11 &gt; to pay for prop...</td>\n",
       "      <td>other</td>\n",
       "      <td>personel</td>\n",
       "      <td>917xx</td>\n",
       "      <td>CA</td>\n",
       "      <td>20.00</td>\n",
       "      <td>0.0</td>\n",
       "      <td>Feb-96</td>\n",
       "      <td>1.0</td>\n",
       "      <td>35.0</td>\n",
       "      <td>NaN</td>\n",
       "      <td>10.0</td>\n",
       "      <td>0.0</td>\n",
       "      <td>5598</td>\n",
       "      <td>21.0</td>\n",
       "      <td>37.0</td>\n",
       "      <td>f</td>\n",
       "      <td>0.0</td>\n",
       "      <td>0.0</td>\n",
       "      <td>12226.302210</td>\n",
       "      <td>12226.30</td>\n",
       "      <td>10000.00</td>\n",
       "      <td>2209.33</td>\n",
       "      <td>16.97</td>\n",
       "      <td>0.00</td>\n",
       "      <td>0.00</td>\n",
       "      <td>Jan-15</td>\n",
       "      <td>357.48</td>\n",
       "      <td>NaN</td>\n",
       "      <td>Jan-15</td>\n",
       "      <td>0.0</td>\n",
       "      <td>NaN</td>\n",
       "      <td>1</td>\n",
       "      <td>INDIVIDUAL</td>\n",
       "      <td>NaN</td>\n",
       "      <td>NaN</td>\n",
       "      <td>NaN</td>\n",
       "      <td>0.0</td>\n",
       "      <td>NaN</td>\n",
       "      <td>NaN</td>\n",
       "      <td>NaN</td>\n",
       "      <td>NaN</td>\n",
       "      <td>NaN</td>\n",
       "      <td>NaN</td>\n",
       "      <td>NaN</td>\n",
       "      <td>NaN</td>\n",
       "      <td>NaN</td>\n",
       "      <td>NaN</td>\n",
       "      <td>NaN</td>\n",
       "      <td>NaN</td>\n",
       "      <td>NaN</td>\n",
       "      <td>NaN</td>\n",
       "      <td>NaN</td>\n",
       "      <td>NaN</td>\n",
       "      <td>NaN</td>\n",
       "    </tr>\n",
       "    <tr>\n",
       "      <th>4</th>\n",
       "      <td>4</td>\n",
       "      <td>1075358</td>\n",
       "      <td>1311748</td>\n",
       "      <td>3000</td>\n",
       "      <td>3000</td>\n",
       "      <td>3000.0</td>\n",
       "      <td>60 months</td>\n",
       "      <td>12.69</td>\n",
       "      <td>67.79</td>\n",
       "      <td>B</td>\n",
       "      <td>B5</td>\n",
       "      <td>University Medical Group</td>\n",
       "      <td>1 year</td>\n",
       "      <td>RENT</td>\n",
       "      <td>80000.0</td>\n",
       "      <td>Source Verified</td>\n",
       "      <td>Dec-11</td>\n",
       "      <td>Current</td>\n",
       "      <td>n</td>\n",
       "      <td>https://www.lendingclub.com/browse/loanDetail....</td>\n",
       "      <td>Borrower added on 12/21/11 &gt; I plan on combi...</td>\n",
       "      <td>other</td>\n",
       "      <td>Personal</td>\n",
       "      <td>972xx</td>\n",
       "      <td>OR</td>\n",
       "      <td>17.94</td>\n",
       "      <td>0.0</td>\n",
       "      <td>Jan-96</td>\n",
       "      <td>0.0</td>\n",
       "      <td>38.0</td>\n",
       "      <td>NaN</td>\n",
       "      <td>15.0</td>\n",
       "      <td>0.0</td>\n",
       "      <td>27783</td>\n",
       "      <td>53.9</td>\n",
       "      <td>38.0</td>\n",
       "      <td>f</td>\n",
       "      <td>766.9</td>\n",
       "      <td>766.9</td>\n",
       "      <td>3242.170000</td>\n",
       "      <td>3242.17</td>\n",
       "      <td>2233.10</td>\n",
       "      <td>1009.07</td>\n",
       "      <td>0.00</td>\n",
       "      <td>0.00</td>\n",
       "      <td>0.00</td>\n",
       "      <td>Jan-16</td>\n",
       "      <td>67.79</td>\n",
       "      <td>Feb-16</td>\n",
       "      <td>Jan-16</td>\n",
       "      <td>0.0</td>\n",
       "      <td>NaN</td>\n",
       "      <td>1</td>\n",
       "      <td>INDIVIDUAL</td>\n",
       "      <td>NaN</td>\n",
       "      <td>NaN</td>\n",
       "      <td>NaN</td>\n",
       "      <td>0.0</td>\n",
       "      <td>NaN</td>\n",
       "      <td>NaN</td>\n",
       "      <td>NaN</td>\n",
       "      <td>NaN</td>\n",
       "      <td>NaN</td>\n",
       "      <td>NaN</td>\n",
       "      <td>NaN</td>\n",
       "      <td>NaN</td>\n",
       "      <td>NaN</td>\n",
       "      <td>NaN</td>\n",
       "      <td>NaN</td>\n",
       "      <td>NaN</td>\n",
       "      <td>NaN</td>\n",
       "      <td>NaN</td>\n",
       "      <td>NaN</td>\n",
       "      <td>NaN</td>\n",
       "      <td>NaN</td>\n",
       "    </tr>\n",
       "  </tbody>\n",
       "</table>\n",
       "</div>"
      ],
      "text/plain": [
       "   Unnamed: 0       id  member_id  loan_amnt  funded_amnt  funded_amnt_inv  \\\n",
       "0           0  1077501    1296599       5000         5000           4975.0   \n",
       "1           1  1077430    1314167       2500         2500           2500.0   \n",
       "2           2  1077175    1313524       2400         2400           2400.0   \n",
       "3           3  1076863    1277178      10000        10000          10000.0   \n",
       "4           4  1075358    1311748       3000         3000           3000.0   \n",
       "\n",
       "         term  int_rate  installment grade sub_grade  \\\n",
       "0   36 months     10.65       162.87     B        B2   \n",
       "1   60 months     15.27        59.83     C        C4   \n",
       "2   36 months     15.96        84.33     C        C5   \n",
       "3   36 months     13.49       339.31     C        C1   \n",
       "4   60 months     12.69        67.79     B        B5   \n",
       "\n",
       "                  emp_title emp_length home_ownership  annual_inc  \\\n",
       "0                       NaN  10+ years           RENT     24000.0   \n",
       "1                     Ryder   < 1 year           RENT     30000.0   \n",
       "2                       NaN  10+ years           RENT     12252.0   \n",
       "3       AIR RESOURCES BOARD  10+ years           RENT     49200.0   \n",
       "4  University Medical Group     1 year           RENT     80000.0   \n",
       "\n",
       "  verification_status issue_d  loan_status pymnt_plan  \\\n",
       "0            Verified  Dec-11   Fully Paid          n   \n",
       "1     Source Verified  Dec-11  Charged Off          n   \n",
       "2        Not Verified  Dec-11   Fully Paid          n   \n",
       "3     Source Verified  Dec-11   Fully Paid          n   \n",
       "4     Source Verified  Dec-11      Current          n   \n",
       "\n",
       "                                                 url  \\\n",
       "0  https://www.lendingclub.com/browse/loanDetail....   \n",
       "1  https://www.lendingclub.com/browse/loanDetail....   \n",
       "2  https://www.lendingclub.com/browse/loanDetail....   \n",
       "3  https://www.lendingclub.com/browse/loanDetail....   \n",
       "4  https://www.lendingclub.com/browse/loanDetail....   \n",
       "\n",
       "                                                desc         purpose  \\\n",
       "0    Borrower added on 12/22/11 > I need to upgra...     credit_card   \n",
       "1    Borrower added on 12/22/11 > I plan to use t...             car   \n",
       "2                                                NaN  small_business   \n",
       "3    Borrower added on 12/21/11 > to pay for prop...           other   \n",
       "4    Borrower added on 12/21/11 > I plan on combi...           other   \n",
       "\n",
       "                  title zip_code addr_state    dti  delinq_2yrs  \\\n",
       "0              Computer    860xx         AZ  27.65          0.0   \n",
       "1                  bike    309xx         GA   1.00          0.0   \n",
       "2  real estate business    606xx         IL   8.72          0.0   \n",
       "3              personel    917xx         CA  20.00          0.0   \n",
       "4              Personal    972xx         OR  17.94          0.0   \n",
       "\n",
       "  earliest_cr_line  inq_last_6mths  mths_since_last_delinq  \\\n",
       "0           Jan-85             1.0                     NaN   \n",
       "1           Apr-99             5.0                     NaN   \n",
       "2           Nov-01             2.0                     NaN   \n",
       "3           Feb-96             1.0                    35.0   \n",
       "4           Jan-96             0.0                    38.0   \n",
       "\n",
       "   mths_since_last_record  open_acc  pub_rec  revol_bal  revol_util  \\\n",
       "0                     NaN       3.0      0.0      13648        83.7   \n",
       "1                     NaN       3.0      0.0       1687         9.4   \n",
       "2                     NaN       2.0      0.0       2956        98.5   \n",
       "3                     NaN      10.0      0.0       5598        21.0   \n",
       "4                     NaN      15.0      0.0      27783        53.9   \n",
       "\n",
       "   total_acc initial_list_status  out_prncp  out_prncp_inv   total_pymnt  \\\n",
       "0        9.0                   f        0.0            0.0   5861.071414   \n",
       "1        4.0                   f        0.0            0.0   1008.710000   \n",
       "2       10.0                   f        0.0            0.0   3003.653644   \n",
       "3       37.0                   f        0.0            0.0  12226.302210   \n",
       "4       38.0                   f      766.9          766.9   3242.170000   \n",
       "\n",
       "   total_pymnt_inv  total_rec_prncp  total_rec_int  total_rec_late_fee  \\\n",
       "0          5831.78          5000.00         861.07                0.00   \n",
       "1          1008.71           456.46         435.17                0.00   \n",
       "2          3003.65          2400.00         603.65                0.00   \n",
       "3         12226.30         10000.00        2209.33               16.97   \n",
       "4          3242.17          2233.10        1009.07                0.00   \n",
       "\n",
       "   recoveries  collection_recovery_fee last_pymnt_d  last_pymnt_amnt  \\\n",
       "0        0.00                     0.00       Jan-15           171.62   \n",
       "1      117.08                     1.11       Apr-13           119.66   \n",
       "2        0.00                     0.00       Jun-14           649.91   \n",
       "3        0.00                     0.00       Jan-15           357.48   \n",
       "4        0.00                     0.00       Jan-16            67.79   \n",
       "\n",
       "  next_pymnt_d last_credit_pull_d  collections_12_mths_ex_med  \\\n",
       "0          NaN             Jan-16                         0.0   \n",
       "1          NaN             Sep-13                         0.0   \n",
       "2          NaN             Jan-16                         0.0   \n",
       "3          NaN             Jan-15                         0.0   \n",
       "4       Feb-16             Jan-16                         0.0   \n",
       "\n",
       "   mths_since_last_major_derog  policy_code application_type  \\\n",
       "0                          NaN            1       INDIVIDUAL   \n",
       "1                          NaN            1       INDIVIDUAL   \n",
       "2                          NaN            1       INDIVIDUAL   \n",
       "3                          NaN            1       INDIVIDUAL   \n",
       "4                          NaN            1       INDIVIDUAL   \n",
       "\n",
       "   annual_inc_joint  dti_joint  verification_status_joint  acc_now_delinq  \\\n",
       "0               NaN        NaN                        NaN             0.0   \n",
       "1               NaN        NaN                        NaN             0.0   \n",
       "2               NaN        NaN                        NaN             0.0   \n",
       "3               NaN        NaN                        NaN             0.0   \n",
       "4               NaN        NaN                        NaN             0.0   \n",
       "\n",
       "   tot_coll_amt  tot_cur_bal  open_acc_6m  open_il_6m  open_il_12m  \\\n",
       "0           NaN          NaN          NaN         NaN          NaN   \n",
       "1           NaN          NaN          NaN         NaN          NaN   \n",
       "2           NaN          NaN          NaN         NaN          NaN   \n",
       "3           NaN          NaN          NaN         NaN          NaN   \n",
       "4           NaN          NaN          NaN         NaN          NaN   \n",
       "\n",
       "   open_il_24m  mths_since_rcnt_il  total_bal_il  il_util  open_rv_12m  \\\n",
       "0          NaN                 NaN           NaN      NaN          NaN   \n",
       "1          NaN                 NaN           NaN      NaN          NaN   \n",
       "2          NaN                 NaN           NaN      NaN          NaN   \n",
       "3          NaN                 NaN           NaN      NaN          NaN   \n",
       "4          NaN                 NaN           NaN      NaN          NaN   \n",
       "\n",
       "   open_rv_24m  max_bal_bc  all_util  total_rev_hi_lim  inq_fi  total_cu_tl  \\\n",
       "0          NaN         NaN       NaN               NaN     NaN          NaN   \n",
       "1          NaN         NaN       NaN               NaN     NaN          NaN   \n",
       "2          NaN         NaN       NaN               NaN     NaN          NaN   \n",
       "3          NaN         NaN       NaN               NaN     NaN          NaN   \n",
       "4          NaN         NaN       NaN               NaN     NaN          NaN   \n",
       "\n",
       "   inq_last_12m  \n",
       "0           NaN  \n",
       "1           NaN  \n",
       "2           NaN  \n",
       "3           NaN  \n",
       "4           NaN  "
      ]
     },
     "execution_count": 6,
     "metadata": {},
     "output_type": "execute_result"
    }
   ],
   "source": [
    "loan_data.head()"
   ]
  },
  {
   "cell_type": "code",
   "execution_count": 7,
   "id": "scheduled-spice",
   "metadata": {},
   "outputs": [
    {
     "data": {
      "text/plain": [
       "array(['Unnamed: 0', 'id', 'member_id', 'loan_amnt', 'funded_amnt',\n",
       "       'funded_amnt_inv', 'term', 'int_rate', 'installment', 'grade',\n",
       "       'sub_grade', 'emp_title', 'emp_length', 'home_ownership',\n",
       "       'annual_inc', 'verification_status', 'issue_d', 'loan_status',\n",
       "       'pymnt_plan', 'url', 'desc', 'purpose', 'title', 'zip_code',\n",
       "       'addr_state', 'dti', 'delinq_2yrs', 'earliest_cr_line',\n",
       "       'inq_last_6mths', 'mths_since_last_delinq',\n",
       "       'mths_since_last_record', 'open_acc', 'pub_rec', 'revol_bal',\n",
       "       'revol_util', 'total_acc', 'initial_list_status', 'out_prncp',\n",
       "       'out_prncp_inv', 'total_pymnt', 'total_pymnt_inv',\n",
       "       'total_rec_prncp', 'total_rec_int', 'total_rec_late_fee',\n",
       "       'recoveries', 'collection_recovery_fee', 'last_pymnt_d',\n",
       "       'last_pymnt_amnt', 'next_pymnt_d', 'last_credit_pull_d',\n",
       "       'collections_12_mths_ex_med', 'mths_since_last_major_derog',\n",
       "       'policy_code', 'application_type', 'annual_inc_joint', 'dti_joint',\n",
       "       'verification_status_joint', 'acc_now_delinq', 'tot_coll_amt',\n",
       "       'tot_cur_bal', 'open_acc_6m', 'open_il_6m', 'open_il_12m',\n",
       "       'open_il_24m', 'mths_since_rcnt_il', 'total_bal_il', 'il_util',\n",
       "       'open_rv_12m', 'open_rv_24m', 'max_bal_bc', 'all_util',\n",
       "       'total_rev_hi_lim', 'inq_fi', 'total_cu_tl', 'inq_last_12m'],\n",
       "      dtype=object)"
      ]
     },
     "execution_count": 7,
     "metadata": {},
     "output_type": "execute_result"
    }
   ],
   "source": [
    "loan_data.columns.values"
   ]
  },
  {
   "cell_type": "code",
   "execution_count": 8,
   "id": "indian-tobacco",
   "metadata": {},
   "outputs": [
    {
     "name": "stdout",
     "output_type": "stream",
     "text": [
      "<class 'pandas.core.frame.DataFrame'>\n",
      "RangeIndex: 466285 entries, 0 to 466284\n",
      "Data columns (total 75 columns):\n",
      " #   Column                       Non-Null Count   Dtype  \n",
      "---  ------                       --------------   -----  \n",
      " 0   Unnamed: 0                   466285 non-null  int64  \n",
      " 1   id                           466285 non-null  int64  \n",
      " 2   member_id                    466285 non-null  int64  \n",
      " 3   loan_amnt                    466285 non-null  int64  \n",
      " 4   funded_amnt                  466285 non-null  int64  \n",
      " 5   funded_amnt_inv              466285 non-null  float64\n",
      " 6   term                         466285 non-null  object \n",
      " 7   int_rate                     466285 non-null  float64\n",
      " 8   installment                  466285 non-null  float64\n",
      " 9   grade                        466285 non-null  object \n",
      " 10  sub_grade                    466285 non-null  object \n",
      " 11  emp_title                    438697 non-null  object \n",
      " 12  emp_length                   445277 non-null  object \n",
      " 13  home_ownership               466285 non-null  object \n",
      " 14  annual_inc                   466281 non-null  float64\n",
      " 15  verification_status          466285 non-null  object \n",
      " 16  issue_d                      466285 non-null  object \n",
      " 17  loan_status                  466285 non-null  object \n",
      " 18  pymnt_plan                   466285 non-null  object \n",
      " 19  url                          466285 non-null  object \n",
      " 20  desc                         125983 non-null  object \n",
      " 21  purpose                      466285 non-null  object \n",
      " 22  title                        466265 non-null  object \n",
      " 23  zip_code                     466285 non-null  object \n",
      " 24  addr_state                   466285 non-null  object \n",
      " 25  dti                          466285 non-null  float64\n",
      " 26  delinq_2yrs                  466256 non-null  float64\n",
      " 27  earliest_cr_line             466256 non-null  object \n",
      " 28  inq_last_6mths               466256 non-null  float64\n",
      " 29  mths_since_last_delinq       215934 non-null  float64\n",
      " 30  mths_since_last_record       62638 non-null   float64\n",
      " 31  open_acc                     466256 non-null  float64\n",
      " 32  pub_rec                      466256 non-null  float64\n",
      " 33  revol_bal                    466285 non-null  int64  \n",
      " 34  revol_util                   465945 non-null  float64\n",
      " 35  total_acc                    466256 non-null  float64\n",
      " 36  initial_list_status          466285 non-null  object \n",
      " 37  out_prncp                    466285 non-null  float64\n",
      " 38  out_prncp_inv                466285 non-null  float64\n",
      " 39  total_pymnt                  466285 non-null  float64\n",
      " 40  total_pymnt_inv              466285 non-null  float64\n",
      " 41  total_rec_prncp              466285 non-null  float64\n",
      " 42  total_rec_int                466285 non-null  float64\n",
      " 43  total_rec_late_fee           466285 non-null  float64\n",
      " 44  recoveries                   466285 non-null  float64\n",
      " 45  collection_recovery_fee      466285 non-null  float64\n",
      " 46  last_pymnt_d                 465909 non-null  object \n",
      " 47  last_pymnt_amnt              466285 non-null  float64\n",
      " 48  next_pymnt_d                 239071 non-null  object \n",
      " 49  last_credit_pull_d           466243 non-null  object \n",
      " 50  collections_12_mths_ex_med   466140 non-null  float64\n",
      " 51  mths_since_last_major_derog  98974 non-null   float64\n",
      " 52  policy_code                  466285 non-null  int64  \n",
      " 53  application_type             466285 non-null  object \n",
      " 54  annual_inc_joint             0 non-null       float64\n",
      " 55  dti_joint                    0 non-null       float64\n",
      " 56  verification_status_joint    0 non-null       float64\n",
      " 57  acc_now_delinq               466256 non-null  float64\n",
      " 58  tot_coll_amt                 396009 non-null  float64\n",
      " 59  tot_cur_bal                  396009 non-null  float64\n",
      " 60  open_acc_6m                  0 non-null       float64\n",
      " 61  open_il_6m                   0 non-null       float64\n",
      " 62  open_il_12m                  0 non-null       float64\n",
      " 63  open_il_24m                  0 non-null       float64\n",
      " 64  mths_since_rcnt_il           0 non-null       float64\n",
      " 65  total_bal_il                 0 non-null       float64\n",
      " 66  il_util                      0 non-null       float64\n",
      " 67  open_rv_12m                  0 non-null       float64\n",
      " 68  open_rv_24m                  0 non-null       float64\n",
      " 69  max_bal_bc                   0 non-null       float64\n",
      " 70  all_util                     0 non-null       float64\n",
      " 71  total_rev_hi_lim             396009 non-null  float64\n",
      " 72  inq_fi                       0 non-null       float64\n",
      " 73  total_cu_tl                  0 non-null       float64\n",
      " 74  inq_last_12m                 0 non-null       float64\n",
      "dtypes: float64(46), int64(7), object(22)\n",
      "memory usage: 266.8+ MB\n"
     ]
    }
   ],
   "source": [
    "loan_data.info()"
   ]
  },
  {
   "cell_type": "markdown",
   "id": "possible-silence",
   "metadata": {},
   "source": [
    "# General Processing"
   ]
  },
  {
   "cell_type": "markdown",
   "id": "floral-youth",
   "metadata": {},
   "source": [
    "## Preprocessing few continuous variables"
   ]
  },
  {
   "cell_type": "markdown",
   "id": "standing-timeline",
   "metadata": {},
   "source": [
    "### Turn 'emp_length' to float"
   ]
  },
  {
   "cell_type": "code",
   "execution_count": 9,
   "id": "cosmetic-excess",
   "metadata": {},
   "outputs": [
    {
     "data": {
      "text/plain": [
       "array(['10+ years', '< 1 year', '1 year', '3 years', '8 years', '9 years',\n",
       "       '4 years', '5 years', '6 years', '2 years', '7 years', nan],\n",
       "      dtype=object)"
      ]
     },
     "execution_count": 9,
     "metadata": {},
     "output_type": "execute_result"
    }
   ],
   "source": [
    "loan_data['emp_length'].unique()"
   ]
  },
  {
   "cell_type": "code",
   "execution_count": 10,
   "id": "composite-ethernet",
   "metadata": {},
   "outputs": [
    {
     "name": "stderr",
     "output_type": "stream",
     "text": [
      "C:\\Users\\YizhiZhang\\anaconda3\\lib\\site-packages\\ipykernel_launcher.py:1: FutureWarning: The default value of regex will change from True to False in a future version.\n",
      "  \"\"\"Entry point for launching an IPython kernel.\n"
     ]
    }
   ],
   "source": [
    "loan_data['emp_length_int'] = loan_data['emp_length'].str.replace('\\+ years', '')\n",
    "loan_data['emp_length_int'] = loan_data['emp_length_int'].str.replace('< 1 year', str(0))\n",
    "loan_data['emp_length_int'] = loan_data['emp_length_int'].str.replace(' years', '')\n",
    "loan_data['emp_length_int'] = loan_data['emp_length_int'].str.replace(' year', '')\n",
    "loan_data['emp_length_int'] = loan_data['emp_length_int'].str.replace('n/a', str(0))"
   ]
  },
  {
   "cell_type": "code",
   "execution_count": 11,
   "id": "controversial-initial",
   "metadata": {},
   "outputs": [
    {
     "data": {
      "text/plain": [
       "0    10\n",
       "1     0\n",
       "2    10\n",
       "3    10\n",
       "4     1\n",
       "5     3\n",
       "6     8\n",
       "7     9\n",
       "8     4\n",
       "9     0\n",
       "Name: emp_length_int, dtype: object"
      ]
     },
     "execution_count": 11,
     "metadata": {},
     "output_type": "execute_result"
    }
   ],
   "source": [
    "loan_data['emp_length_int'].head(10)"
   ]
  },
  {
   "cell_type": "code",
   "execution_count": 12,
   "id": "recent-monte",
   "metadata": {},
   "outputs": [],
   "source": [
    "loan_data['emp_length_int'] = pd.to_numeric(loan_data['emp_length_int'])"
   ]
  },
  {
   "cell_type": "code",
   "execution_count": 13,
   "id": "registered-witch",
   "metadata": {},
   "outputs": [
    {
     "data": {
      "text/plain": [
       "numpy.float64"
      ]
     },
     "execution_count": 13,
     "metadata": {},
     "output_type": "execute_result"
    }
   ],
   "source": [
    "type(loan_data['emp_length_int'][0])"
   ]
  },
  {
   "cell_type": "code",
   "execution_count": 14,
   "id": "advance-nerve",
   "metadata": {},
   "outputs": [
    {
     "data": {
      "text/plain": [
       "array([10.,  0.,  1.,  3.,  8.,  9.,  4.,  5.,  6.,  2.,  7., nan])"
      ]
     },
     "execution_count": 14,
     "metadata": {},
     "output_type": "execute_result"
    }
   ],
   "source": [
    "loan_data['emp_length_int'].unique()"
   ]
  },
  {
   "cell_type": "code",
   "execution_count": 15,
   "id": "later-quilt",
   "metadata": {},
   "outputs": [
    {
     "data": {
      "text/plain": [
       "21008"
      ]
     },
     "execution_count": 15,
     "metadata": {},
     "output_type": "execute_result"
    }
   ],
   "source": [
    "loan_data['emp_length_int'].isnull().sum()"
   ]
  },
  {
   "cell_type": "markdown",
   "id": "based-specification",
   "metadata": {},
   "source": [
    "### Turn 'term' into int"
   ]
  },
  {
   "cell_type": "code",
   "execution_count": 16,
   "id": "according-accountability",
   "metadata": {},
   "outputs": [
    {
     "data": {
      "text/plain": [
       "array([' 36 months', ' 60 months'], dtype=object)"
      ]
     },
     "execution_count": 16,
     "metadata": {},
     "output_type": "execute_result"
    }
   ],
   "source": [
    "loan_data['term'].unique()"
   ]
  },
  {
   "cell_type": "code",
   "execution_count": 17,
   "id": "organizational-trash",
   "metadata": {},
   "outputs": [],
   "source": [
    "loan_data['term_int'] = loan_data['term'].str.split(expand=True)[0]"
   ]
  },
  {
   "cell_type": "code",
   "execution_count": 18,
   "id": "floral-sugar",
   "metadata": {},
   "outputs": [],
   "source": [
    "loan_data['term_int'] = pd.to_numeric(loan_data['term_int'])"
   ]
  },
  {
   "cell_type": "code",
   "execution_count": 19,
   "id": "later-france",
   "metadata": {},
   "outputs": [
    {
     "data": {
      "text/plain": [
       "array([36, 60], dtype=int64)"
      ]
     },
     "execution_count": 19,
     "metadata": {},
     "output_type": "execute_result"
    }
   ],
   "source": [
    "loan_data['term_int'].unique()"
   ]
  },
  {
   "cell_type": "markdown",
   "id": "norwegian-intermediate",
   "metadata": {},
   "source": [
    "### Turn 'earliest_cr_line' and '' into months since"
   ]
  },
  {
   "cell_type": "code",
   "execution_count": 20,
   "id": "instrumental-economics",
   "metadata": {},
   "outputs": [
    {
     "data": {
      "text/plain": [
       "0    Jan-85\n",
       "1    Apr-99\n",
       "2    Nov-01\n",
       "3    Feb-96\n",
       "4    Jan-96\n",
       "Name: earliest_cr_line, dtype: object"
      ]
     },
     "execution_count": 20,
     "metadata": {},
     "output_type": "execute_result"
    }
   ],
   "source": [
    "loan_data['earliest_cr_line'].head()"
   ]
  },
  {
   "cell_type": "code",
   "execution_count": 21,
   "id": "useful-shield",
   "metadata": {},
   "outputs": [],
   "source": [
    "loan_data['earliest_cr_line_date'] = pd.to_datetime(loan_data['earliest_cr_line'], format='%b-%y')"
   ]
  },
  {
   "cell_type": "code",
   "execution_count": 22,
   "id": "uniform-minutes",
   "metadata": {},
   "outputs": [
    {
     "data": {
      "text/plain": [
       "0   1985-01-01\n",
       "1   1999-04-01\n",
       "2   2001-11-01\n",
       "3   1996-02-01\n",
       "4   1996-01-01\n",
       "Name: earliest_cr_line_date, dtype: datetime64[ns]"
      ]
     },
     "execution_count": 22,
     "metadata": {},
     "output_type": "execute_result"
    }
   ],
   "source": [
    "loan_data['earliest_cr_line_date'].head()"
   ]
  },
  {
   "cell_type": "code",
   "execution_count": 23,
   "id": "bizarre-beatles",
   "metadata": {},
   "outputs": [],
   "source": [
    "# date = pd.datetime.today()\n",
    "date = pd.to_datetime('2017-12-01')"
   ]
  },
  {
   "cell_type": "code",
   "execution_count": 24,
   "id": "buried-sound",
   "metadata": {},
   "outputs": [
    {
     "data": {
      "text/plain": [
       "0   12022 days\n",
       "1    6819 days\n",
       "2    5874 days\n",
       "3    7974 days\n",
       "4    8005 days\n",
       "Name: earliest_cr_line_date, dtype: timedelta64[ns]"
      ]
     },
     "execution_count": 24,
     "metadata": {},
     "output_type": "execute_result"
    }
   ],
   "source": [
    "date - loan_data['earliest_cr_line_date'].head()"
   ]
  },
  {
   "cell_type": "code",
   "execution_count": 26,
   "id": "increased-rochester",
   "metadata": {},
   "outputs": [],
   "source": [
    "loan_data['mths_since_earliest_cr_line'] = round(pd.to_numeric((date - loan_data['earliest_cr_line_date']) / np.timedelta64(1,'M')))"
   ]
  },
  {
   "cell_type": "code",
   "execution_count": 27,
   "id": "available-starter",
   "metadata": {},
   "outputs": [
    {
     "data": {
      "text/plain": [
       "count    466256.000000\n",
       "mean        239.482430\n",
       "std          93.974829\n",
       "min        -612.000000\n",
       "25%         183.000000\n",
       "50%         225.000000\n",
       "75%         285.000000\n",
       "max         587.000000\n",
       "Name: mths_since_earliest_cr_line, dtype: float64"
      ]
     },
     "execution_count": 27,
     "metadata": {},
     "output_type": "execute_result"
    }
   ],
   "source": [
    "loan_data['mths_since_earliest_cr_line'].describe()"
   ]
  },
  {
   "cell_type": "code",
   "execution_count": 28,
   "id": "other-increase",
   "metadata": {},
   "outputs": [
    {
     "data": {
      "text/html": [
       "<div>\n",
       "<style scoped>\n",
       "    .dataframe tbody tr th:only-of-type {\n",
       "        vertical-align: middle;\n",
       "    }\n",
       "\n",
       "    .dataframe tbody tr th {\n",
       "        vertical-align: top;\n",
       "    }\n",
       "\n",
       "    .dataframe thead th {\n",
       "        text-align: right;\n",
       "    }\n",
       "</style>\n",
       "<table border=\"1\" class=\"dataframe\">\n",
       "  <thead>\n",
       "    <tr style=\"text-align: right;\">\n",
       "      <th></th>\n",
       "      <th>earliest_cr_line</th>\n",
       "      <th>earliest_cr_line_date</th>\n",
       "      <th>mths_since_earliest_cr_line</th>\n",
       "    </tr>\n",
       "  </thead>\n",
       "  <tbody>\n",
       "    <tr>\n",
       "      <th>1580</th>\n",
       "      <td>Sep-62</td>\n",
       "      <td>2062-09-01</td>\n",
       "      <td>-537.0</td>\n",
       "    </tr>\n",
       "    <tr>\n",
       "      <th>1770</th>\n",
       "      <td>Sep-68</td>\n",
       "      <td>2068-09-01</td>\n",
       "      <td>-609.0</td>\n",
       "    </tr>\n",
       "    <tr>\n",
       "      <th>2799</th>\n",
       "      <td>Sep-64</td>\n",
       "      <td>2064-09-01</td>\n",
       "      <td>-561.0</td>\n",
       "    </tr>\n",
       "    <tr>\n",
       "      <th>3282</th>\n",
       "      <td>Sep-67</td>\n",
       "      <td>2067-09-01</td>\n",
       "      <td>-597.0</td>\n",
       "    </tr>\n",
       "    <tr>\n",
       "      <th>3359</th>\n",
       "      <td>Feb-65</td>\n",
       "      <td>2065-02-01</td>\n",
       "      <td>-566.0</td>\n",
       "    </tr>\n",
       "    <tr>\n",
       "      <th>...</th>\n",
       "      <td>...</td>\n",
       "      <td>...</td>\n",
       "      <td>...</td>\n",
       "    </tr>\n",
       "    <tr>\n",
       "      <th>464003</th>\n",
       "      <td>Jan-68</td>\n",
       "      <td>2068-01-01</td>\n",
       "      <td>-601.0</td>\n",
       "    </tr>\n",
       "    <tr>\n",
       "      <th>464260</th>\n",
       "      <td>Jul-66</td>\n",
       "      <td>2066-07-01</td>\n",
       "      <td>-583.0</td>\n",
       "    </tr>\n",
       "    <tr>\n",
       "      <th>465100</th>\n",
       "      <td>Oct-67</td>\n",
       "      <td>2067-10-01</td>\n",
       "      <td>-598.0</td>\n",
       "    </tr>\n",
       "    <tr>\n",
       "      <th>465500</th>\n",
       "      <td>Sep-67</td>\n",
       "      <td>2067-09-01</td>\n",
       "      <td>-597.0</td>\n",
       "    </tr>\n",
       "    <tr>\n",
       "      <th>465655</th>\n",
       "      <td>Jan-56</td>\n",
       "      <td>2056-01-01</td>\n",
       "      <td>-457.0</td>\n",
       "    </tr>\n",
       "  </tbody>\n",
       "</table>\n",
       "<p>1169 rows × 3 columns</p>\n",
       "</div>"
      ],
      "text/plain": [
       "       earliest_cr_line earliest_cr_line_date  mths_since_earliest_cr_line\n",
       "1580             Sep-62            2062-09-01                       -537.0\n",
       "1770             Sep-68            2068-09-01                       -609.0\n",
       "2799             Sep-64            2064-09-01                       -561.0\n",
       "3282             Sep-67            2067-09-01                       -597.0\n",
       "3359             Feb-65            2065-02-01                       -566.0\n",
       "...                 ...                   ...                          ...\n",
       "464003           Jan-68            2068-01-01                       -601.0\n",
       "464260           Jul-66            2066-07-01                       -583.0\n",
       "465100           Oct-67            2067-10-01                       -598.0\n",
       "465500           Sep-67            2067-09-01                       -597.0\n",
       "465655           Jan-56            2056-01-01                       -457.0\n",
       "\n",
       "[1169 rows x 3 columns]"
      ]
     },
     "execution_count": 28,
     "metadata": {},
     "output_type": "execute_result"
    }
   ],
   "source": [
    "loan_data.loc[:,['earliest_cr_line','earliest_cr_line_date','mths_since_earliest_cr_line']][loan_data['mths_since_earliest_cr_line']<0]"
   ]
  },
  {
   "cell_type": "code",
   "execution_count": 29,
   "id": "sonic-block",
   "metadata": {},
   "outputs": [
    {
     "name": "stderr",
     "output_type": "stream",
     "text": [
      "C:\\Users\\YizhiZhang\\anaconda3\\lib\\site-packages\\ipykernel_launcher.py:1: SettingWithCopyWarning: \n",
      "A value is trying to be set on a copy of a slice from a DataFrame\n",
      "\n",
      "See the caveats in the documentation: https://pandas.pydata.org/pandas-docs/stable/user_guide/indexing.html#returning-a-view-versus-a-copy\n",
      "  \"\"\"Entry point for launching an IPython kernel.\n"
     ]
    }
   ],
   "source": [
    "loan_data['mths_since_earliest_cr_line'][loan_data['mths_since_earliest_cr_line']<0] = loan_data['mths_since_earliest_cr_line'].max() "
   ]
  },
  {
   "cell_type": "code",
   "execution_count": 30,
   "id": "dimensional-conspiracy",
   "metadata": {},
   "outputs": [
    {
     "data": {
      "text/plain": [
       "73.0"
      ]
     },
     "execution_count": 30,
     "metadata": {},
     "output_type": "execute_result"
    }
   ],
   "source": [
    "min(loan_data['mths_since_earliest_cr_line'])"
   ]
  },
  {
   "cell_type": "markdown",
   "id": "advisory-request",
   "metadata": {},
   "source": [
    "### Turn 'issue_d' and '' into timestamp"
   ]
  },
  {
   "cell_type": "markdown",
   "id": "automated-nepal",
   "metadata": {},
   "source": [
    "In this homework, your task is to preprocess the ‘term’ variable and the ‘issue_d’ variable, similarly to the ‘employment length’ variable and the ‘earliest credit line variable’ we preprocessed in the last lecture. 1. From the variable ‘term’, which is of object (text string) data type, create a new variable, named ‘term_int’, which is numeric and contains the term of the loan in months. Tips: First remove the unnecessary text from each row; then, turn what remains into a numeric variable. 2. From the variable ‘issue date’ (‘issue_d’), which is of object (text string) data type, create a new variable, named ‘mths_since_issue_d’ (‘months since issue date’). Tips: First turn the test strings into dates; then calculate the difference between December 1st 2017 and each of the issue dates, in months; finally, check if the values make sense."
   ]
  },
  {
   "cell_type": "code",
   "execution_count": 31,
   "id": "distinct-indianapolis",
   "metadata": {},
   "outputs": [
    {
     "data": {
      "text/plain": [
       "0        1900-12-11\n",
       "1        1900-12-11\n",
       "2        1900-12-11\n",
       "3        1900-12-11\n",
       "4        1900-12-11\n",
       "            ...    \n",
       "466280   1900-01-14\n",
       "466281   1900-01-14\n",
       "466282   1900-01-14\n",
       "466283   1900-01-14\n",
       "466284   1900-01-14\n",
       "Name: issue_d, Length: 466285, dtype: datetime64[ns]"
      ]
     },
     "execution_count": 31,
     "metadata": {},
     "output_type": "execute_result"
    }
   ],
   "source": [
    "pd.to_datetime(loan_data['issue_d'], format='%b-%d')"
   ]
  },
  {
   "cell_type": "markdown",
   "id": "immediate-mortgage",
   "metadata": {},
   "source": [
    "### Dummy discrete variables"
   ]
  },
  {
   "cell_type": "code",
   "execution_count": 32,
   "id": "impressive-planning",
   "metadata": {},
   "outputs": [
    {
     "data": {
      "text/plain": [
       "array(['Unnamed: 0', 'id', 'member_id', 'loan_amnt', 'funded_amnt',\n",
       "       'funded_amnt_inv', 'term', 'int_rate', 'installment', 'grade',\n",
       "       'sub_grade', 'emp_title', 'emp_length', 'home_ownership',\n",
       "       'annual_inc', 'verification_status', 'issue_d', 'loan_status',\n",
       "       'pymnt_plan', 'url', 'desc', 'purpose', 'title', 'zip_code',\n",
       "       'addr_state', 'dti', 'delinq_2yrs', 'earliest_cr_line',\n",
       "       'inq_last_6mths', 'mths_since_last_delinq',\n",
       "       'mths_since_last_record', 'open_acc', 'pub_rec', 'revol_bal',\n",
       "       'revol_util', 'total_acc', 'initial_list_status', 'out_prncp',\n",
       "       'out_prncp_inv', 'total_pymnt', 'total_pymnt_inv',\n",
       "       'total_rec_prncp', 'total_rec_int', 'total_rec_late_fee',\n",
       "       'recoveries', 'collection_recovery_fee', 'last_pymnt_d',\n",
       "       'last_pymnt_amnt', 'next_pymnt_d', 'last_credit_pull_d',\n",
       "       'collections_12_mths_ex_med', 'mths_since_last_major_derog',\n",
       "       'policy_code', 'application_type', 'annual_inc_joint', 'dti_joint',\n",
       "       'verification_status_joint', 'acc_now_delinq', 'tot_coll_amt',\n",
       "       'tot_cur_bal', 'open_acc_6m', 'open_il_6m', 'open_il_12m',\n",
       "       'open_il_24m', 'mths_since_rcnt_il', 'total_bal_il', 'il_util',\n",
       "       'open_rv_12m', 'open_rv_24m', 'max_bal_bc', 'all_util',\n",
       "       'total_rev_hi_lim', 'inq_fi', 'total_cu_tl', 'inq_last_12m',\n",
       "       'emp_length_int', 'term_int', 'earliest_cr_line_date',\n",
       "       'mths_since_earliest_cr_line'], dtype=object)"
      ]
     },
     "execution_count": 32,
     "metadata": {},
     "output_type": "execute_result"
    }
   ],
   "source": [
    "loan_data.columns.values"
   ]
  },
  {
   "cell_type": "code",
   "execution_count": 33,
   "id": "floral-edgar",
   "metadata": {},
   "outputs": [
    {
     "data": {
      "text/plain": [
       "0    B\n",
       "1    C\n",
       "2    C\n",
       "3    C\n",
       "4    B\n",
       "Name: grade, dtype: object"
      ]
     },
     "execution_count": 33,
     "metadata": {},
     "output_type": "execute_result"
    }
   ],
   "source": [
    "loan_data['grade'].head()"
   ]
  },
  {
   "cell_type": "code",
   "execution_count": 34,
   "id": "expected-superior",
   "metadata": {},
   "outputs": [],
   "source": [
    "loan_data_dummies = pd.get_dummies(loan_data['grade'], prefix = 'grade', prefix_sep=':')"
   ]
  },
  {
   "cell_type": "code",
   "execution_count": 35,
   "id": "confused-water",
   "metadata": {},
   "outputs": [],
   "source": [
    "loan_data_dummies = [\n",
    "    pd.get_dummies(loan_data['grade'], prefix = 'grade', prefix_sep=':'),\n",
    "    pd.get_dummies(loan_data['sub_grade'], prefix = 'sub_grade', prefix_sep=':'),\n",
    "    pd.get_dummies(loan_data['home_ownership'], prefix = 'home_ownership', prefix_sep=':'),\n",
    "    pd.get_dummies(loan_data['verification_status'], prefix = 'verification_status', prefix_sep=':'),\n",
    "    pd.get_dummies(loan_data['loan_status'], prefix = 'loan_status', prefix_sep=':'),\n",
    "    pd.get_dummies(loan_data['purpose'], prefix = 'purpose', prefix_sep=':'),\n",
    "    pd.get_dummies(loan_data['addr_state'], prefix = 'addr_state', prefix_sep=':'),\n",
    "    pd.get_dummies(loan_data['initial_list_status'], prefix = 'initial_list_status', prefix_sep=':')\n",
    "]"
   ]
  },
  {
   "cell_type": "code",
   "execution_count": 36,
   "id": "organized-falls",
   "metadata": {},
   "outputs": [],
   "source": [
    "loan_data_dummies = pd.concat(loan_data_dummies, axis=1)"
   ]
  },
  {
   "cell_type": "code",
   "execution_count": 37,
   "id": "sixth-construction",
   "metadata": {
    "scrolled": true
   },
   "outputs": [
    {
     "data": {
      "text/plain": [
       "pandas.core.frame.DataFrame"
      ]
     },
     "execution_count": 37,
     "metadata": {},
     "output_type": "execute_result"
    }
   ],
   "source": [
    "type(loan_data_dummies)"
   ]
  },
  {
   "cell_type": "code",
   "execution_count": 38,
   "id": "constitutional-tuning",
   "metadata": {},
   "outputs": [],
   "source": [
    "loan_data = pd.concat([loan_data, loan_data_dummies], axis=1)"
   ]
  },
  {
   "cell_type": "code",
   "execution_count": 39,
   "id": "electoral-winner",
   "metadata": {
    "scrolled": true
   },
   "outputs": [
    {
     "data": {
      "text/plain": [
       "array(['Unnamed: 0', 'id', 'member_id', 'loan_amnt', 'funded_amnt',\n",
       "       'funded_amnt_inv', 'term', 'int_rate', 'installment', 'grade',\n",
       "       'sub_grade', 'emp_title', 'emp_length', 'home_ownership',\n",
       "       'annual_inc', 'verification_status', 'issue_d', 'loan_status',\n",
       "       'pymnt_plan', 'url', 'desc', 'purpose', 'title', 'zip_code',\n",
       "       'addr_state', 'dti', 'delinq_2yrs', 'earliest_cr_line',\n",
       "       'inq_last_6mths', 'mths_since_last_delinq',\n",
       "       'mths_since_last_record', 'open_acc', 'pub_rec', 'revol_bal',\n",
       "       'revol_util', 'total_acc', 'initial_list_status', 'out_prncp',\n",
       "       'out_prncp_inv', 'total_pymnt', 'total_pymnt_inv',\n",
       "       'total_rec_prncp', 'total_rec_int', 'total_rec_late_fee',\n",
       "       'recoveries', 'collection_recovery_fee', 'last_pymnt_d',\n",
       "       'last_pymnt_amnt', 'next_pymnt_d', 'last_credit_pull_d',\n",
       "       'collections_12_mths_ex_med', 'mths_since_last_major_derog',\n",
       "       'policy_code', 'application_type', 'annual_inc_joint', 'dti_joint',\n",
       "       'verification_status_joint', 'acc_now_delinq', 'tot_coll_amt',\n",
       "       'tot_cur_bal', 'open_acc_6m', 'open_il_6m', 'open_il_12m',\n",
       "       'open_il_24m', 'mths_since_rcnt_il', 'total_bal_il', 'il_util',\n",
       "       'open_rv_12m', 'open_rv_24m', 'max_bal_bc', 'all_util',\n",
       "       'total_rev_hi_lim', 'inq_fi', 'total_cu_tl', 'inq_last_12m',\n",
       "       'emp_length_int', 'term_int', 'earliest_cr_line_date',\n",
       "       'mths_since_earliest_cr_line', 'grade:A', 'grade:B', 'grade:C',\n",
       "       'grade:D', 'grade:E', 'grade:F', 'grade:G', 'sub_grade:A1',\n",
       "       'sub_grade:A2', 'sub_grade:A3', 'sub_grade:A4', 'sub_grade:A5',\n",
       "       'sub_grade:B1', 'sub_grade:B2', 'sub_grade:B3', 'sub_grade:B4',\n",
       "       'sub_grade:B5', 'sub_grade:C1', 'sub_grade:C2', 'sub_grade:C3',\n",
       "       'sub_grade:C4', 'sub_grade:C5', 'sub_grade:D1', 'sub_grade:D2',\n",
       "       'sub_grade:D3', 'sub_grade:D4', 'sub_grade:D5', 'sub_grade:E1',\n",
       "       'sub_grade:E2', 'sub_grade:E3', 'sub_grade:E4', 'sub_grade:E5',\n",
       "       'sub_grade:F1', 'sub_grade:F2', 'sub_grade:F3', 'sub_grade:F4',\n",
       "       'sub_grade:F5', 'sub_grade:G1', 'sub_grade:G2', 'sub_grade:G3',\n",
       "       'sub_grade:G4', 'sub_grade:G5', 'home_ownership:ANY',\n",
       "       'home_ownership:MORTGAGE', 'home_ownership:NONE',\n",
       "       'home_ownership:OTHER', 'home_ownership:OWN',\n",
       "       'home_ownership:RENT', 'verification_status:Not Verified',\n",
       "       'verification_status:Source Verified',\n",
       "       'verification_status:Verified', 'loan_status:Charged Off',\n",
       "       'loan_status:Current', 'loan_status:Default',\n",
       "       'loan_status:Does not meet the credit policy. Status:Charged Off',\n",
       "       'loan_status:Does not meet the credit policy. Status:Fully Paid',\n",
       "       'loan_status:Fully Paid', 'loan_status:In Grace Period',\n",
       "       'loan_status:Late (16-30 days)', 'loan_status:Late (31-120 days)',\n",
       "       'purpose:car', 'purpose:credit_card', 'purpose:debt_consolidation',\n",
       "       'purpose:educational', 'purpose:home_improvement', 'purpose:house',\n",
       "       'purpose:major_purchase', 'purpose:medical', 'purpose:moving',\n",
       "       'purpose:other', 'purpose:renewable_energy',\n",
       "       'purpose:small_business', 'purpose:vacation', 'purpose:wedding',\n",
       "       'addr_state:AK', 'addr_state:AL', 'addr_state:AR', 'addr_state:AZ',\n",
       "       'addr_state:CA', 'addr_state:CO', 'addr_state:CT', 'addr_state:DC',\n",
       "       'addr_state:DE', 'addr_state:FL', 'addr_state:GA', 'addr_state:HI',\n",
       "       'addr_state:IA', 'addr_state:ID', 'addr_state:IL', 'addr_state:IN',\n",
       "       'addr_state:KS', 'addr_state:KY', 'addr_state:LA', 'addr_state:MA',\n",
       "       'addr_state:MD', 'addr_state:ME', 'addr_state:MI', 'addr_state:MN',\n",
       "       'addr_state:MO', 'addr_state:MS', 'addr_state:MT', 'addr_state:NC',\n",
       "       'addr_state:NE', 'addr_state:NH', 'addr_state:NJ', 'addr_state:NM',\n",
       "       'addr_state:NV', 'addr_state:NY', 'addr_state:OH', 'addr_state:OK',\n",
       "       'addr_state:OR', 'addr_state:PA', 'addr_state:RI', 'addr_state:SC',\n",
       "       'addr_state:SD', 'addr_state:TN', 'addr_state:TX', 'addr_state:UT',\n",
       "       'addr_state:VA', 'addr_state:VT', 'addr_state:WA', 'addr_state:WI',\n",
       "       'addr_state:WV', 'addr_state:WY', 'initial_list_status:f',\n",
       "       'initial_list_status:w'], dtype=object)"
      ]
     },
     "execution_count": 39,
     "metadata": {},
     "output_type": "execute_result"
    }
   ],
   "source": [
    "loan_data.columns.values"
   ]
  },
  {
   "cell_type": "code",
   "execution_count": 40,
   "id": "dominican-semiconductor",
   "metadata": {},
   "outputs": [],
   "source": [
    "pd.options.display.max_rows = 100"
   ]
  },
  {
   "cell_type": "code",
   "execution_count": 41,
   "id": "consistent-elevation",
   "metadata": {},
   "outputs": [
    {
     "data": {
      "text/plain": [
       "array([     0,      0,      0,      0,      0,      0,      0,      0,\n",
       "            0,      0,      0,  27588,  21008,      0,      4,      0,\n",
       "            0,      0,      0,      0, 340302,      0,     20,      0,\n",
       "            0,      0,     29,     29,     29, 250351, 403647,     29,\n",
       "           29,      0,    340,     29,      0,      0,      0,      0,\n",
       "            0,      0,      0,      0,      0,      0,    376,      0,\n",
       "       227214,     42,    145, 367311,      0,      0, 466285, 466285,\n",
       "       466285,     29,  70276,  70276, 466285, 466285, 466285, 466285,\n",
       "       466285, 466285, 466285, 466285, 466285, 466285, 466285,  70276,\n",
       "       466285, 466285, 466285,  21008,      0,     29,     29,      0,\n",
       "            0,      0,      0,      0,      0,      0,      0,      0,\n",
       "            0,      0,      0,      0,      0,      0,      0,      0,\n",
       "            0,      0,      0,      0,      0,      0,      0,      0,\n",
       "            0,      0,      0,      0,      0,      0,      0,      0,\n",
       "            0,      0,      0,      0,      0,      0,      0,      0,\n",
       "            0,      0,      0,      0,      0,      0,      0,      0,\n",
       "            0,      0,      0,      0,      0,      0,      0,      0,\n",
       "            0,      0,      0,      0,      0,      0,      0,      0,\n",
       "            0,      0,      0,      0,      0,      0,      0,      0,\n",
       "            0,      0,      0,      0,      0,      0,      0,      0,\n",
       "            0,      0,      0,      0,      0,      0,      0,      0,\n",
       "            0,      0,      0,      0,      0,      0,      0,      0,\n",
       "            0,      0,      0,      0,      0,      0,      0,      0,\n",
       "            0,      0,      0,      0,      0,      0,      0,      0,\n",
       "            0,      0,      0,      0,      0,      0,      0,      0,\n",
       "            0,      0,      0,      0,      0], dtype=int64)"
      ]
     },
     "execution_count": 41,
     "metadata": {},
     "output_type": "execute_result"
    }
   ],
   "source": [
    "loan_data.isnull().sum().values"
   ]
  },
  {
   "cell_type": "code",
   "execution_count": 42,
   "id": "fresh-encyclopedia",
   "metadata": {
    "scrolled": false
   },
   "outputs": [
    {
     "data": {
      "text/plain": [
       "Unnamed: 0               0.0\n",
       "id                       0.0\n",
       "member_id                0.0\n",
       "loan_amnt                0.0\n",
       "funded_amnt              0.0\n",
       "                        ... \n",
       "addr_state:WI            0.0\n",
       "addr_state:WV            0.0\n",
       "addr_state:WY            0.0\n",
       "initial_list_status:f    0.0\n",
       "initial_list_status:w    0.0\n",
       "Length: 205, dtype: float64"
      ]
     },
     "execution_count": 42,
     "metadata": {},
     "output_type": "execute_result"
    }
   ],
   "source": [
    "loan_data.isnull().sum() /loan_data.shape[0]"
   ]
  },
  {
   "cell_type": "code",
   "execution_count": 43,
   "id": "infinite-camera",
   "metadata": {},
   "outputs": [],
   "source": [
    "loan_data['total_rev_hi_lim'].fillna(loan_data['funded_amnt'], inplace = True)"
   ]
  },
  {
   "cell_type": "code",
   "execution_count": 44,
   "id": "younger-mother",
   "metadata": {},
   "outputs": [
    {
     "data": {
      "text/plain": [
       "0"
      ]
     },
     "execution_count": 44,
     "metadata": {},
     "output_type": "execute_result"
    }
   ],
   "source": [
    "loan_data['total_rev_hi_lim'].isnull().sum()"
   ]
  },
  {
   "cell_type": "markdown",
   "id": "loose-vinyl",
   "metadata": {},
   "source": [
    "In this homework, your task is to fill in the missing values for the remaining variables we are going to use in our models. Here are the instructions about what values to replace the missing values with for the remaining variables. 1. For annual income (‘annual_inc’), replace the missing values with the mean of the non-missing values of the variable. 2. For all of the following variables, replace the missing values with zeroes: ‘mths_since_earliest_cr_line’ ‘acc_now_delinq’ ‘total_acc’ ‘pub_rec’ ‘open_acc’ ‘inq_last_6mths’ ‘delinq_2yrs’ ‘emp_length_int’"
   ]
  },
  {
   "cell_type": "code",
   "execution_count": 45,
   "id": "anticipated-decline",
   "metadata": {},
   "outputs": [
    {
     "data": {
      "text/plain": [
       "4"
      ]
     },
     "execution_count": 45,
     "metadata": {},
     "output_type": "execute_result"
    }
   ],
   "source": [
    "loan_data['annual_inc'].isnull().sum()"
   ]
  },
  {
   "cell_type": "code",
   "execution_count": 46,
   "id": "stuffed-truck",
   "metadata": {},
   "outputs": [],
   "source": [
    "loan_data['annual_inc'].fillna(loan_data['annual_inc'].mean(), inplace=True)"
   ]
  },
  {
   "cell_type": "code",
   "execution_count": 47,
   "id": "annual-honduras",
   "metadata": {},
   "outputs": [
    {
     "data": {
      "text/plain": [
       "0"
      ]
     },
     "execution_count": 47,
     "metadata": {},
     "output_type": "execute_result"
    }
   ],
   "source": [
    "loan_data['annual_inc'].isnull().sum()"
   ]
  },
  {
   "cell_type": "code",
   "execution_count": 48,
   "id": "professional-still",
   "metadata": {},
   "outputs": [],
   "source": [
    "loan_data.update(loan_data[['mths_since_earliest_cr_line', 'acc_now_delinq', 'total_acc','pub_rec','open_acc','inq_last_6mths','delinq_2yrs','emp_length_int']].fillna(0))"
   ]
  },
  {
   "cell_type": "code",
   "execution_count": 49,
   "id": "republican-dispute",
   "metadata": {},
   "outputs": [
    {
     "data": {
      "text/plain": [
       "mths_since_earliest_cr_line    0\n",
       "acc_now_delinq                 0\n",
       "total_acc                      0\n",
       "pub_rec                        0\n",
       "open_acc                       0\n",
       "inq_last_6mths                 0\n",
       "delinq_2yrs                    0\n",
       "emp_length_int                 0\n",
       "dtype: int64"
      ]
     },
     "execution_count": 49,
     "metadata": {},
     "output_type": "execute_result"
    }
   ],
   "source": [
    "loan_data[['mths_since_earliest_cr_line', 'acc_now_delinq', 'total_acc','pub_rec','open_acc','inq_last_6mths','delinq_2yrs','emp_length_int']].isnull().sum()"
   ]
  },
  {
   "cell_type": "markdown",
   "id": "competent-immigration",
   "metadata": {},
   "source": [
    "create good/bad definition"
   ]
  },
  {
   "cell_type": "code",
   "execution_count": 50,
   "id": "remarkable-monitor",
   "metadata": {},
   "outputs": [
    {
     "data": {
      "text/plain": [
       "array(['Fully Paid', 'Charged Off', 'Current', 'Default',\n",
       "       'Late (31-120 days)', 'In Grace Period', 'Late (16-30 days)',\n",
       "       'Does not meet the credit policy. Status:Fully Paid',\n",
       "       'Does not meet the credit policy. Status:Charged Off'],\n",
       "      dtype=object)"
      ]
     },
     "execution_count": 50,
     "metadata": {},
     "output_type": "execute_result"
    }
   ],
   "source": [
    "loan_data['loan_status'].unique()"
   ]
  },
  {
   "cell_type": "code",
   "execution_count": 51,
   "id": "ethical-median",
   "metadata": {},
   "outputs": [
    {
     "data": {
      "text/plain": [
       "Current                                                0.480878\n",
       "Fully Paid                                             0.396193\n",
       "Charged Off                                            0.091092\n",
       "Late (31-120 days)                                     0.014798\n",
       "In Grace Period                                        0.006747\n",
       "Does not meet the credit policy. Status:Fully Paid     0.004263\n",
       "Late (16-30 days)                                      0.002612\n",
       "Default                                                0.001784\n",
       "Does not meet the credit policy. Status:Charged Off    0.001632\n",
       "Name: loan_status, dtype: float64"
      ]
     },
     "execution_count": 51,
     "metadata": {},
     "output_type": "execute_result"
    }
   ],
   "source": [
    "loan_data['loan_status'].value_counts()/loan_data['loan_status'].count()"
   ]
  },
  {
   "cell_type": "code",
   "execution_count": 52,
   "id": "concerned-celebrity",
   "metadata": {},
   "outputs": [],
   "source": [
    "loan_data['good_bad'] =np.where(loan_data['loan_status'].isin(['Charged Off','Default',\n",
    "                                                              'Does not meet the credit policy. Status:Charged Off',\n",
    "                                                              'Late (31-120 days)']),0,1)"
   ]
  },
  {
   "cell_type": "code",
   "execution_count": 53,
   "id": "independent-survival",
   "metadata": {
    "scrolled": false
   },
   "outputs": [
    {
     "data": {
      "text/plain": [
       "array([1, 0])"
      ]
     },
     "execution_count": 53,
     "metadata": {},
     "output_type": "execute_result"
    }
   ],
   "source": [
    "loan_data['good_bad'].unique()"
   ]
  },
  {
   "cell_type": "markdown",
   "id": "comprehensive-fancy",
   "metadata": {},
   "source": [
    "Independent Variables into dummies according to **WoE**\n",
    "\n",
    "fine classing -> WoE calculation -> Coarse classing\n",
    "\n",
    "# $\\text{WoE}_{i}=\\ln \\left(\\frac{\\%(y=1)_i}{\\%(y=0)_i}\\right)$\n",
    "\n",
    "Information Value (IF)\n",
    "\n",
    "# $\\text{IF} = \\sum_{i=1}^{k}\\left[\\left(\\%(y=1)_i-\\%(y=0)_i\\right)\\right]\\times\\text{WoE_i}$\n",
    "Suppose there are k categories for this variable. Either continuous after classing or discrete.\n",
    "\n",
    "More advanced methods: classing with WoE and sample size. abnormal values goes to the two side classes."
   ]
  },
  {
   "cell_type": "markdown",
   "id": "multiple-dependence",
   "metadata": {},
   "source": [
    "# splitting data"
   ]
  },
  {
   "cell_type": "code",
   "execution_count": 54,
   "id": "homeless-design",
   "metadata": {},
   "outputs": [
    {
     "ename": "ValueError",
     "evalue": "At least one array required as input",
     "output_type": "error",
     "traceback": [
      "\u001b[1;31m---------------------------------------------------------------------------\u001b[0m",
      "\u001b[1;31mValueError\u001b[0m                                Traceback (most recent call last)",
      "\u001b[1;32m<ipython-input-54-17075fc6fd4e>\u001b[0m in \u001b[0;36m<module>\u001b[1;34m\u001b[0m\n\u001b[1;32m----> 1\u001b[1;33m \u001b[0mtrain_test_split\u001b[0m\u001b[1;33m(\u001b[0m\u001b[1;33m)\u001b[0m\u001b[1;33m\u001b[0m\u001b[1;33m\u001b[0m\u001b[0m\n\u001b[0m",
      "\u001b[1;32m~\\anaconda3\\lib\\site-packages\\sklearn\\model_selection\\_split.py\u001b[0m in \u001b[0;36mtrain_test_split\u001b[1;34m(test_size, train_size, random_state, shuffle, stratify, *arrays)\u001b[0m\n\u001b[0;32m   2168\u001b[0m     \u001b[0mn_arrays\u001b[0m \u001b[1;33m=\u001b[0m \u001b[0mlen\u001b[0m\u001b[1;33m(\u001b[0m\u001b[0marrays\u001b[0m\u001b[1;33m)\u001b[0m\u001b[1;33m\u001b[0m\u001b[1;33m\u001b[0m\u001b[0m\n\u001b[0;32m   2169\u001b[0m     \u001b[1;32mif\u001b[0m \u001b[0mn_arrays\u001b[0m \u001b[1;33m==\u001b[0m \u001b[1;36m0\u001b[0m\u001b[1;33m:\u001b[0m\u001b[1;33m\u001b[0m\u001b[1;33m\u001b[0m\u001b[0m\n\u001b[1;32m-> 2170\u001b[1;33m         \u001b[1;32mraise\u001b[0m \u001b[0mValueError\u001b[0m\u001b[1;33m(\u001b[0m\u001b[1;34m\"At least one array required as input\"\u001b[0m\u001b[1;33m)\u001b[0m\u001b[1;33m\u001b[0m\u001b[1;33m\u001b[0m\u001b[0m\n\u001b[0m\u001b[0;32m   2171\u001b[0m \u001b[1;33m\u001b[0m\u001b[0m\n\u001b[0;32m   2172\u001b[0m     \u001b[0marrays\u001b[0m \u001b[1;33m=\u001b[0m \u001b[0mindexable\u001b[0m\u001b[1;33m(\u001b[0m\u001b[1;33m*\u001b[0m\u001b[0marrays\u001b[0m\u001b[1;33m)\u001b[0m\u001b[1;33m\u001b[0m\u001b[1;33m\u001b[0m\u001b[0m\n",
      "\u001b[1;31mValueError\u001b[0m: At least one array required as input"
     ]
    }
   ],
   "source": [
    "train_test_split()"
   ]
  },
  {
   "cell_type": "code",
   "execution_count": 55,
   "id": "driven-contest",
   "metadata": {},
   "outputs": [],
   "source": [
    "X_train, X_test, y_train, y_test = train_test_split(loan_data.drop('good_bad',axis=1), loan_data['good_bad'], test_size=0.2, random_state=42)"
   ]
  },
  {
   "cell_type": "code",
   "execution_count": 56,
   "id": "julian-layout",
   "metadata": {},
   "outputs": [
    {
     "data": {
      "text/plain": [
       "(373028, 205)"
      ]
     },
     "execution_count": 56,
     "metadata": {},
     "output_type": "execute_result"
    }
   ],
   "source": [
    "X_train.shape"
   ]
  },
  {
   "cell_type": "code",
   "execution_count": 57,
   "id": "wicked-charm",
   "metadata": {},
   "outputs": [
    {
     "data": {
      "text/plain": [
       "(93257, 205)"
      ]
     },
     "execution_count": 57,
     "metadata": {},
     "output_type": "execute_result"
    }
   ],
   "source": [
    "X_test.shape"
   ]
  },
  {
   "cell_type": "code",
   "execution_count": 58,
   "id": "accurate-diabetes",
   "metadata": {},
   "outputs": [],
   "source": [
    "df_inputs_pre = X_train\n",
    "df_targets_pre = y_train"
   ]
  },
  {
   "cell_type": "code",
   "execution_count": 59,
   "id": "hydraulic-spare",
   "metadata": {},
   "outputs": [
    {
     "data": {
      "text/plain": [
       "array(['A', 'C', 'D', 'B', 'E', 'F', 'G'], dtype=object)"
      ]
     },
     "execution_count": 59,
     "metadata": {},
     "output_type": "execute_result"
    }
   ],
   "source": [
    "df_inputs_pre['grade'].unique()"
   ]
  },
  {
   "cell_type": "code",
   "execution_count": 60,
   "id": "massive-pierre",
   "metadata": {},
   "outputs": [
    {
     "data": {
      "text/html": [
       "<div>\n",
       "<style scoped>\n",
       "    .dataframe tbody tr th:only-of-type {\n",
       "        vertical-align: middle;\n",
       "    }\n",
       "\n",
       "    .dataframe tbody tr th {\n",
       "        vertical-align: top;\n",
       "    }\n",
       "\n",
       "    .dataframe thead th {\n",
       "        text-align: right;\n",
       "    }\n",
       "</style>\n",
       "<table border=\"1\" class=\"dataframe\">\n",
       "  <thead>\n",
       "    <tr style=\"text-align: right;\">\n",
       "      <th></th>\n",
       "      <th>grade</th>\n",
       "      <th>good_bad</th>\n",
       "    </tr>\n",
       "  </thead>\n",
       "  <tbody>\n",
       "    <tr>\n",
       "      <th>427211</th>\n",
       "      <td>A</td>\n",
       "      <td>1</td>\n",
       "    </tr>\n",
       "    <tr>\n",
       "      <th>206088</th>\n",
       "      <td>C</td>\n",
       "      <td>1</td>\n",
       "    </tr>\n",
       "    <tr>\n",
       "      <th>136020</th>\n",
       "      <td>A</td>\n",
       "      <td>1</td>\n",
       "    </tr>\n",
       "    <tr>\n",
       "      <th>412305</th>\n",
       "      <td>D</td>\n",
       "      <td>0</td>\n",
       "    </tr>\n",
       "    <tr>\n",
       "      <th>36159</th>\n",
       "      <td>C</td>\n",
       "      <td>0</td>\n",
       "    </tr>\n",
       "  </tbody>\n",
       "</table>\n",
       "</div>"
      ],
      "text/plain": [
       "       grade  good_bad\n",
       "427211     A         1\n",
       "206088     C         1\n",
       "136020     A         1\n",
       "412305     D         0\n",
       "36159      C         0"
      ]
     },
     "execution_count": 60,
     "metadata": {},
     "output_type": "execute_result"
    }
   ],
   "source": [
    "df1 = pd.concat([df_inputs_pre['grade'], df_targets_pre],axis=1)\n",
    "df1.head()"
   ]
  },
  {
   "cell_type": "code",
   "execution_count": 61,
   "id": "civilian-pantyhose",
   "metadata": {},
   "outputs": [
    {
     "data": {
      "text/html": [
       "<div>\n",
       "<style scoped>\n",
       "    .dataframe tbody tr th:only-of-type {\n",
       "        vertical-align: middle;\n",
       "    }\n",
       "\n",
       "    .dataframe tbody tr th {\n",
       "        vertical-align: top;\n",
       "    }\n",
       "\n",
       "    .dataframe thead th {\n",
       "        text-align: right;\n",
       "    }\n",
       "</style>\n",
       "<table border=\"1\" class=\"dataframe\">\n",
       "  <thead>\n",
       "    <tr style=\"text-align: right;\">\n",
       "      <th></th>\n",
       "      <th>grade</th>\n",
       "      <th>good_bad</th>\n",
       "    </tr>\n",
       "  </thead>\n",
       "  <tbody>\n",
       "    <tr>\n",
       "      <th>0</th>\n",
       "      <td>A</td>\n",
       "      <td>59759</td>\n",
       "    </tr>\n",
       "    <tr>\n",
       "      <th>1</th>\n",
       "      <td>B</td>\n",
       "      <td>109730</td>\n",
       "    </tr>\n",
       "    <tr>\n",
       "      <th>2</th>\n",
       "      <td>C</td>\n",
       "      <td>100245</td>\n",
       "    </tr>\n",
       "    <tr>\n",
       "      <th>3</th>\n",
       "      <td>D</td>\n",
       "      <td>61498</td>\n",
       "    </tr>\n",
       "    <tr>\n",
       "      <th>4</th>\n",
       "      <td>E</td>\n",
       "      <td>28612</td>\n",
       "    </tr>\n",
       "    <tr>\n",
       "      <th>5</th>\n",
       "      <td>F</td>\n",
       "      <td>10530</td>\n",
       "    </tr>\n",
       "    <tr>\n",
       "      <th>6</th>\n",
       "      <td>G</td>\n",
       "      <td>2654</td>\n",
       "    </tr>\n",
       "  </tbody>\n",
       "</table>\n",
       "</div>"
      ],
      "text/plain": [
       "  grade  good_bad\n",
       "0     A     59759\n",
       "1     B    109730\n",
       "2     C    100245\n",
       "3     D     61498\n",
       "4     E     28612\n",
       "5     F     10530\n",
       "6     G      2654"
      ]
     },
     "execution_count": 61,
     "metadata": {},
     "output_type": "execute_result"
    }
   ],
   "source": [
    "df1.groupby(df1.columns.values[0], as_index=False)[df1.columns.values[1]].count()"
   ]
  },
  {
   "cell_type": "code",
   "execution_count": 62,
   "id": "loved-shadow",
   "metadata": {},
   "outputs": [
    {
     "data": {
      "text/html": [
       "<div>\n",
       "<style scoped>\n",
       "    .dataframe tbody tr th:only-of-type {\n",
       "        vertical-align: middle;\n",
       "    }\n",
       "\n",
       "    .dataframe tbody tr th {\n",
       "        vertical-align: top;\n",
       "    }\n",
       "\n",
       "    .dataframe thead th {\n",
       "        text-align: right;\n",
       "    }\n",
       "</style>\n",
       "<table border=\"1\" class=\"dataframe\">\n",
       "  <thead>\n",
       "    <tr style=\"text-align: right;\">\n",
       "      <th></th>\n",
       "      <th>grade</th>\n",
       "      <th>good_bad</th>\n",
       "    </tr>\n",
       "  </thead>\n",
       "  <tbody>\n",
       "    <tr>\n",
       "      <th>0</th>\n",
       "      <td>A</td>\n",
       "      <td>0.961044</td>\n",
       "    </tr>\n",
       "    <tr>\n",
       "      <th>1</th>\n",
       "      <td>B</td>\n",
       "      <td>0.921015</td>\n",
       "    </tr>\n",
       "    <tr>\n",
       "      <th>2</th>\n",
       "      <td>C</td>\n",
       "      <td>0.885770</td>\n",
       "    </tr>\n",
       "    <tr>\n",
       "      <th>3</th>\n",
       "      <td>D</td>\n",
       "      <td>0.846304</td>\n",
       "    </tr>\n",
       "    <tr>\n",
       "      <th>4</th>\n",
       "      <td>E</td>\n",
       "      <td>0.805257</td>\n",
       "    </tr>\n",
       "    <tr>\n",
       "      <th>5</th>\n",
       "      <td>F</td>\n",
       "      <td>0.754416</td>\n",
       "    </tr>\n",
       "    <tr>\n",
       "      <th>6</th>\n",
       "      <td>G</td>\n",
       "      <td>0.727958</td>\n",
       "    </tr>\n",
       "  </tbody>\n",
       "</table>\n",
       "</div>"
      ],
      "text/plain": [
       "  grade  good_bad\n",
       "0     A  0.961044\n",
       "1     B  0.921015\n",
       "2     C  0.885770\n",
       "3     D  0.846304\n",
       "4     E  0.805257\n",
       "5     F  0.754416\n",
       "6     G  0.727958"
      ]
     },
     "execution_count": 62,
     "metadata": {},
     "output_type": "execute_result"
    }
   ],
   "source": [
    "df1.groupby(df1.columns.values[0], as_index=False)[df1.columns.values[1]].mean()"
   ]
  },
  {
   "cell_type": "code",
   "execution_count": 63,
   "id": "unexpected-oregon",
   "metadata": {},
   "outputs": [],
   "source": [
    "df1 = pd.concat([df1.groupby(df1.columns.values[0], as_index=False)[df1.columns.values[1]].count(),\n",
    "                df1.groupby(df1.columns.values[0], as_index=False)[df1.columns.values[1]].mean()], axis=1)"
   ]
  },
  {
   "cell_type": "code",
   "execution_count": 64,
   "id": "twelve-barcelona",
   "metadata": {},
   "outputs": [
    {
     "data": {
      "text/html": [
       "<div>\n",
       "<style scoped>\n",
       "    .dataframe tbody tr th:only-of-type {\n",
       "        vertical-align: middle;\n",
       "    }\n",
       "\n",
       "    .dataframe tbody tr th {\n",
       "        vertical-align: top;\n",
       "    }\n",
       "\n",
       "    .dataframe thead th {\n",
       "        text-align: right;\n",
       "    }\n",
       "</style>\n",
       "<table border=\"1\" class=\"dataframe\">\n",
       "  <thead>\n",
       "    <tr style=\"text-align: right;\">\n",
       "      <th></th>\n",
       "      <th>grade</th>\n",
       "      <th>good_bad</th>\n",
       "      <th>grade</th>\n",
       "      <th>good_bad</th>\n",
       "    </tr>\n",
       "  </thead>\n",
       "  <tbody>\n",
       "    <tr>\n",
       "      <th>0</th>\n",
       "      <td>A</td>\n",
       "      <td>59759</td>\n",
       "      <td>A</td>\n",
       "      <td>0.961044</td>\n",
       "    </tr>\n",
       "    <tr>\n",
       "      <th>1</th>\n",
       "      <td>B</td>\n",
       "      <td>109730</td>\n",
       "      <td>B</td>\n",
       "      <td>0.921015</td>\n",
       "    </tr>\n",
       "    <tr>\n",
       "      <th>2</th>\n",
       "      <td>C</td>\n",
       "      <td>100245</td>\n",
       "      <td>C</td>\n",
       "      <td>0.885770</td>\n",
       "    </tr>\n",
       "    <tr>\n",
       "      <th>3</th>\n",
       "      <td>D</td>\n",
       "      <td>61498</td>\n",
       "      <td>D</td>\n",
       "      <td>0.846304</td>\n",
       "    </tr>\n",
       "    <tr>\n",
       "      <th>4</th>\n",
       "      <td>E</td>\n",
       "      <td>28612</td>\n",
       "      <td>E</td>\n",
       "      <td>0.805257</td>\n",
       "    </tr>\n",
       "  </tbody>\n",
       "</table>\n",
       "</div>"
      ],
      "text/plain": [
       "  grade  good_bad grade  good_bad\n",
       "0     A     59759     A  0.961044\n",
       "1     B    109730     B  0.921015\n",
       "2     C    100245     C  0.885770\n",
       "3     D     61498     D  0.846304\n",
       "4     E     28612     E  0.805257"
      ]
     },
     "execution_count": 64,
     "metadata": {},
     "output_type": "execute_result"
    }
   ],
   "source": [
    "df1.head()"
   ]
  },
  {
   "cell_type": "code",
   "execution_count": 65,
   "id": "preliminary-policy",
   "metadata": {},
   "outputs": [],
   "source": [
    "df1 = df1.iloc[:,[0,1,3]]\n",
    "df1.columns = [df1.columns.values[0], 'n_obs', 'prop_good']"
   ]
  },
  {
   "cell_type": "code",
   "execution_count": 66,
   "id": "biblical-cinema",
   "metadata": {},
   "outputs": [],
   "source": [
    "df1['prop_n_obs'] = df1['n_obs']/df1['n_obs'].sum()"
   ]
  },
  {
   "cell_type": "code",
   "execution_count": 67,
   "id": "environmental-decline",
   "metadata": {},
   "outputs": [],
   "source": [
    "df1['n_good'] = df1['prop_good'] * df1['n_obs']\n",
    "df1['n_bad'] = (1 - df1['prop_good']) * df1['n_obs']"
   ]
  },
  {
   "cell_type": "code",
   "execution_count": 68,
   "id": "complex-bangladesh",
   "metadata": {},
   "outputs": [],
   "source": [
    "df1['prop_n_good'] = df1['n_good'] / df1['n_good'].sum()\n",
    "df1['prop_n_bad'] = df1['n_bad'] / df1['n_bad'].sum()"
   ]
  },
  {
   "cell_type": "code",
   "execution_count": 69,
   "id": "metropolitan-jackson",
   "metadata": {},
   "outputs": [],
   "source": [
    "df1['WoE'] = np.log(df1['prop_n_good']/df1['prop_n_bad'])"
   ]
  },
  {
   "cell_type": "code",
   "execution_count": 70,
   "id": "clinical-motivation",
   "metadata": {},
   "outputs": [],
   "source": [
    "df1 = df1.sort_values(['WoE'])\n",
    "df1 = df1.reset_index(drop = True)"
   ]
  },
  {
   "cell_type": "code",
   "execution_count": 71,
   "id": "incident-simulation",
   "metadata": {},
   "outputs": [],
   "source": [
    "df1['diff_prop_good'] = df1['prop_good'].diff().abs()\n",
    "df1['diff_WoE'] = df1['WoE'].diff().abs()"
   ]
  },
  {
   "cell_type": "code",
   "execution_count": 72,
   "id": "satisfactory-costa",
   "metadata": {},
   "outputs": [],
   "source": [
    "df1['IV'] = (df1['prop_n_good']-df1['prop_n_bad'])*df1['WoE']\n",
    "df1['IV'] = df1['IV'].sum()"
   ]
  },
  {
   "cell_type": "code",
   "execution_count": 73,
   "id": "demographic-point",
   "metadata": {
    "scrolled": false
   },
   "outputs": [
    {
     "data": {
      "text/html": [
       "<div>\n",
       "<style scoped>\n",
       "    .dataframe tbody tr th:only-of-type {\n",
       "        vertical-align: middle;\n",
       "    }\n",
       "\n",
       "    .dataframe tbody tr th {\n",
       "        vertical-align: top;\n",
       "    }\n",
       "\n",
       "    .dataframe thead th {\n",
       "        text-align: right;\n",
       "    }\n",
       "</style>\n",
       "<table border=\"1\" class=\"dataframe\">\n",
       "  <thead>\n",
       "    <tr style=\"text-align: right;\">\n",
       "      <th></th>\n",
       "      <th>grade</th>\n",
       "      <th>n_obs</th>\n",
       "      <th>prop_good</th>\n",
       "      <th>prop_n_obs</th>\n",
       "      <th>n_good</th>\n",
       "      <th>n_bad</th>\n",
       "      <th>prop_n_good</th>\n",
       "      <th>prop_n_bad</th>\n",
       "      <th>WoE</th>\n",
       "      <th>diff_prop_good</th>\n",
       "      <th>diff_WoE</th>\n",
       "      <th>IV</th>\n",
       "    </tr>\n",
       "  </thead>\n",
       "  <tbody>\n",
       "    <tr>\n",
       "      <th>0</th>\n",
       "      <td>G</td>\n",
       "      <td>2654</td>\n",
       "      <td>0.727958</td>\n",
       "      <td>0.007115</td>\n",
       "      <td>1932.0</td>\n",
       "      <td>722.0</td>\n",
       "      <td>0.005815</td>\n",
       "      <td>0.017706</td>\n",
       "      <td>-1.113459</td>\n",
       "      <td>NaN</td>\n",
       "      <td>NaN</td>\n",
       "      <td>0.288636</td>\n",
       "    </tr>\n",
       "    <tr>\n",
       "      <th>1</th>\n",
       "      <td>F</td>\n",
       "      <td>10530</td>\n",
       "      <td>0.754416</td>\n",
       "      <td>0.028228</td>\n",
       "      <td>7944.0</td>\n",
       "      <td>2586.0</td>\n",
       "      <td>0.023910</td>\n",
       "      <td>0.063417</td>\n",
       "      <td>-0.975440</td>\n",
       "      <td>0.026458</td>\n",
       "      <td>0.138019</td>\n",
       "      <td>0.288636</td>\n",
       "    </tr>\n",
       "    <tr>\n",
       "      <th>2</th>\n",
       "      <td>E</td>\n",
       "      <td>28612</td>\n",
       "      <td>0.805257</td>\n",
       "      <td>0.076702</td>\n",
       "      <td>23040.0</td>\n",
       "      <td>5572.0</td>\n",
       "      <td>0.069345</td>\n",
       "      <td>0.136642</td>\n",
       "      <td>-0.678267</td>\n",
       "      <td>0.050841</td>\n",
       "      <td>0.297173</td>\n",
       "      <td>0.288636</td>\n",
       "    </tr>\n",
       "    <tr>\n",
       "      <th>3</th>\n",
       "      <td>D</td>\n",
       "      <td>61498</td>\n",
       "      <td>0.846304</td>\n",
       "      <td>0.164862</td>\n",
       "      <td>52046.0</td>\n",
       "      <td>9452.0</td>\n",
       "      <td>0.156647</td>\n",
       "      <td>0.231792</td>\n",
       "      <td>-0.391843</td>\n",
       "      <td>0.041047</td>\n",
       "      <td>0.286424</td>\n",
       "      <td>0.288636</td>\n",
       "    </tr>\n",
       "    <tr>\n",
       "      <th>4</th>\n",
       "      <td>C</td>\n",
       "      <td>100245</td>\n",
       "      <td>0.885770</td>\n",
       "      <td>0.268733</td>\n",
       "      <td>88794.0</td>\n",
       "      <td>11451.0</td>\n",
       "      <td>0.267251</td>\n",
       "      <td>0.280813</td>\n",
       "      <td>-0.049503</td>\n",
       "      <td>0.039466</td>\n",
       "      <td>0.342340</td>\n",
       "      <td>0.288636</td>\n",
       "    </tr>\n",
       "    <tr>\n",
       "      <th>5</th>\n",
       "      <td>B</td>\n",
       "      <td>109730</td>\n",
       "      <td>0.921015</td>\n",
       "      <td>0.294160</td>\n",
       "      <td>101063.0</td>\n",
       "      <td>8667.0</td>\n",
       "      <td>0.304178</td>\n",
       "      <td>0.212541</td>\n",
       "      <td>0.358476</td>\n",
       "      <td>0.035245</td>\n",
       "      <td>0.407979</td>\n",
       "      <td>0.288636</td>\n",
       "    </tr>\n",
       "    <tr>\n",
       "      <th>6</th>\n",
       "      <td>A</td>\n",
       "      <td>59759</td>\n",
       "      <td>0.961044</td>\n",
       "      <td>0.160200</td>\n",
       "      <td>57431.0</td>\n",
       "      <td>2328.0</td>\n",
       "      <td>0.172855</td>\n",
       "      <td>0.057090</td>\n",
       "      <td>1.107830</td>\n",
       "      <td>0.040028</td>\n",
       "      <td>0.749353</td>\n",
       "      <td>0.288636</td>\n",
       "    </tr>\n",
       "  </tbody>\n",
       "</table>\n",
       "</div>"
      ],
      "text/plain": [
       "  grade   n_obs  prop_good  prop_n_obs    n_good    n_bad  prop_n_good  \\\n",
       "0     G    2654   0.727958    0.007115    1932.0    722.0     0.005815   \n",
       "1     F   10530   0.754416    0.028228    7944.0   2586.0     0.023910   \n",
       "2     E   28612   0.805257    0.076702   23040.0   5572.0     0.069345   \n",
       "3     D   61498   0.846304    0.164862   52046.0   9452.0     0.156647   \n",
       "4     C  100245   0.885770    0.268733   88794.0  11451.0     0.267251   \n",
       "5     B  109730   0.921015    0.294160  101063.0   8667.0     0.304178   \n",
       "6     A   59759   0.961044    0.160200   57431.0   2328.0     0.172855   \n",
       "\n",
       "   prop_n_bad       WoE  diff_prop_good  diff_WoE        IV  \n",
       "0    0.017706 -1.113459             NaN       NaN  0.288636  \n",
       "1    0.063417 -0.975440        0.026458  0.138019  0.288636  \n",
       "2    0.136642 -0.678267        0.050841  0.297173  0.288636  \n",
       "3    0.231792 -0.391843        0.041047  0.286424  0.288636  \n",
       "4    0.280813 -0.049503        0.039466  0.342340  0.288636  \n",
       "5    0.212541  0.358476        0.035245  0.407979  0.288636  \n",
       "6    0.057090  1.107830        0.040028  0.749353  0.288636  "
      ]
     },
     "execution_count": 73,
     "metadata": {},
     "output_type": "execute_result"
    }
   ],
   "source": [
    "df1"
   ]
  },
  {
   "cell_type": "markdown",
   "id": "champion-angel",
   "metadata": {},
   "source": [
    "# Automatic WoE and IV calculator"
   ]
  },
  {
   "cell_type": "code",
   "execution_count": 74,
   "id": "married-third",
   "metadata": {},
   "outputs": [],
   "source": [
    "def woe_discrete(df, discrete_variable_name, good_bad_variable_df):\n",
    "    df = pd.concat([df[discrete_variable_name], good_bad_variable_df],axis=1)\n",
    "    df = pd.concat([df.groupby(df.columns.values[0], as_index=False)[df.columns.values[1]].count(),\n",
    "                df.groupby(df.columns.values[0], as_index=False)[df.columns.values[1]].mean()], axis=1)\n",
    "    df = df.iloc[:,[0,1,3]]\n",
    "    df.columns = [df.columns.values[0], 'n_obs', 'prop_good']\n",
    "    df['prop_n_obs'] = df['n_obs']/df['n_obs'].sum()\n",
    "    df['n_good'] = df['prop_good'] * df['n_obs']\n",
    "    df['n_bad'] = (1 - df['prop_good']) * df['n_obs']\n",
    "    df['prop_n_good'] = df['n_good'] / df['n_good'].sum()\n",
    "    df['prop_n_bad'] = df['n_bad'] / df['n_bad'].sum()\n",
    "    df['WoE'] = np.log(df['prop_n_good']/df['prop_n_bad'])\n",
    "    df = df.sort_values(['WoE'])\n",
    "    df = df.reset_index(drop = True)\n",
    "    df['diff_prop_good'] = df['prop_good'].diff().abs()\n",
    "    df['diff_WoE'] = df['WoE'].diff().abs()\n",
    "    df['IV'] = (df['prop_n_good']-df['prop_n_bad'])*df['WoE']\n",
    "    df['IV'] = df['IV'].sum()\n",
    "    return df"
   ]
  },
  {
   "cell_type": "code",
   "execution_count": 75,
   "id": "married-victory",
   "metadata": {},
   "outputs": [],
   "source": [
    "df_temp = woe_discrete(df_inputs_pre, 'grade', df_targets_pre)"
   ]
  },
  {
   "cell_type": "code",
   "execution_count": 76,
   "id": "japanese-concert",
   "metadata": {},
   "outputs": [
    {
     "data": {
      "text/html": [
       "<div>\n",
       "<style scoped>\n",
       "    .dataframe tbody tr th:only-of-type {\n",
       "        vertical-align: middle;\n",
       "    }\n",
       "\n",
       "    .dataframe tbody tr th {\n",
       "        vertical-align: top;\n",
       "    }\n",
       "\n",
       "    .dataframe thead th {\n",
       "        text-align: right;\n",
       "    }\n",
       "</style>\n",
       "<table border=\"1\" class=\"dataframe\">\n",
       "  <thead>\n",
       "    <tr style=\"text-align: right;\">\n",
       "      <th></th>\n",
       "      <th>grade</th>\n",
       "      <th>n_obs</th>\n",
       "      <th>prop_good</th>\n",
       "      <th>prop_n_obs</th>\n",
       "      <th>n_good</th>\n",
       "      <th>n_bad</th>\n",
       "      <th>prop_n_good</th>\n",
       "      <th>prop_n_bad</th>\n",
       "      <th>WoE</th>\n",
       "      <th>diff_prop_good</th>\n",
       "      <th>diff_WoE</th>\n",
       "      <th>IV</th>\n",
       "    </tr>\n",
       "  </thead>\n",
       "  <tbody>\n",
       "    <tr>\n",
       "      <th>0</th>\n",
       "      <td>G</td>\n",
       "      <td>2654</td>\n",
       "      <td>0.727958</td>\n",
       "      <td>0.007115</td>\n",
       "      <td>1932.0</td>\n",
       "      <td>722.0</td>\n",
       "      <td>0.005815</td>\n",
       "      <td>0.017706</td>\n",
       "      <td>-1.113459</td>\n",
       "      <td>NaN</td>\n",
       "      <td>NaN</td>\n",
       "      <td>0.288636</td>\n",
       "    </tr>\n",
       "    <tr>\n",
       "      <th>1</th>\n",
       "      <td>F</td>\n",
       "      <td>10530</td>\n",
       "      <td>0.754416</td>\n",
       "      <td>0.028228</td>\n",
       "      <td>7944.0</td>\n",
       "      <td>2586.0</td>\n",
       "      <td>0.023910</td>\n",
       "      <td>0.063417</td>\n",
       "      <td>-0.975440</td>\n",
       "      <td>0.026458</td>\n",
       "      <td>0.138019</td>\n",
       "      <td>0.288636</td>\n",
       "    </tr>\n",
       "    <tr>\n",
       "      <th>2</th>\n",
       "      <td>E</td>\n",
       "      <td>28612</td>\n",
       "      <td>0.805257</td>\n",
       "      <td>0.076702</td>\n",
       "      <td>23040.0</td>\n",
       "      <td>5572.0</td>\n",
       "      <td>0.069345</td>\n",
       "      <td>0.136642</td>\n",
       "      <td>-0.678267</td>\n",
       "      <td>0.050841</td>\n",
       "      <td>0.297173</td>\n",
       "      <td>0.288636</td>\n",
       "    </tr>\n",
       "    <tr>\n",
       "      <th>3</th>\n",
       "      <td>D</td>\n",
       "      <td>61498</td>\n",
       "      <td>0.846304</td>\n",
       "      <td>0.164862</td>\n",
       "      <td>52046.0</td>\n",
       "      <td>9452.0</td>\n",
       "      <td>0.156647</td>\n",
       "      <td>0.231792</td>\n",
       "      <td>-0.391843</td>\n",
       "      <td>0.041047</td>\n",
       "      <td>0.286424</td>\n",
       "      <td>0.288636</td>\n",
       "    </tr>\n",
       "    <tr>\n",
       "      <th>4</th>\n",
       "      <td>C</td>\n",
       "      <td>100245</td>\n",
       "      <td>0.885770</td>\n",
       "      <td>0.268733</td>\n",
       "      <td>88794.0</td>\n",
       "      <td>11451.0</td>\n",
       "      <td>0.267251</td>\n",
       "      <td>0.280813</td>\n",
       "      <td>-0.049503</td>\n",
       "      <td>0.039466</td>\n",
       "      <td>0.342340</td>\n",
       "      <td>0.288636</td>\n",
       "    </tr>\n",
       "    <tr>\n",
       "      <th>5</th>\n",
       "      <td>B</td>\n",
       "      <td>109730</td>\n",
       "      <td>0.921015</td>\n",
       "      <td>0.294160</td>\n",
       "      <td>101063.0</td>\n",
       "      <td>8667.0</td>\n",
       "      <td>0.304178</td>\n",
       "      <td>0.212541</td>\n",
       "      <td>0.358476</td>\n",
       "      <td>0.035245</td>\n",
       "      <td>0.407979</td>\n",
       "      <td>0.288636</td>\n",
       "    </tr>\n",
       "    <tr>\n",
       "      <th>6</th>\n",
       "      <td>A</td>\n",
       "      <td>59759</td>\n",
       "      <td>0.961044</td>\n",
       "      <td>0.160200</td>\n",
       "      <td>57431.0</td>\n",
       "      <td>2328.0</td>\n",
       "      <td>0.172855</td>\n",
       "      <td>0.057090</td>\n",
       "      <td>1.107830</td>\n",
       "      <td>0.040028</td>\n",
       "      <td>0.749353</td>\n",
       "      <td>0.288636</td>\n",
       "    </tr>\n",
       "  </tbody>\n",
       "</table>\n",
       "</div>"
      ],
      "text/plain": [
       "  grade   n_obs  prop_good  prop_n_obs    n_good    n_bad  prop_n_good  \\\n",
       "0     G    2654   0.727958    0.007115    1932.0    722.0     0.005815   \n",
       "1     F   10530   0.754416    0.028228    7944.0   2586.0     0.023910   \n",
       "2     E   28612   0.805257    0.076702   23040.0   5572.0     0.069345   \n",
       "3     D   61498   0.846304    0.164862   52046.0   9452.0     0.156647   \n",
       "4     C  100245   0.885770    0.268733   88794.0  11451.0     0.267251   \n",
       "5     B  109730   0.921015    0.294160  101063.0   8667.0     0.304178   \n",
       "6     A   59759   0.961044    0.160200   57431.0   2328.0     0.172855   \n",
       "\n",
       "   prop_n_bad       WoE  diff_prop_good  diff_WoE        IV  \n",
       "0    0.017706 -1.113459             NaN       NaN  0.288636  \n",
       "1    0.063417 -0.975440        0.026458  0.138019  0.288636  \n",
       "2    0.136642 -0.678267        0.050841  0.297173  0.288636  \n",
       "3    0.231792 -0.391843        0.041047  0.286424  0.288636  \n",
       "4    0.280813 -0.049503        0.039466  0.342340  0.288636  \n",
       "5    0.212541  0.358476        0.035245  0.407979  0.288636  \n",
       "6    0.057090  1.107830        0.040028  0.749353  0.288636  "
      ]
     },
     "execution_count": 76,
     "metadata": {},
     "output_type": "execute_result"
    }
   ],
   "source": [
    "df_temp"
   ]
  },
  {
   "cell_type": "markdown",
   "id": "secret-edwards",
   "metadata": {},
   "source": [
    "# WoE Plotter"
   ]
  },
  {
   "cell_type": "code",
   "execution_count": 77,
   "id": "genuine-injury",
   "metadata": {},
   "outputs": [],
   "source": [
    "def plot_by_woe(df_WoE, rotation_of_x_axis_labels = 0):\n",
    "    x = np.array(df_WoE.iloc[:, 0].apply(str))\n",
    "    y = df_WoE['WoE']\n",
    "    plt.figure(figsize = (18, 6))\n",
    "    plt.plot(x, y, marker='o', linestyle='--', color='k')\n",
    "    plt.xlabel(df_WoE.columns[0])\n",
    "    plt.ylabel('Weight of Evidence')\n",
    "    plt.title(str('Weight of Evidence' + df_WoE.columns[0]))\n",
    "    plt.xticks(rotation = rotation_of_x_axis_labels)"
   ]
  },
  {
   "cell_type": "code",
   "execution_count": 78,
   "id": "stopped-assignment",
   "metadata": {},
   "outputs": [
    {
     "data": {
      "image/png": "[encoded data removed]",
      "text/plain": [
       "<Figure size 1296x432 with 1 Axes>"
      ]
     },
     "metadata": {},
     "output_type": "display_data"
    }
   ],
   "source": [
    "plot_by_woe(df_temp)"
   ]
  },
  {
   "cell_type": "markdown",
   "id": "laughing-netscape",
   "metadata": {},
   "source": [
    "## Do rest discrete variables"
   ]
  },
  {
   "cell_type": "code",
   "execution_count": 79,
   "id": "traditional-machine",
   "metadata": {},
   "outputs": [],
   "source": [
    "df_temp = woe_discrete(df_inputs_pre, 'home_ownership', df_targets_pre)"
   ]
  },
  {
   "cell_type": "code",
   "execution_count": 80,
   "id": "rocky-commission",
   "metadata": {},
   "outputs": [
    {
     "data": {
      "text/html": [
       "<div>\n",
       "<style scoped>\n",
       "    .dataframe tbody tr th:only-of-type {\n",
       "        vertical-align: middle;\n",
       "    }\n",
       "\n",
       "    .dataframe tbody tr th {\n",
       "        vertical-align: top;\n",
       "    }\n",
       "\n",
       "    .dataframe thead th {\n",
       "        text-align: right;\n",
       "    }\n",
       "</style>\n",
       "<table border=\"1\" class=\"dataframe\">\n",
       "  <thead>\n",
       "    <tr style=\"text-align: right;\">\n",
       "      <th></th>\n",
       "      <th>home_ownership</th>\n",
       "      <th>n_obs</th>\n",
       "      <th>prop_good</th>\n",
       "      <th>prop_n_obs</th>\n",
       "      <th>n_good</th>\n",
       "      <th>n_bad</th>\n",
       "      <th>prop_n_good</th>\n",
       "      <th>prop_n_bad</th>\n",
       "      <th>WoE</th>\n",
       "      <th>diff_prop_good</th>\n",
       "      <th>diff_WoE</th>\n",
       "      <th>IV</th>\n",
       "    </tr>\n",
       "  </thead>\n",
       "  <tbody>\n",
       "    <tr>\n",
       "      <th>0</th>\n",
       "      <td>OTHER</td>\n",
       "      <td>137</td>\n",
       "      <td>0.795620</td>\n",
       "      <td>0.000367</td>\n",
       "      <td>109.0</td>\n",
       "      <td>28.0</td>\n",
       "      <td>0.000328</td>\n",
       "      <td>0.000687</td>\n",
       "      <td>-0.738602</td>\n",
       "      <td>NaN</td>\n",
       "      <td>NaN</td>\n",
       "      <td>inf</td>\n",
       "    </tr>\n",
       "    <tr>\n",
       "      <th>1</th>\n",
       "      <td>NONE</td>\n",
       "      <td>40</td>\n",
       "      <td>0.850000</td>\n",
       "      <td>0.000107</td>\n",
       "      <td>34.0</td>\n",
       "      <td>6.0</td>\n",
       "      <td>0.000102</td>\n",
       "      <td>0.000147</td>\n",
       "      <td>-0.363144</td>\n",
       "      <td>0.054380</td>\n",
       "      <td>0.375458</td>\n",
       "      <td>inf</td>\n",
       "    </tr>\n",
       "    <tr>\n",
       "      <th>2</th>\n",
       "      <td>RENT</td>\n",
       "      <td>150599</td>\n",
       "      <td>0.873870</td>\n",
       "      <td>0.403720</td>\n",
       "      <td>131604.0</td>\n",
       "      <td>18995.0</td>\n",
       "      <td>0.396099</td>\n",
       "      <td>0.465815</td>\n",
       "      <td>-0.162123</td>\n",
       "      <td>0.023870</td>\n",
       "      <td>0.201021</td>\n",
       "      <td>inf</td>\n",
       "    </tr>\n",
       "    <tr>\n",
       "      <th>3</th>\n",
       "      <td>OWN</td>\n",
       "      <td>33295</td>\n",
       "      <td>0.892536</td>\n",
       "      <td>0.089256</td>\n",
       "      <td>29717.0</td>\n",
       "      <td>3578.0</td>\n",
       "      <td>0.089442</td>\n",
       "      <td>0.087743</td>\n",
       "      <td>0.019170</td>\n",
       "      <td>0.018666</td>\n",
       "      <td>0.181294</td>\n",
       "      <td>inf</td>\n",
       "    </tr>\n",
       "    <tr>\n",
       "      <th>4</th>\n",
       "      <td>MORTGAGE</td>\n",
       "      <td>188956</td>\n",
       "      <td>0.903835</td>\n",
       "      <td>0.506546</td>\n",
       "      <td>170785.0</td>\n",
       "      <td>18171.0</td>\n",
       "      <td>0.514026</td>\n",
       "      <td>0.445608</td>\n",
       "      <td>0.142834</td>\n",
       "      <td>0.011298</td>\n",
       "      <td>0.123663</td>\n",
       "      <td>inf</td>\n",
       "    </tr>\n",
       "    <tr>\n",
       "      <th>5</th>\n",
       "      <td>ANY</td>\n",
       "      <td>1</td>\n",
       "      <td>1.000000</td>\n",
       "      <td>0.000003</td>\n",
       "      <td>1.0</td>\n",
       "      <td>0.0</td>\n",
       "      <td>0.000003</td>\n",
       "      <td>0.000000</td>\n",
       "      <td>inf</td>\n",
       "      <td>0.096165</td>\n",
       "      <td>inf</td>\n",
       "      <td>inf</td>\n",
       "    </tr>\n",
       "  </tbody>\n",
       "</table>\n",
       "</div>"
      ],
      "text/plain": [
       "  home_ownership   n_obs  prop_good  prop_n_obs    n_good    n_bad  \\\n",
       "0          OTHER     137   0.795620    0.000367     109.0     28.0   \n",
       "1           NONE      40   0.850000    0.000107      34.0      6.0   \n",
       "2           RENT  150599   0.873870    0.403720  131604.0  18995.0   \n",
       "3            OWN   33295   0.892536    0.089256   29717.0   3578.0   \n",
       "4       MORTGAGE  188956   0.903835    0.506546  170785.0  18171.0   \n",
       "5            ANY       1   1.000000    0.000003       1.0      0.0   \n",
       "\n",
       "   prop_n_good  prop_n_bad       WoE  diff_prop_good  diff_WoE   IV  \n",
       "0     0.000328    0.000687 -0.738602             NaN       NaN  inf  \n",
       "1     0.000102    0.000147 -0.363144        0.054380  0.375458  inf  \n",
       "2     0.396099    0.465815 -0.162123        0.023870  0.201021  inf  \n",
       "3     0.089442    0.087743  0.019170        0.018666  0.181294  inf  \n",
       "4     0.514026    0.445608  0.142834        0.011298  0.123663  inf  \n",
       "5     0.000003    0.000000       inf        0.096165       inf  inf  "
      ]
     },
     "execution_count": 80,
     "metadata": {},
     "output_type": "execute_result"
    }
   ],
   "source": [
    "df_temp"
   ]
  },
  {
   "cell_type": "code",
   "execution_count": 81,
   "id": "turned-bulgarian",
   "metadata": {},
   "outputs": [
    {
     "data": {
      "image/png": "[encoded data removed]",
      "text/plain": [
       "<Figure size 1296x432 with 1 Axes>"
      ]
     },
     "metadata": {},
     "output_type": "display_data"
    }
   ],
   "source": [
    "plot_by_woe(df_temp)"
   ]
  },
  {
   "cell_type": "markdown",
   "id": "smooth-freeze",
   "metadata": {},
   "source": [
    "Due to high risk and low number of samples, we combine the 'ANY', 'OTHER' and 'NONE' categories to the riskest category with enough number of observations, i.e. 'RENT'"
   ]
  },
  {
   "cell_type": "code",
   "execution_count": 82,
   "id": "desirable-connection",
   "metadata": {},
   "outputs": [],
   "source": [
    "df_inputs_pre['home_ownership:RENT_OTHER_NONE_ANY'] = sum([df_inputs_pre['home_ownership:RENT'], df_inputs_pre['home_ownership:OTHER'], df_inputs_pre['home_ownership:NONE'], df_inputs_pre['home_ownership:ANY']])"
   ]
  },
  {
   "cell_type": "code",
   "execution_count": 83,
   "id": "bronze-arrow",
   "metadata": {},
   "outputs": [
    {
     "data": {
      "text/plain": [
       "array(['SC', 'NJ', 'GA', 'MA', 'CA', 'IL', 'NC', 'NY', 'TX', 'CT', 'FL',\n",
       "       'VA', 'UT', 'AZ', 'MD', 'WI', 'MI', 'CO', 'TN', 'IN', 'AL', 'NV',\n",
       "       'MT', 'RI', 'OR', 'MN', 'KS', 'AK', 'PA', 'OH', 'WA', 'KY', 'OK',\n",
       "       'MO', 'NM', 'HI', 'WV', 'LA', 'VT', 'AR', 'DC', 'SD', 'NH', 'WY',\n",
       "       'MS', 'DE', 'IA', 'NE', 'ID', 'ME'], dtype=object)"
      ]
     },
     "execution_count": 83,
     "metadata": {},
     "output_type": "execute_result"
    }
   ],
   "source": [
    "df_inputs_pre['addr_state'].unique()"
   ]
  },
  {
   "cell_type": "code",
   "execution_count": 84,
   "id": "voluntary-version",
   "metadata": {
    "scrolled": true
   },
   "outputs": [
    {
     "data": {
      "text/html": [
       "<div>\n",
       "<style scoped>\n",
       "    .dataframe tbody tr th:only-of-type {\n",
       "        vertical-align: middle;\n",
       "    }\n",
       "\n",
       "    .dataframe tbody tr th {\n",
       "        vertical-align: top;\n",
       "    }\n",
       "\n",
       "    .dataframe thead th {\n",
       "        text-align: right;\n",
       "    }\n",
       "</style>\n",
       "<table border=\"1\" class=\"dataframe\">\n",
       "  <thead>\n",
       "    <tr style=\"text-align: right;\">\n",
       "      <th></th>\n",
       "      <th>addr_state</th>\n",
       "      <th>n_obs</th>\n",
       "      <th>prop_good</th>\n",
       "      <th>prop_n_obs</th>\n",
       "      <th>n_good</th>\n",
       "      <th>n_bad</th>\n",
       "      <th>prop_n_good</th>\n",
       "      <th>prop_n_bad</th>\n",
       "      <th>WoE</th>\n",
       "      <th>diff_prop_good</th>\n",
       "      <th>diff_WoE</th>\n",
       "      <th>IV</th>\n",
       "    </tr>\n",
       "  </thead>\n",
       "  <tbody>\n",
       "    <tr>\n",
       "      <th>0</th>\n",
       "      <td>NE</td>\n",
       "      <td>13</td>\n",
       "      <td>0.461538</td>\n",
       "      <td>0.000035</td>\n",
       "      <td>6.0</td>\n",
       "      <td>7.0</td>\n",
       "      <td>0.000018</td>\n",
       "      <td>0.000172</td>\n",
       "      <td>-2.251896</td>\n",
       "      <td>NaN</td>\n",
       "      <td>NaN</td>\n",
       "      <td>inf</td>\n",
       "    </tr>\n",
       "    <tr>\n",
       "      <th>1</th>\n",
       "      <td>IA</td>\n",
       "      <td>13</td>\n",
       "      <td>0.769231</td>\n",
       "      <td>0.000035</td>\n",
       "      <td>10.0</td>\n",
       "      <td>3.0</td>\n",
       "      <td>0.000030</td>\n",
       "      <td>0.000074</td>\n",
       "      <td>-0.893772</td>\n",
       "      <td>0.307692</td>\n",
       "      <td>1.358123</td>\n",
       "      <td>inf</td>\n",
       "    </tr>\n",
       "    <tr>\n",
       "      <th>2</th>\n",
       "      <td>NV</td>\n",
       "      <td>5221</td>\n",
       "      <td>0.864585</td>\n",
       "      <td>0.013996</td>\n",
       "      <td>4514.0</td>\n",
       "      <td>707.0</td>\n",
       "      <td>0.013586</td>\n",
       "      <td>0.017338</td>\n",
       "      <td>-0.243837</td>\n",
       "      <td>0.095355</td>\n",
       "      <td>0.649935</td>\n",
       "      <td>inf</td>\n",
       "    </tr>\n",
       "    <tr>\n",
       "      <th>3</th>\n",
       "      <td>FL</td>\n",
       "      <td>25211</td>\n",
       "      <td>0.875808</td>\n",
       "      <td>0.067585</td>\n",
       "      <td>22080.0</td>\n",
       "      <td>3131.0</td>\n",
       "      <td>0.066456</td>\n",
       "      <td>0.076782</td>\n",
       "      <td>-0.144425</td>\n",
       "      <td>0.011223</td>\n",
       "      <td>0.099411</td>\n",
       "      <td>inf</td>\n",
       "    </tr>\n",
       "    <tr>\n",
       "      <th>4</th>\n",
       "      <td>HI</td>\n",
       "      <td>2001</td>\n",
       "      <td>0.877061</td>\n",
       "      <td>0.005364</td>\n",
       "      <td>1755.0</td>\n",
       "      <td>246.0</td>\n",
       "      <td>0.005282</td>\n",
       "      <td>0.006033</td>\n",
       "      <td>-0.132852</td>\n",
       "      <td>0.001253</td>\n",
       "      <td>0.011573</td>\n",
       "      <td>inf</td>\n",
       "    </tr>\n",
       "    <tr>\n",
       "      <th>5</th>\n",
       "      <td>AL</td>\n",
       "      <td>4671</td>\n",
       "      <td>0.877328</td>\n",
       "      <td>0.012522</td>\n",
       "      <td>4098.0</td>\n",
       "      <td>573.0</td>\n",
       "      <td>0.012334</td>\n",
       "      <td>0.014052</td>\n",
       "      <td>-0.130376</td>\n",
       "      <td>0.000267</td>\n",
       "      <td>0.002476</td>\n",
       "      <td>inf</td>\n",
       "    </tr>\n",
       "    <tr>\n",
       "      <th>6</th>\n",
       "      <td>NM</td>\n",
       "      <td>2075</td>\n",
       "      <td>0.883373</td>\n",
       "      <td>0.005563</td>\n",
       "      <td>1833.0</td>\n",
       "      <td>242.0</td>\n",
       "      <td>0.005517</td>\n",
       "      <td>0.005935</td>\n",
       "      <td>-0.072973</td>\n",
       "      <td>0.006045</td>\n",
       "      <td>0.057403</td>\n",
       "      <td>inf</td>\n",
       "    </tr>\n",
       "    <tr>\n",
       "      <th>7</th>\n",
       "      <td>VA</td>\n",
       "      <td>11366</td>\n",
       "      <td>0.883864</td>\n",
       "      <td>0.030470</td>\n",
       "      <td>10046.0</td>\n",
       "      <td>1320.0</td>\n",
       "      <td>0.030236</td>\n",
       "      <td>0.032370</td>\n",
       "      <td>-0.068202</td>\n",
       "      <td>0.000491</td>\n",
       "      <td>0.004771</td>\n",
       "      <td>inf</td>\n",
       "    </tr>\n",
       "    <tr>\n",
       "      <th>8</th>\n",
       "      <td>NY</td>\n",
       "      <td>32211</td>\n",
       "      <td>0.883984</td>\n",
       "      <td>0.086350</td>\n",
       "      <td>28474.0</td>\n",
       "      <td>3737.0</td>\n",
       "      <td>0.085701</td>\n",
       "      <td>0.091643</td>\n",
       "      <td>-0.067037</td>\n",
       "      <td>0.000120</td>\n",
       "      <td>0.001165</td>\n",
       "      <td>inf</td>\n",
       "    </tr>\n",
       "    <tr>\n",
       "      <th>9</th>\n",
       "      <td>OK</td>\n",
       "      <td>3284</td>\n",
       "      <td>0.884287</td>\n",
       "      <td>0.008804</td>\n",
       "      <td>2904.0</td>\n",
       "      <td>380.0</td>\n",
       "      <td>0.008740</td>\n",
       "      <td>0.009319</td>\n",
       "      <td>-0.064072</td>\n",
       "      <td>0.000304</td>\n",
       "      <td>0.002965</td>\n",
       "      <td>inf</td>\n",
       "    </tr>\n",
       "    <tr>\n",
       "      <th>10</th>\n",
       "      <td>TN</td>\n",
       "      <td>4845</td>\n",
       "      <td>0.884623</td>\n",
       "      <td>0.012988</td>\n",
       "      <td>4286.0</td>\n",
       "      <td>559.0</td>\n",
       "      <td>0.012900</td>\n",
       "      <td>0.013708</td>\n",
       "      <td>-0.060785</td>\n",
       "      <td>0.000336</td>\n",
       "      <td>0.003287</td>\n",
       "      <td>inf</td>\n",
       "    </tr>\n",
       "    <tr>\n",
       "      <th>11</th>\n",
       "      <td>MO</td>\n",
       "      <td>6017</td>\n",
       "      <td>0.884660</td>\n",
       "      <td>0.016130</td>\n",
       "      <td>5323.0</td>\n",
       "      <td>694.0</td>\n",
       "      <td>0.016021</td>\n",
       "      <td>0.017019</td>\n",
       "      <td>-0.060425</td>\n",
       "      <td>0.000037</td>\n",
       "      <td>0.000361</td>\n",
       "      <td>inf</td>\n",
       "    </tr>\n",
       "    <tr>\n",
       "      <th>12</th>\n",
       "      <td>LA</td>\n",
       "      <td>4359</td>\n",
       "      <td>0.885295</td>\n",
       "      <td>0.011685</td>\n",
       "      <td>3859.0</td>\n",
       "      <td>500.0</td>\n",
       "      <td>0.011615</td>\n",
       "      <td>0.012262</td>\n",
       "      <td>-0.054190</td>\n",
       "      <td>0.000635</td>\n",
       "      <td>0.006235</td>\n",
       "      <td>inf</td>\n",
       "    </tr>\n",
       "    <tr>\n",
       "      <th>13</th>\n",
       "      <td>MD</td>\n",
       "      <td>8771</td>\n",
       "      <td>0.885418</td>\n",
       "      <td>0.023513</td>\n",
       "      <td>7766.0</td>\n",
       "      <td>1005.0</td>\n",
       "      <td>0.023374</td>\n",
       "      <td>0.024646</td>\n",
       "      <td>-0.052977</td>\n",
       "      <td>0.000123</td>\n",
       "      <td>0.001212</td>\n",
       "      <td>inf</td>\n",
       "    </tr>\n",
       "    <tr>\n",
       "      <th>14</th>\n",
       "      <td>NC</td>\n",
       "      <td>10204</td>\n",
       "      <td>0.885633</td>\n",
       "      <td>0.027355</td>\n",
       "      <td>9037.0</td>\n",
       "      <td>1167.0</td>\n",
       "      <td>0.027199</td>\n",
       "      <td>0.028618</td>\n",
       "      <td>-0.050854</td>\n",
       "      <td>0.000215</td>\n",
       "      <td>0.002123</td>\n",
       "      <td>inf</td>\n",
       "    </tr>\n",
       "    <tr>\n",
       "      <th>15</th>\n",
       "      <td>CA</td>\n",
       "      <td>57199</td>\n",
       "      <td>0.885645</td>\n",
       "      <td>0.153337</td>\n",
       "      <td>50658.0</td>\n",
       "      <td>6541.0</td>\n",
       "      <td>0.152470</td>\n",
       "      <td>0.160405</td>\n",
       "      <td>-0.050738</td>\n",
       "      <td>0.000012</td>\n",
       "      <td>0.000116</td>\n",
       "      <td>inf</td>\n",
       "    </tr>\n",
       "    <tr>\n",
       "      <th>16</th>\n",
       "      <td>UT</td>\n",
       "      <td>2756</td>\n",
       "      <td>0.887155</td>\n",
       "      <td>0.007388</td>\n",
       "      <td>2445.0</td>\n",
       "      <td>311.0</td>\n",
       "      <td>0.007359</td>\n",
       "      <td>0.007627</td>\n",
       "      <td>-0.035737</td>\n",
       "      <td>0.001510</td>\n",
       "      <td>0.015000</td>\n",
       "      <td>inf</td>\n",
       "    </tr>\n",
       "    <tr>\n",
       "      <th>17</th>\n",
       "      <td>KY</td>\n",
       "      <td>3587</td>\n",
       "      <td>0.887650</td>\n",
       "      <td>0.009616</td>\n",
       "      <td>3184.0</td>\n",
       "      <td>403.0</td>\n",
       "      <td>0.009583</td>\n",
       "      <td>0.009883</td>\n",
       "      <td>-0.030788</td>\n",
       "      <td>0.000495</td>\n",
       "      <td>0.004949</td>\n",
       "      <td>inf</td>\n",
       "    </tr>\n",
       "    <tr>\n",
       "      <th>18</th>\n",
       "      <td>AZ</td>\n",
       "      <td>8645</td>\n",
       "      <td>0.888259</td>\n",
       "      <td>0.023175</td>\n",
       "      <td>7679.0</td>\n",
       "      <td>966.0</td>\n",
       "      <td>0.023112</td>\n",
       "      <td>0.023689</td>\n",
       "      <td>-0.024664</td>\n",
       "      <td>0.000609</td>\n",
       "      <td>0.006124</td>\n",
       "      <td>inf</td>\n",
       "    </tr>\n",
       "    <tr>\n",
       "      <th>19</th>\n",
       "      <td>NJ</td>\n",
       "      <td>14385</td>\n",
       "      <td>0.888286</td>\n",
       "      <td>0.038563</td>\n",
       "      <td>12778.0</td>\n",
       "      <td>1607.0</td>\n",
       "      <td>0.038459</td>\n",
       "      <td>0.039409</td>\n",
       "      <td>-0.024389</td>\n",
       "      <td>0.000027</td>\n",
       "      <td>0.000275</td>\n",
       "      <td>inf</td>\n",
       "    </tr>\n",
       "    <tr>\n",
       "      <th>20</th>\n",
       "      <td>AR</td>\n",
       "      <td>2760</td>\n",
       "      <td>0.889855</td>\n",
       "      <td>0.007399</td>\n",
       "      <td>2456.0</td>\n",
       "      <td>304.0</td>\n",
       "      <td>0.007392</td>\n",
       "      <td>0.007455</td>\n",
       "      <td>-0.008483</td>\n",
       "      <td>0.001569</td>\n",
       "      <td>0.015906</td>\n",
       "      <td>inf</td>\n",
       "    </tr>\n",
       "    <tr>\n",
       "      <th>21</th>\n",
       "      <td>MI</td>\n",
       "      <td>9191</td>\n",
       "      <td>0.890436</td>\n",
       "      <td>0.024639</td>\n",
       "      <td>8184.0</td>\n",
       "      <td>1007.0</td>\n",
       "      <td>0.024632</td>\n",
       "      <td>0.024695</td>\n",
       "      <td>-0.002540</td>\n",
       "      <td>0.000581</td>\n",
       "      <td>0.005944</td>\n",
       "      <td>inf</td>\n",
       "    </tr>\n",
       "    <tr>\n",
       "      <th>22</th>\n",
       "      <td>PA</td>\n",
       "      <td>13090</td>\n",
       "      <td>0.890451</td>\n",
       "      <td>0.035091</td>\n",
       "      <td>11656.0</td>\n",
       "      <td>1434.0</td>\n",
       "      <td>0.035082</td>\n",
       "      <td>0.035166</td>\n",
       "      <td>-0.002392</td>\n",
       "      <td>0.000014</td>\n",
       "      <td>0.000148</td>\n",
       "      <td>inf</td>\n",
       "    </tr>\n",
       "    <tr>\n",
       "      <th>23</th>\n",
       "      <td>OH</td>\n",
       "      <td>12135</td>\n",
       "      <td>0.890894</td>\n",
       "      <td>0.032531</td>\n",
       "      <td>10811.0</td>\n",
       "      <td>1324.0</td>\n",
       "      <td>0.032539</td>\n",
       "      <td>0.032468</td>\n",
       "      <td>0.002162</td>\n",
       "      <td>0.000443</td>\n",
       "      <td>0.004553</td>\n",
       "      <td>inf</td>\n",
       "    </tr>\n",
       "    <tr>\n",
       "      <th>24</th>\n",
       "      <td>MN</td>\n",
       "      <td>6526</td>\n",
       "      <td>0.891358</td>\n",
       "      <td>0.017495</td>\n",
       "      <td>5817.0</td>\n",
       "      <td>709.0</td>\n",
       "      <td>0.017508</td>\n",
       "      <td>0.017387</td>\n",
       "      <td>0.006939</td>\n",
       "      <td>0.000464</td>\n",
       "      <td>0.004778</td>\n",
       "      <td>inf</td>\n",
       "    </tr>\n",
       "    <tr>\n",
       "      <th>25</th>\n",
       "      <td>RI</td>\n",
       "      <td>1647</td>\n",
       "      <td>0.893139</td>\n",
       "      <td>0.004415</td>\n",
       "      <td>1471.0</td>\n",
       "      <td>176.0</td>\n",
       "      <td>0.004427</td>\n",
       "      <td>0.004316</td>\n",
       "      <td>0.025469</td>\n",
       "      <td>0.001781</td>\n",
       "      <td>0.018529</td>\n",
       "      <td>inf</td>\n",
       "    </tr>\n",
       "    <tr>\n",
       "      <th>26</th>\n",
       "      <td>MA</td>\n",
       "      <td>8858</td>\n",
       "      <td>0.893543</td>\n",
       "      <td>0.023746</td>\n",
       "      <td>7915.0</td>\n",
       "      <td>943.0</td>\n",
       "      <td>0.023822</td>\n",
       "      <td>0.023125</td>\n",
       "      <td>0.029704</td>\n",
       "      <td>0.000404</td>\n",
       "      <td>0.004235</td>\n",
       "      <td>inf</td>\n",
       "    </tr>\n",
       "    <tr>\n",
       "      <th>27</th>\n",
       "      <td>DE</td>\n",
       "      <td>1064</td>\n",
       "      <td>0.893797</td>\n",
       "      <td>0.002852</td>\n",
       "      <td>951.0</td>\n",
       "      <td>113.0</td>\n",
       "      <td>0.002862</td>\n",
       "      <td>0.002771</td>\n",
       "      <td>0.032381</td>\n",
       "      <td>0.000254</td>\n",
       "      <td>0.002678</td>\n",
       "      <td>inf</td>\n",
       "    </tr>\n",
       "    <tr>\n",
       "      <th>28</th>\n",
       "      <td>SD</td>\n",
       "      <td>801</td>\n",
       "      <td>0.893883</td>\n",
       "      <td>0.002147</td>\n",
       "      <td>716.0</td>\n",
       "      <td>85.0</td>\n",
       "      <td>0.002155</td>\n",
       "      <td>0.002084</td>\n",
       "      <td>0.033284</td>\n",
       "      <td>0.000086</td>\n",
       "      <td>0.000903</td>\n",
       "      <td>inf</td>\n",
       "    </tr>\n",
       "    <tr>\n",
       "      <th>29</th>\n",
       "      <td>IN</td>\n",
       "      <td>5210</td>\n",
       "      <td>0.894050</td>\n",
       "      <td>0.013967</td>\n",
       "      <td>4658.0</td>\n",
       "      <td>552.0</td>\n",
       "      <td>0.014020</td>\n",
       "      <td>0.013537</td>\n",
       "      <td>0.035048</td>\n",
       "      <td>0.000167</td>\n",
       "      <td>0.001764</td>\n",
       "      <td>inf</td>\n",
       "    </tr>\n",
       "    <tr>\n",
       "      <th>30</th>\n",
       "      <td>GA</td>\n",
       "      <td>11960</td>\n",
       "      <td>0.896990</td>\n",
       "      <td>0.032062</td>\n",
       "      <td>10728.0</td>\n",
       "      <td>1232.0</td>\n",
       "      <td>0.032289</td>\n",
       "      <td>0.030212</td>\n",
       "      <td>0.066473</td>\n",
       "      <td>0.002940</td>\n",
       "      <td>0.031425</td>\n",
       "      <td>inf</td>\n",
       "    </tr>\n",
       "    <tr>\n",
       "      <th>31</th>\n",
       "      <td>WA</td>\n",
       "      <td>8372</td>\n",
       "      <td>0.897157</td>\n",
       "      <td>0.022443</td>\n",
       "      <td>7511.0</td>\n",
       "      <td>861.0</td>\n",
       "      <td>0.022606</td>\n",
       "      <td>0.021114</td>\n",
       "      <td>0.068284</td>\n",
       "      <td>0.000167</td>\n",
       "      <td>0.001811</td>\n",
       "      <td>inf</td>\n",
       "    </tr>\n",
       "    <tr>\n",
       "      <th>32</th>\n",
       "      <td>OR</td>\n",
       "      <td>4814</td>\n",
       "      <td>0.897590</td>\n",
       "      <td>0.012905</td>\n",
       "      <td>4321.0</td>\n",
       "      <td>493.0</td>\n",
       "      <td>0.013005</td>\n",
       "      <td>0.012090</td>\n",
       "      <td>0.072988</td>\n",
       "      <td>0.000433</td>\n",
       "      <td>0.004704</td>\n",
       "      <td>inf</td>\n",
       "    </tr>\n",
       "    <tr>\n",
       "      <th>33</th>\n",
       "      <td>WI</td>\n",
       "      <td>4740</td>\n",
       "      <td>0.899789</td>\n",
       "      <td>0.012707</td>\n",
       "      <td>4265.0</td>\n",
       "      <td>475.0</td>\n",
       "      <td>0.012837</td>\n",
       "      <td>0.011648</td>\n",
       "      <td>0.097138</td>\n",
       "      <td>0.002199</td>\n",
       "      <td>0.024150</td>\n",
       "      <td>inf</td>\n",
       "    </tr>\n",
       "    <tr>\n",
       "      <th>34</th>\n",
       "      <td>MT</td>\n",
       "      <td>1103</td>\n",
       "      <td>0.901179</td>\n",
       "      <td>0.002957</td>\n",
       "      <td>994.0</td>\n",
       "      <td>109.0</td>\n",
       "      <td>0.002992</td>\n",
       "      <td>0.002673</td>\n",
       "      <td>0.112644</td>\n",
       "      <td>0.001390</td>\n",
       "      <td>0.015507</td>\n",
       "      <td>inf</td>\n",
       "    </tr>\n",
       "    <tr>\n",
       "      <th>35</th>\n",
       "      <td>TX</td>\n",
       "      <td>29158</td>\n",
       "      <td>0.903800</td>\n",
       "      <td>0.078166</td>\n",
       "      <td>26353.0</td>\n",
       "      <td>2805.0</td>\n",
       "      <td>0.079317</td>\n",
       "      <td>0.068787</td>\n",
       "      <td>0.142434</td>\n",
       "      <td>0.002621</td>\n",
       "      <td>0.029789</td>\n",
       "      <td>inf</td>\n",
       "    </tr>\n",
       "    <tr>\n",
       "      <th>36</th>\n",
       "      <td>IL</td>\n",
       "      <td>14833</td>\n",
       "      <td>0.904874</td>\n",
       "      <td>0.039764</td>\n",
       "      <td>13422.0</td>\n",
       "      <td>1411.0</td>\n",
       "      <td>0.040397</td>\n",
       "      <td>0.034602</td>\n",
       "      <td>0.154852</td>\n",
       "      <td>0.001074</td>\n",
       "      <td>0.012418</td>\n",
       "      <td>inf</td>\n",
       "    </tr>\n",
       "    <tr>\n",
       "      <th>37</th>\n",
       "      <td>CT</td>\n",
       "      <td>5775</td>\n",
       "      <td>0.905455</td>\n",
       "      <td>0.015481</td>\n",
       "      <td>5229.0</td>\n",
       "      <td>546.0</td>\n",
       "      <td>0.015738</td>\n",
       "      <td>0.013390</td>\n",
       "      <td>0.161611</td>\n",
       "      <td>0.000580</td>\n",
       "      <td>0.006760</td>\n",
       "      <td>inf</td>\n",
       "    </tr>\n",
       "    <tr>\n",
       "      <th>38</th>\n",
       "      <td>KS</td>\n",
       "      <td>3360</td>\n",
       "      <td>0.908036</td>\n",
       "      <td>0.009007</td>\n",
       "      <td>3051.0</td>\n",
       "      <td>309.0</td>\n",
       "      <td>0.009183</td>\n",
       "      <td>0.007578</td>\n",
       "      <td>0.192138</td>\n",
       "      <td>0.002581</td>\n",
       "      <td>0.030527</td>\n",
       "      <td>inf</td>\n",
       "    </tr>\n",
       "    <tr>\n",
       "      <th>39</th>\n",
       "      <td>SC</td>\n",
       "      <td>4448</td>\n",
       "      <td>0.909173</td>\n",
       "      <td>0.011924</td>\n",
       "      <td>4044.0</td>\n",
       "      <td>404.0</td>\n",
       "      <td>0.012172</td>\n",
       "      <td>0.009907</td>\n",
       "      <td>0.205830</td>\n",
       "      <td>0.001137</td>\n",
       "      <td>0.013691</td>\n",
       "      <td>inf</td>\n",
       "    </tr>\n",
       "    <tr>\n",
       "      <th>40</th>\n",
       "      <td>CO</td>\n",
       "      <td>7823</td>\n",
       "      <td>0.909242</td>\n",
       "      <td>0.020972</td>\n",
       "      <td>7113.0</td>\n",
       "      <td>710.0</td>\n",
       "      <td>0.021409</td>\n",
       "      <td>0.017411</td>\n",
       "      <td>0.206669</td>\n",
       "      <td>0.000069</td>\n",
       "      <td>0.000840</td>\n",
       "      <td>inf</td>\n",
       "    </tr>\n",
       "    <tr>\n",
       "      <th>41</th>\n",
       "      <td>VT</td>\n",
       "      <td>727</td>\n",
       "      <td>0.910591</td>\n",
       "      <td>0.001949</td>\n",
       "      <td>662.0</td>\n",
       "      <td>65.0</td>\n",
       "      <td>0.001992</td>\n",
       "      <td>0.001594</td>\n",
       "      <td>0.223133</td>\n",
       "      <td>0.001349</td>\n",
       "      <td>0.016464</td>\n",
       "      <td>inf</td>\n",
       "    </tr>\n",
       "    <tr>\n",
       "      <th>42</th>\n",
       "      <td>AK</td>\n",
       "      <td>1003</td>\n",
       "      <td>0.911266</td>\n",
       "      <td>0.002689</td>\n",
       "      <td>914.0</td>\n",
       "      <td>89.0</td>\n",
       "      <td>0.002751</td>\n",
       "      <td>0.002183</td>\n",
       "      <td>0.231449</td>\n",
       "      <td>0.000675</td>\n",
       "      <td>0.008316</td>\n",
       "      <td>inf</td>\n",
       "    </tr>\n",
       "    <tr>\n",
       "      <th>43</th>\n",
       "      <td>MS</td>\n",
       "      <td>980</td>\n",
       "      <td>0.912245</td>\n",
       "      <td>0.002627</td>\n",
       "      <td>894.0</td>\n",
       "      <td>86.0</td>\n",
       "      <td>0.002691</td>\n",
       "      <td>0.002109</td>\n",
       "      <td>0.243614</td>\n",
       "      <td>0.000979</td>\n",
       "      <td>0.012164</td>\n",
       "      <td>inf</td>\n",
       "    </tr>\n",
       "    <tr>\n",
       "      <th>44</th>\n",
       "      <td>WV</td>\n",
       "      <td>1926</td>\n",
       "      <td>0.920042</td>\n",
       "      <td>0.005163</td>\n",
       "      <td>1772.0</td>\n",
       "      <td>154.0</td>\n",
       "      <td>0.005333</td>\n",
       "      <td>0.003777</td>\n",
       "      <td>0.345167</td>\n",
       "      <td>0.007797</td>\n",
       "      <td>0.101553</td>\n",
       "      <td>inf</td>\n",
       "    </tr>\n",
       "    <tr>\n",
       "      <th>45</th>\n",
       "      <td>NH</td>\n",
       "      <td>1830</td>\n",
       "      <td>0.921858</td>\n",
       "      <td>0.004906</td>\n",
       "      <td>1687.0</td>\n",
       "      <td>143.0</td>\n",
       "      <td>0.005078</td>\n",
       "      <td>0.003507</td>\n",
       "      <td>0.370117</td>\n",
       "      <td>0.001816</td>\n",
       "      <td>0.024951</td>\n",
       "      <td>inf</td>\n",
       "    </tr>\n",
       "    <tr>\n",
       "      <th>46</th>\n",
       "      <td>WY</td>\n",
       "      <td>919</td>\n",
       "      <td>0.928183</td>\n",
       "      <td>0.002464</td>\n",
       "      <td>853.0</td>\n",
       "      <td>66.0</td>\n",
       "      <td>0.002567</td>\n",
       "      <td>0.001619</td>\n",
       "      <td>0.461360</td>\n",
       "      <td>0.006325</td>\n",
       "      <td>0.091242</td>\n",
       "      <td>inf</td>\n",
       "    </tr>\n",
       "    <tr>\n",
       "      <th>47</th>\n",
       "      <td>DC</td>\n",
       "      <td>1129</td>\n",
       "      <td>0.934455</td>\n",
       "      <td>0.003027</td>\n",
       "      <td>1055.0</td>\n",
       "      <td>74.0</td>\n",
       "      <td>0.003175</td>\n",
       "      <td>0.001815</td>\n",
       "      <td>0.559486</td>\n",
       "      <td>0.006272</td>\n",
       "      <td>0.098126</td>\n",
       "      <td>inf</td>\n",
       "    </tr>\n",
       "    <tr>\n",
       "      <th>48</th>\n",
       "      <td>ME</td>\n",
       "      <td>2</td>\n",
       "      <td>1.000000</td>\n",
       "      <td>0.000005</td>\n",
       "      <td>2.0</td>\n",
       "      <td>0.0</td>\n",
       "      <td>0.000006</td>\n",
       "      <td>0.000000</td>\n",
       "      <td>inf</td>\n",
       "      <td>0.065545</td>\n",
       "      <td>inf</td>\n",
       "      <td>inf</td>\n",
       "    </tr>\n",
       "    <tr>\n",
       "      <th>49</th>\n",
       "      <td>ID</td>\n",
       "      <td>10</td>\n",
       "      <td>1.000000</td>\n",
       "      <td>0.000027</td>\n",
       "      <td>10.0</td>\n",
       "      <td>0.0</td>\n",
       "      <td>0.000030</td>\n",
       "      <td>0.000000</td>\n",
       "      <td>inf</td>\n",
       "      <td>0.000000</td>\n",
       "      <td>NaN</td>\n",
       "      <td>inf</td>\n",
       "    </tr>\n",
       "  </tbody>\n",
       "</table>\n",
       "</div>"
      ],
      "text/plain": [
       "   addr_state  n_obs  prop_good  prop_n_obs   n_good   n_bad  prop_n_good  \\\n",
       "0          NE     13   0.461538    0.000035      6.0     7.0     0.000018   \n",
       "1          IA     13   0.769231    0.000035     10.0     3.0     0.000030   \n",
       "2          NV   5221   0.864585    0.013996   4514.0   707.0     0.013586   \n",
       "3          FL  25211   0.875808    0.067585  22080.0  3131.0     0.066456   \n",
       "4          HI   2001   0.877061    0.005364   1755.0   246.0     0.005282   \n",
       "5          AL   4671   0.877328    0.012522   4098.0   573.0     0.012334   \n",
       "6          NM   2075   0.883373    0.005563   1833.0   242.0     0.005517   \n",
       "7          VA  11366   0.883864    0.030470  10046.0  1320.0     0.030236   \n",
       "8          NY  32211   0.883984    0.086350  28474.0  3737.0     0.085701   \n",
       "9          OK   3284   0.884287    0.008804   2904.0   380.0     0.008740   \n",
       "10         TN   4845   0.884623    0.012988   4286.0   559.0     0.012900   \n",
       "11         MO   6017   0.884660    0.016130   5323.0   694.0     0.016021   \n",
       "12         LA   4359   0.885295    0.011685   3859.0   500.0     0.011615   \n",
       "13         MD   8771   0.885418    0.023513   7766.0  1005.0     0.023374   \n",
       "14         NC  10204   0.885633    0.027355   9037.0  1167.0     0.027199   \n",
       "15         CA  57199   0.885645    0.153337  50658.0  6541.0     0.152470   \n",
       "16         UT   2756   0.887155    0.007388   2445.0   311.0     0.007359   \n",
       "17         KY   3587   0.887650    0.009616   3184.0   403.0     0.009583   \n",
       "18         AZ   8645   0.888259    0.023175   7679.0   966.0     0.023112   \n",
       "19         NJ  14385   0.888286    0.038563  12778.0  1607.0     0.038459   \n",
       "20         AR   2760   0.889855    0.007399   2456.0   304.0     0.007392   \n",
       "21         MI   9191   0.890436    0.024639   8184.0  1007.0     0.024632   \n",
       "22         PA  13090   0.890451    0.035091  11656.0  1434.0     0.035082   \n",
       "23         OH  12135   0.890894    0.032531  10811.0  1324.0     0.032539   \n",
       "24         MN   6526   0.891358    0.017495   5817.0   709.0     0.017508   \n",
       "25         RI   1647   0.893139    0.004415   1471.0   176.0     0.004427   \n",
       "26         MA   8858   0.893543    0.023746   7915.0   943.0     0.023822   \n",
       "27         DE   1064   0.893797    0.002852    951.0   113.0     0.002862   \n",
       "28         SD    801   0.893883    0.002147    716.0    85.0     0.002155   \n",
       "29         IN   5210   0.894050    0.013967   4658.0   552.0     0.014020   \n",
       "30         GA  11960   0.896990    0.032062  10728.0  1232.0     0.032289   \n",
       "31         WA   8372   0.897157    0.022443   7511.0   861.0     0.022606   \n",
       "32         OR   4814   0.897590    0.012905   4321.0   493.0     0.013005   \n",
       "33         WI   4740   0.899789    0.012707   4265.0   475.0     0.012837   \n",
       "34         MT   1103   0.901179    0.002957    994.0   109.0     0.002992   \n",
       "35         TX  29158   0.903800    0.078166  26353.0  2805.0     0.079317   \n",
       "36         IL  14833   0.904874    0.039764  13422.0  1411.0     0.040397   \n",
       "37         CT   5775   0.905455    0.015481   5229.0   546.0     0.015738   \n",
       "38         KS   3360   0.908036    0.009007   3051.0   309.0     0.009183   \n",
       "39         SC   4448   0.909173    0.011924   4044.0   404.0     0.012172   \n",
       "40         CO   7823   0.909242    0.020972   7113.0   710.0     0.021409   \n",
       "41         VT    727   0.910591    0.001949    662.0    65.0     0.001992   \n",
       "42         AK   1003   0.911266    0.002689    914.0    89.0     0.002751   \n",
       "43         MS    980   0.912245    0.002627    894.0    86.0     0.002691   \n",
       "44         WV   1926   0.920042    0.005163   1772.0   154.0     0.005333   \n",
       "45         NH   1830   0.921858    0.004906   1687.0   143.0     0.005078   \n",
       "46         WY    919   0.928183    0.002464    853.0    66.0     0.002567   \n",
       "47         DC   1129   0.934455    0.003027   1055.0    74.0     0.003175   \n",
       "48         ME      2   1.000000    0.000005      2.0     0.0     0.000006   \n",
       "49         ID     10   1.000000    0.000027     10.0     0.0     0.000030   \n",
       "\n",
       "    prop_n_bad       WoE  diff_prop_good  diff_WoE   IV  \n",
       "0     0.000172 -2.251896             NaN       NaN  inf  \n",
       "1     0.000074 -0.893772        0.307692  1.358123  inf  \n",
       "2     0.017338 -0.243837        0.095355  0.649935  inf  \n",
       "3     0.076782 -0.144425        0.011223  0.099411  inf  \n",
       "4     0.006033 -0.132852        0.001253  0.011573  inf  \n",
       "5     0.014052 -0.130376        0.000267  0.002476  inf  \n",
       "6     0.005935 -0.072973        0.006045  0.057403  inf  \n",
       "7     0.032370 -0.068202        0.000491  0.004771  inf  \n",
       "8     0.091643 -0.067037        0.000120  0.001165  inf  \n",
       "9     0.009319 -0.064072        0.000304  0.002965  inf  \n",
       "10    0.013708 -0.060785        0.000336  0.003287  inf  \n",
       "11    0.017019 -0.060425        0.000037  0.000361  inf  \n",
       "12    0.012262 -0.054190        0.000635  0.006235  inf  \n",
       "13    0.024646 -0.052977        0.000123  0.001212  inf  \n",
       "14    0.028618 -0.050854        0.000215  0.002123  inf  \n",
       "15    0.160405 -0.050738        0.000012  0.000116  inf  \n",
       "16    0.007627 -0.035737        0.001510  0.015000  inf  \n",
       "17    0.009883 -0.030788        0.000495  0.004949  inf  \n",
       "18    0.023689 -0.024664        0.000609  0.006124  inf  \n",
       "19    0.039409 -0.024389        0.000027  0.000275  inf  \n",
       "20    0.007455 -0.008483        0.001569  0.015906  inf  \n",
       "21    0.024695 -0.002540        0.000581  0.005944  inf  \n",
       "22    0.035166 -0.002392        0.000014  0.000148  inf  \n",
       "23    0.032468  0.002162        0.000443  0.004553  inf  \n",
       "24    0.017387  0.006939        0.000464  0.004778  inf  \n",
       "25    0.004316  0.025469        0.001781  0.018529  inf  \n",
       "26    0.023125  0.029704        0.000404  0.004235  inf  \n",
       "27    0.002771  0.032381        0.000254  0.002678  inf  \n",
       "28    0.002084  0.033284        0.000086  0.000903  inf  \n",
       "29    0.013537  0.035048        0.000167  0.001764  inf  \n",
       "30    0.030212  0.066473        0.002940  0.031425  inf  \n",
       "31    0.021114  0.068284        0.000167  0.001811  inf  \n",
       "32    0.012090  0.072988        0.000433  0.004704  inf  \n",
       "33    0.011648  0.097138        0.002199  0.024150  inf  \n",
       "34    0.002673  0.112644        0.001390  0.015507  inf  \n",
       "35    0.068787  0.142434        0.002621  0.029789  inf  \n",
       "36    0.034602  0.154852        0.001074  0.012418  inf  \n",
       "37    0.013390  0.161611        0.000580  0.006760  inf  \n",
       "38    0.007578  0.192138        0.002581  0.030527  inf  \n",
       "39    0.009907  0.205830        0.001137  0.013691  inf  \n",
       "40    0.017411  0.206669        0.000069  0.000840  inf  \n",
       "41    0.001594  0.223133        0.001349  0.016464  inf  \n",
       "42    0.002183  0.231449        0.000675  0.008316  inf  \n",
       "43    0.002109  0.243614        0.000979  0.012164  inf  \n",
       "44    0.003777  0.345167        0.007797  0.101553  inf  \n",
       "45    0.003507  0.370117        0.001816  0.024951  inf  \n",
       "46    0.001619  0.461360        0.006325  0.091242  inf  \n",
       "47    0.001815  0.559486        0.006272  0.098126  inf  \n",
       "48    0.000000       inf        0.065545       inf  inf  \n",
       "49    0.000000       inf        0.000000       NaN  inf  "
      ]
     },
     "execution_count": 84,
     "metadata": {},
     "output_type": "execute_result"
    }
   ],
   "source": [
    "df_temp = woe_discrete(df_inputs_pre, 'addr_state', df_targets_pre)\n",
    "df_temp"
   ]
  },
  {
   "cell_type": "code",
   "execution_count": 85,
   "id": "experienced-delay",
   "metadata": {},
   "outputs": [
    {
     "data": {
      "image/png": "[encoded data removed]",
      "text/plain": [
       "<Figure size 1296x432 with 1 Axes>"
      ]
     },
     "metadata": {},
     "output_type": "display_data"
    }
   ],
   "source": [
    "plot_by_woe(df_temp)"
   ]
  },
  {
   "cell_type": "code",
   "execution_count": 86,
   "id": "scenic-acting",
   "metadata": {},
   "outputs": [],
   "source": [
    "if ['addr_state:ND'] in df_inputs_pre.columns.values:\n",
    "    pass\n",
    "else:\n",
    "    df_inputs_pre['addr_state:ND'] = 0"
   ]
  },
  {
   "cell_type": "code",
   "execution_count": 87,
   "id": "turned-voice",
   "metadata": {
    "scrolled": false
   },
   "outputs": [
    {
     "data": {
      "image/png": "[encoded data removed]",
      "text/plain": [
       "<Figure size 1296x432 with 1 Axes>"
      ]
     },
     "metadata": {},
     "output_type": "display_data"
    }
   ],
   "source": [
    "plot_by_woe(df_temp[2:-2])"
   ]
  },
  {
   "cell_type": "code",
   "execution_count": 88,
   "id": "transparent-thunder",
   "metadata": {},
   "outputs": [
    {
     "ename": "KeyError",
     "evalue": "'addr_state:'",
     "output_type": "error",
     "traceback": [
      "\u001b[1;31m---------------------------------------------------------------------------\u001b[0m",
      "\u001b[1;31mKeyError\u001b[0m                                  Traceback (most recent call last)",
      "\u001b[1;32m~\\anaconda3\\lib\\site-packages\\pandas\\core\\indexes\\base.py\u001b[0m in \u001b[0;36mget_loc\u001b[1;34m(self, key, method, tolerance)\u001b[0m\n\u001b[0;32m   3079\u001b[0m             \u001b[1;32mtry\u001b[0m\u001b[1;33m:\u001b[0m\u001b[1;33m\u001b[0m\u001b[1;33m\u001b[0m\u001b[0m\n\u001b[1;32m-> 3080\u001b[1;33m                 \u001b[1;32mreturn\u001b[0m \u001b[0mself\u001b[0m\u001b[1;33m.\u001b[0m\u001b[0m_engine\u001b[0m\u001b[1;33m.\u001b[0m\u001b[0mget_loc\u001b[0m\u001b[1;33m(\u001b[0m\u001b[0mcasted_key\u001b[0m\u001b[1;33m)\u001b[0m\u001b[1;33m\u001b[0m\u001b[1;33m\u001b[0m\u001b[0m\n\u001b[0m\u001b[0;32m   3081\u001b[0m             \u001b[1;32mexcept\u001b[0m \u001b[0mKeyError\u001b[0m \u001b[1;32mas\u001b[0m \u001b[0merr\u001b[0m\u001b[1;33m:\u001b[0m\u001b[1;33m\u001b[0m\u001b[1;33m\u001b[0m\u001b[0m\n",
      "\u001b[1;32mpandas\\_libs\\index.pyx\u001b[0m in \u001b[0;36mpandas._libs.index.IndexEngine.get_loc\u001b[1;34m()\u001b[0m\n",
      "\u001b[1;32mpandas\\_libs\\index.pyx\u001b[0m in \u001b[0;36mpandas._libs.index.IndexEngine.get_loc\u001b[1;34m()\u001b[0m\n",
      "\u001b[1;32mpandas\\_libs\\hashtable_class_helper.pxi\u001b[0m in \u001b[0;36mpandas._libs.hashtable.PyObjectHashTable.get_item\u001b[1;34m()\u001b[0m\n",
      "\u001b[1;32mpandas\\_libs\\hashtable_class_helper.pxi\u001b[0m in \u001b[0;36mpandas._libs.hashtable.PyObjectHashTable.get_item\u001b[1;34m()\u001b[0m\n",
      "\u001b[1;31mKeyError\u001b[0m: 'addr_state:'",
      "\nThe above exception was the direct cause of the following exception:\n",
      "\u001b[1;31mKeyError\u001b[0m                                  Traceback (most recent call last)",
      "\u001b[1;32m<ipython-input-88-069f99325a4c>\u001b[0m in \u001b[0;36m<module>\u001b[1;34m\u001b[0m\n\u001b[0;32m      1\u001b[0m \u001b[1;31m# combine ND, NE, IA, NV, FL, HI, and AL\u001b[0m\u001b[1;33m\u001b[0m\u001b[1;33m\u001b[0m\u001b[1;33m\u001b[0m\u001b[0m\n\u001b[1;32m----> 2\u001b[1;33m \u001b[0mdf_inputs_pre\u001b[0m\u001b[1;33m[\u001b[0m\u001b[1;34m'addr_state:ND_NE_IA_NV_FL_HI_AL'\u001b[0m\u001b[1;33m]\u001b[0m \u001b[1;33m=\u001b[0m \u001b[0msum\u001b[0m\u001b[1;33m(\u001b[0m\u001b[1;33m[\u001b[0m\u001b[0mdf_inputs_pre\u001b[0m\u001b[1;33m[\u001b[0m\u001b[1;34m'addr_state:'\u001b[0m\u001b[1;33m]\u001b[0m\u001b[1;33m]\u001b[0m\u001b[1;33m)\u001b[0m\u001b[1;33m\u001b[0m\u001b[1;33m\u001b[0m\u001b[0m\n\u001b[0m",
      "\u001b[1;32m~\\anaconda3\\lib\\site-packages\\pandas\\core\\frame.py\u001b[0m in \u001b[0;36m__getitem__\u001b[1;34m(self, key)\u001b[0m\n\u001b[0;32m   3022\u001b[0m             \u001b[1;32mif\u001b[0m \u001b[0mself\u001b[0m\u001b[1;33m.\u001b[0m\u001b[0mcolumns\u001b[0m\u001b[1;33m.\u001b[0m\u001b[0mnlevels\u001b[0m \u001b[1;33m>\u001b[0m \u001b[1;36m1\u001b[0m\u001b[1;33m:\u001b[0m\u001b[1;33m\u001b[0m\u001b[1;33m\u001b[0m\u001b[0m\n\u001b[0;32m   3023\u001b[0m                 \u001b[1;32mreturn\u001b[0m \u001b[0mself\u001b[0m\u001b[1;33m.\u001b[0m\u001b[0m_getitem_multilevel\u001b[0m\u001b[1;33m(\u001b[0m\u001b[0mkey\u001b[0m\u001b[1;33m)\u001b[0m\u001b[1;33m\u001b[0m\u001b[1;33m\u001b[0m\u001b[0m\n\u001b[1;32m-> 3024\u001b[1;33m             \u001b[0mindexer\u001b[0m \u001b[1;33m=\u001b[0m \u001b[0mself\u001b[0m\u001b[1;33m.\u001b[0m\u001b[0mcolumns\u001b[0m\u001b[1;33m.\u001b[0m\u001b[0mget_loc\u001b[0m\u001b[1;33m(\u001b[0m\u001b[0mkey\u001b[0m\u001b[1;33m)\u001b[0m\u001b[1;33m\u001b[0m\u001b[1;33m\u001b[0m\u001b[0m\n\u001b[0m\u001b[0;32m   3025\u001b[0m             \u001b[1;32mif\u001b[0m \u001b[0mis_integer\u001b[0m\u001b[1;33m(\u001b[0m\u001b[0mindexer\u001b[0m\u001b[1;33m)\u001b[0m\u001b[1;33m:\u001b[0m\u001b[1;33m\u001b[0m\u001b[1;33m\u001b[0m\u001b[0m\n\u001b[0;32m   3026\u001b[0m                 \u001b[0mindexer\u001b[0m \u001b[1;33m=\u001b[0m \u001b[1;33m[\u001b[0m\u001b[0mindexer\u001b[0m\u001b[1;33m]\u001b[0m\u001b[1;33m\u001b[0m\u001b[1;33m\u001b[0m\u001b[0m\n",
      "\u001b[1;32m~\\anaconda3\\lib\\site-packages\\pandas\\core\\indexes\\base.py\u001b[0m in \u001b[0;36mget_loc\u001b[1;34m(self, key, method, tolerance)\u001b[0m\n\u001b[0;32m   3080\u001b[0m                 \u001b[1;32mreturn\u001b[0m \u001b[0mself\u001b[0m\u001b[1;33m.\u001b[0m\u001b[0m_engine\u001b[0m\u001b[1;33m.\u001b[0m\u001b[0mget_loc\u001b[0m\u001b[1;33m(\u001b[0m\u001b[0mcasted_key\u001b[0m\u001b[1;33m)\u001b[0m\u001b[1;33m\u001b[0m\u001b[1;33m\u001b[0m\u001b[0m\n\u001b[0;32m   3081\u001b[0m             \u001b[1;32mexcept\u001b[0m \u001b[0mKeyError\u001b[0m \u001b[1;32mas\u001b[0m \u001b[0merr\u001b[0m\u001b[1;33m:\u001b[0m\u001b[1;33m\u001b[0m\u001b[1;33m\u001b[0m\u001b[0m\n\u001b[1;32m-> 3082\u001b[1;33m                 \u001b[1;32mraise\u001b[0m \u001b[0mKeyError\u001b[0m\u001b[1;33m(\u001b[0m\u001b[0mkey\u001b[0m\u001b[1;33m)\u001b[0m \u001b[1;32mfrom\u001b[0m \u001b[0merr\u001b[0m\u001b[1;33m\u001b[0m\u001b[1;33m\u001b[0m\u001b[0m\n\u001b[0m\u001b[0;32m   3083\u001b[0m \u001b[1;33m\u001b[0m\u001b[0m\n\u001b[0;32m   3084\u001b[0m         \u001b[1;32mif\u001b[0m \u001b[0mtolerance\u001b[0m \u001b[1;32mis\u001b[0m \u001b[1;32mnot\u001b[0m \u001b[1;32mNone\u001b[0m\u001b[1;33m:\u001b[0m\u001b[1;33m\u001b[0m\u001b[1;33m\u001b[0m\u001b[0m\n",
      "\u001b[1;31mKeyError\u001b[0m: 'addr_state:'"
     ]
    }
   ],
   "source": [
    "# combine ND, NE, IA, NV, FL, HI, and AL\n",
    "df_inputs_pre['addr_state:ND_NE_IA_NV_FL_HI_AL'] = sum([df_inputs_pre['addr_state:'], df_inputs_pre['addr_state:'], df_inputs_pre['addr_state:'], df_inputs_pre['addr_state:'], df_inputs_pre['addr_state:'], df_inputs_pre['addr_state:'], df_inputs_pre['addr_state:']])"
   ]
  },
  {
   "cell_type": "code",
   "execution_count": null,
   "id": "lined-gasoline",
   "metadata": {},
   "outputs": [],
   "source": [
    "# combine WV, NH, WY, DC, ME, ID\n",
    "df_inputs_pre['addr_state:WV_NH_WY_DC_ME_ID']"
   ]
  },
  {
   "cell_type": "code",
   "execution_count": 246,
   "id": "fantastic-lover",
   "metadata": {},
   "outputs": [
    {
     "data": {
      "image/png": "[encoded data removed]",
      "text/plain": [
       "<Figure size 1296x432 with 1 Axes>"
      ]
     },
     "metadata": {},
     "output_type": "display_data"
    }
   ],
   "source": [
    "plot_by_woe(df_temp[6:-6])"
   ]
  },
  {
   "cell_type": "code",
   "execution_count": 247,
   "id": "level-benefit",
   "metadata": {},
   "outputs": [],
   "source": [
    "# combine NM, VA, keep NY"
   ]
  },
  {
   "cell_type": "code",
   "execution_count": null,
   "id": "decimal-concept",
   "metadata": {},
   "outputs": [],
   "source": [
    "# combine OK, TN, MO, LA, MD, NC, keep CA"
   ]
  },
  {
   "cell_type": "code",
   "execution_count": null,
   "id": "frequent-november",
   "metadata": {},
   "outputs": [],
   "source": [
    "# combine UT, KY, AZ, NJ"
   ]
  },
  {
   "cell_type": "code",
   "execution_count": null,
   "id": "ethical-advocate",
   "metadata": {},
   "outputs": [],
   "source": [
    "# combine AR, MI, PA, OH, MN"
   ]
  },
  {
   "cell_type": "code",
   "execution_count": null,
   "id": "continued-flexibility",
   "metadata": {},
   "outputs": [],
   "source": [
    "# combine RI, MA, DE, SD, IN"
   ]
  },
  {
   "cell_type": "code",
   "execution_count": null,
   "id": "brutal-biotechnology",
   "metadata": {},
   "outputs": [],
   "source": [
    "# combine GA, WA, OR"
   ]
  },
  {
   "cell_type": "code",
   "execution_count": null,
   "id": "hundred-russian",
   "metadata": {},
   "outputs": [],
   "source": [
    "# combine WI, MT, keep TX"
   ]
  },
  {
   "cell_type": "code",
   "execution_count": null,
   "id": "adopted-greeting",
   "metadata": {},
   "outputs": [],
   "source": [
    "# combine IL, CT"
   ]
  },
  {
   "cell_type": "code",
   "execution_count": null,
   "id": "sustainable-australian",
   "metadata": {},
   "outputs": [],
   "source": [
    "# combine KS, SC, CO, VT, AK, MS"
   ]
  },
  {
   "cell_type": "code",
   "execution_count": null,
   "id": "protected-mapping",
   "metadata": {},
   "outputs": [],
   "source": []
  },
  {
   "cell_type": "code",
   "execution_count": null,
   "id": "rough-tampa",
   "metadata": {},
   "outputs": [],
   "source": []
  },
  {
   "cell_type": "code",
   "execution_count": null,
   "id": "concrete-leather",
   "metadata": {},
   "outputs": [],
   "source": []
  }
 ],
 "metadata": {
  "kernelspec": {
   "display_name": "Python 3",
   "language": "python",
   "name": "python3"
  },
  "language_info": {
   "codemirror_mode": {
    "name": "ipython",
    "version": 3
   },
   "file_extension": ".py",
   "mimetype": "text/x-python",
   "name": "python",
   "nbconvert_exporter": "python",
   "pygments_lexer": "ipython3",
   "version": "3.7.10"
  }
 },
 "nbformat": 4,
 "nbformat_minor": 5
}
