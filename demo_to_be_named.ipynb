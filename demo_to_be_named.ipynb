{
 "cells": [
  {
   "cell_type": "markdown",
   "id": "compact-namibia",
   "metadata": {},
   "source": [
    "## This project focuses on implementing machine learning in credit risk predictions. Detail description will be updated shortly."
   ]
  },
  {
   "cell_type": "markdown",
   "id": "independent-today",
   "metadata": {},
   "source": [
    "# PD model"
   ]
  },
  {
   "cell_type": "markdown",
   "id": "recovered-haven",
   "metadata": {},
   "source": [
    "## Import Libraries"
   ]
  },
  {
   "cell_type": "code",
   "execution_count": 2,
   "id": "personal-settlement",
   "metadata": {},
   "outputs": [],
   "source": [
    "import numpy as np\n",
    "import pandas as pd\n",
    "import matplotlib.pyplot as plt\n",
    "%matplotlib inline\n",
    "import seaborn as sns\n",
    "sns.set()"
   ]
  },
  {
   "cell_type": "code",
   "execution_count": 3,
   "id": "major-bracelet",
   "metadata": {},
   "outputs": [],
   "source": [
    "from sklearn.model_selection import train_test_split\n",
    "from sklearn.linear_model import LogisticRegression\n",
    "from sklearn import metrics"
   ]
  },
  {
   "cell_type": "markdown",
   "id": "amateur-latter",
   "metadata": {},
   "source": [
    "# Import Data"
   ]
  },
  {
   "cell_type": "code",
   "execution_count": null,
   "id": "trying-terry",
   "metadata": {},
   "outputs": [],
   "source": [
    "loan_data_backup = pd.read_csv('loan_data.csv')"
   ]
  },
  {
   "cell_type": "code",
   "execution_count": null,
   "id": "reflected-toyota",
   "metadata": {},
   "outputs": [],
   "source": [
    "loan_data = loan_data_backup.copy()"
   ]
  },
  {
   "cell_type": "code",
   "execution_count": null,
   "id": "brave-wallet",
   "metadata": {},
   "outputs": [],
   "source": [
    "pd.options.display.max_columns = None"
   ]
  },
  {
   "cell_type": "code",
   "execution_count": null,
   "id": "charitable-paintball",
   "metadata": {
    "scrolled": false
   },
   "outputs": [],
   "source": [
    "loan_data.head()"
   ]
  },
  {
   "cell_type": "code",
   "execution_count": null,
   "id": "scheduled-spice",
   "metadata": {},
   "outputs": [],
   "source": [
    "loan_data.columns.values"
   ]
  },
  {
   "cell_type": "code",
   "execution_count": null,
   "id": "indian-tobacco",
   "metadata": {},
   "outputs": [],
   "source": [
    "loan_data.info()"
   ]
  },
  {
   "cell_type": "markdown",
   "id": "possible-silence",
   "metadata": {},
   "source": [
    "# General Processing"
   ]
  },
  {
   "cell_type": "markdown",
   "id": "floral-youth",
   "metadata": {},
   "source": [
    "## Preprocessing few continuous variables"
   ]
  },
  {
   "cell_type": "markdown",
   "id": "standing-timeline",
   "metadata": {},
   "source": [
    "### Turn 'emp_length' to float"
   ]
  },
  {
   "cell_type": "code",
   "execution_count": null,
   "id": "cosmetic-excess",
   "metadata": {},
   "outputs": [],
   "source": [
    "loan_data['emp_length'].unique()"
   ]
  },
  {
   "cell_type": "code",
   "execution_count": null,
   "id": "composite-ethernet",
   "metadata": {},
   "outputs": [],
   "source": [
    "loan_data['emp_length_int'] = loan_data['emp_length'].str.replace('\\+ years', '')\n",
    "loan_data['emp_length_int'] = loan_data['emp_length_int'].str.replace('< 1 year', str(0))\n",
    "loan_data['emp_length_int'] = loan_data['emp_length_int'].str.replace(' years', '')\n",
    "loan_data['emp_length_int'] = loan_data['emp_length_int'].str.replace(' year', '')\n",
    "loan_data['emp_length_int'] = loan_data['emp_length_int'].str.replace('n/a', str(0))"
   ]
  },
  {
   "cell_type": "code",
   "execution_count": null,
   "id": "controversial-initial",
   "metadata": {},
   "outputs": [],
   "source": [
    "loan_data['emp_length_int'].head(10)"
   ]
  },
  {
   "cell_type": "code",
   "execution_count": null,
   "id": "recent-monte",
   "metadata": {},
   "outputs": [],
   "source": [
    "loan_data['emp_length_int'] = pd.to_numeric(loan_data['emp_length_int'])"
   ]
  },
  {
   "cell_type": "code",
   "execution_count": null,
   "id": "registered-witch",
   "metadata": {},
   "outputs": [],
   "source": [
    "type(loan_data['emp_length_int'][0])"
   ]
  },
  {
   "cell_type": "code",
   "execution_count": null,
   "id": "advance-nerve",
   "metadata": {},
   "outputs": [],
   "source": [
    "loan_data['emp_length_int'].unique()"
   ]
  },
  {
   "cell_type": "code",
   "execution_count": null,
   "id": "later-quilt",
   "metadata": {},
   "outputs": [],
   "source": [
    "loan_data['emp_length_int'].isnull().sum()"
   ]
  },
  {
   "cell_type": "markdown",
   "id": "based-specification",
   "metadata": {},
   "source": [
    "### Turn 'term' into int"
   ]
  },
  {
   "cell_type": "code",
   "execution_count": null,
   "id": "according-accountability",
   "metadata": {},
   "outputs": [],
   "source": [
    "loan_data['term'].unique()"
   ]
  },
  {
   "cell_type": "code",
   "execution_count": null,
   "id": "organizational-trash",
   "metadata": {},
   "outputs": [],
   "source": [
    "loan_data['term_int'] = loan_data['term'].str.split(expand=True)[0]"
   ]
  },
  {
   "cell_type": "code",
   "execution_count": null,
   "id": "floral-sugar",
   "metadata": {},
   "outputs": [],
   "source": [
    "loan_data['term_int'] = pd.to_numeric(loan_data['term_int'])"
   ]
  },
  {
   "cell_type": "code",
   "execution_count": null,
   "id": "later-france",
   "metadata": {},
   "outputs": [],
   "source": [
    "loan_data['term_int'].unique()"
   ]
  },
  {
   "cell_type": "markdown",
   "id": "norwegian-intermediate",
   "metadata": {},
   "source": [
    "### Turn 'earliest_cr_line' and '' into months since"
   ]
  },
  {
   "cell_type": "code",
   "execution_count": null,
   "id": "instrumental-economics",
   "metadata": {},
   "outputs": [],
   "source": [
    "loan_data['earliest_cr_line'].head()"
   ]
  },
  {
   "cell_type": "code",
   "execution_count": null,
   "id": "useful-shield",
   "metadata": {},
   "outputs": [],
   "source": [
    "loan_data['earliest_cr_line_date'] = pd.to_datetime(loan_data['earliest_cr_line'], format='%b-%y')"
   ]
  },
  {
   "cell_type": "code",
   "execution_count": null,
   "id": "uniform-minutes",
   "metadata": {},
   "outputs": [],
   "source": [
    "loan_data['earliest_cr_line_date'].head()"
   ]
  },
  {
   "cell_type": "code",
   "execution_count": null,
   "id": "bizarre-beatles",
   "metadata": {},
   "outputs": [],
   "source": [
    "# date = pd.datetime.today()\n",
    "date = pd.to_datetime('2017-12-01')"
   ]
  },
  {
   "cell_type": "code",
   "execution_count": null,
   "id": "buried-sound",
   "metadata": {},
   "outputs": [],
   "source": [
    "date - loan_data['earliest_cr_line_date'].head()"
   ]
  },
  {
   "cell_type": "code",
   "execution_count": null,
   "id": "increased-rochester",
   "metadata": {},
   "outputs": [],
   "source": [
    "loan_data['mths_since_earliest_cr_line'] = round(pd.to_numeric((date - loan_data['earliest_cr_line_date']) / np.timedelta64(1,'M')))"
   ]
  },
  {
   "cell_type": "code",
   "execution_count": null,
   "id": "available-starter",
   "metadata": {},
   "outputs": [],
   "source": [
    "loan_data['mths_since_earliest_cr_line'].describe()"
   ]
  },
  {
   "cell_type": "code",
   "execution_count": null,
   "id": "other-increase",
   "metadata": {},
   "outputs": [],
   "source": [
    "loan_data.loc[:,['earliest_cr_line','earliest_cr_line_date','mths_since_earliest_cr_line']][loan_data['mths_since_earliest_cr_line']<0]"
   ]
  },
  {
   "cell_type": "code",
   "execution_count": null,
   "id": "sonic-block",
   "metadata": {},
   "outputs": [],
   "source": [
    "loan_data['mths_since_earliest_cr_line'][loan_data['mths_since_earliest_cr_line']<0] = loan_data['mths_since_earliest_cr_line'].max() "
   ]
  },
  {
   "cell_type": "code",
   "execution_count": null,
   "id": "dimensional-conspiracy",
   "metadata": {},
   "outputs": [],
   "source": [
    "min(loan_data['mths_since_earliest_cr_line'])"
   ]
  },
  {
   "cell_type": "markdown",
   "id": "advisory-request",
   "metadata": {},
   "source": [
    "### Turn 'issue_d' and '' into timestamp"
   ]
  },
  {
   "cell_type": "markdown",
   "id": "automated-nepal",
   "metadata": {},
   "source": [
    "In this homework, your task is to preprocess the ‘term’ variable and the ‘issue_d’ variable, similarly to the ‘employment length’ variable and the ‘earliest credit line variable’ we preprocessed in the last lecture. 1. From the variable ‘term’, which is of object (text string) data type, create a new variable, named ‘term_int’, which is numeric and contains the term of the loan in months. Tips: First remove the unnecessary text from each row; then, turn what remains into a numeric variable. 2. From the variable ‘issue date’ (‘issue_d’), which is of object (text string) data type, create a new variable, named ‘mths_since_issue_d’ (‘months since issue date’). Tips: First turn the test strings into dates; then calculate the difference between December 1st 2017 and each of the issue dates, in months; finally, check if the values make sense."
   ]
  },
  {
   "cell_type": "code",
   "execution_count": null,
   "id": "distinct-indianapolis",
   "metadata": {},
   "outputs": [],
   "source": [
    "loan_data['issue_d_date'] = pd.to_datetime(loan_data['issue_d'], format='%b-%y')"
   ]
  },
  {
   "cell_type": "code",
   "execution_count": null,
   "id": "another-michigan",
   "metadata": {},
   "outputs": [],
   "source": [
    "date - pd.to_datetime(loan_data['issue_d'], format='%b-%y')"
   ]
  },
  {
   "cell_type": "code",
   "execution_count": null,
   "id": "greater-blast",
   "metadata": {},
   "outputs": [],
   "source": [
    "loan_data['mths_since_issue_d'] = round(pd.to_numeric((date - loan_data['issue_d_date']) / np.timedelta64(1,'M')))"
   ]
  },
  {
   "cell_type": "code",
   "execution_count": null,
   "id": "equivalent-horror",
   "metadata": {},
   "outputs": [],
   "source": [
    "loan_data['mths_since_issue_d'].unique()"
   ]
  },
  {
   "cell_type": "code",
   "execution_count": null,
   "id": "polished-acrobat",
   "metadata": {},
   "outputs": [],
   "source": [
    "loan_data['mths_since_issue_d'].describe()"
   ]
  },
  {
   "cell_type": "markdown",
   "id": "immediate-mortgage",
   "metadata": {},
   "source": [
    "### Dummy discrete variables"
   ]
  },
  {
   "cell_type": "code",
   "execution_count": null,
   "id": "impressive-planning",
   "metadata": {},
   "outputs": [],
   "source": [
    "loan_data.columns.values"
   ]
  },
  {
   "cell_type": "code",
   "execution_count": null,
   "id": "floral-edgar",
   "metadata": {},
   "outputs": [],
   "source": [
    "loan_data['grade'].head()"
   ]
  },
  {
   "cell_type": "code",
   "execution_count": null,
   "id": "expected-superior",
   "metadata": {},
   "outputs": [],
   "source": [
    "loan_data_dummies = pd.get_dummies(loan_data['grade'], prefix = 'grade', prefix_sep=':')"
   ]
  },
  {
   "cell_type": "code",
   "execution_count": null,
   "id": "confused-water",
   "metadata": {},
   "outputs": [],
   "source": [
    "loan_data_dummies = [\n",
    "    pd.get_dummies(loan_data['grade'], prefix = 'grade', prefix_sep=':'),\n",
    "    pd.get_dummies(loan_data['sub_grade'], prefix = 'sub_grade', prefix_sep=':'),\n",
    "    pd.get_dummies(loan_data['home_ownership'], prefix = 'home_ownership', prefix_sep=':'),\n",
    "    pd.get_dummies(loan_data['verification_status'], prefix = 'verification_status', prefix_sep=':'),\n",
    "    pd.get_dummies(loan_data['loan_status'], prefix = 'loan_status', prefix_sep=':'),\n",
    "    pd.get_dummies(loan_data['purpose'], prefix = 'purpose', prefix_sep=':'),\n",
    "    pd.get_dummies(loan_data['addr_state'], prefix = 'addr_state', prefix_sep=':'),\n",
    "    pd.get_dummies(loan_data['initial_list_status'], prefix = 'initial_list_status', prefix_sep=':')\n",
    "]"
   ]
  },
  {
   "cell_type": "code",
   "execution_count": null,
   "id": "organized-falls",
   "metadata": {},
   "outputs": [],
   "source": [
    "loan_data_dummies = pd.concat(loan_data_dummies, axis=1)"
   ]
  },
  {
   "cell_type": "code",
   "execution_count": null,
   "id": "sixth-construction",
   "metadata": {
    "scrolled": true
   },
   "outputs": [],
   "source": [
    "type(loan_data_dummies)"
   ]
  },
  {
   "cell_type": "code",
   "execution_count": null,
   "id": "constitutional-tuning",
   "metadata": {},
   "outputs": [],
   "source": [
    "loan_data = pd.concat([loan_data, loan_data_dummies], axis=1)"
   ]
  },
  {
   "cell_type": "code",
   "execution_count": null,
   "id": "electoral-winner",
   "metadata": {
    "scrolled": true
   },
   "outputs": [],
   "source": [
    "loan_data.columns.values"
   ]
  },
  {
   "cell_type": "code",
   "execution_count": null,
   "id": "dominican-semiconductor",
   "metadata": {},
   "outputs": [],
   "source": [
    "pd.options.display.max_rows = 100"
   ]
  },
  {
   "cell_type": "code",
   "execution_count": null,
   "id": "consistent-elevation",
   "metadata": {},
   "outputs": [],
   "source": [
    "loan_data.isnull().sum().values"
   ]
  },
  {
   "cell_type": "code",
   "execution_count": null,
   "id": "fresh-encyclopedia",
   "metadata": {
    "scrolled": false
   },
   "outputs": [],
   "source": [
    "loan_data.isnull().sum() /loan_data.shape[0]"
   ]
  },
  {
   "cell_type": "code",
   "execution_count": null,
   "id": "infinite-camera",
   "metadata": {},
   "outputs": [],
   "source": [
    "loan_data['total_rev_hi_lim'].fillna(loan_data['funded_amnt'], inplace = True)"
   ]
  },
  {
   "cell_type": "code",
   "execution_count": null,
   "id": "younger-mother",
   "metadata": {},
   "outputs": [],
   "source": [
    "loan_data['total_rev_hi_lim'].isnull().sum()"
   ]
  },
  {
   "cell_type": "markdown",
   "id": "loose-vinyl",
   "metadata": {},
   "source": [
    "In this homework, your task is to fill in the missing values for the remaining variables we are going to use in our models. Here are the instructions about what values to replace the missing values with for the remaining variables. 1. For annual income (‘annual_inc’), replace the missing values with the mean of the non-missing values of the variable. 2. For all of the following variables, replace the missing values with zeroes: ‘mths_since_earliest_cr_line’ ‘acc_now_delinq’ ‘total_acc’ ‘pub_rec’ ‘open_acc’ ‘inq_last_6mths’ ‘delinq_2yrs’ ‘emp_length_int’"
   ]
  },
  {
   "cell_type": "code",
   "execution_count": null,
   "id": "anticipated-decline",
   "metadata": {},
   "outputs": [],
   "source": [
    "loan_data['annual_inc'].isnull().sum()"
   ]
  },
  {
   "cell_type": "code",
   "execution_count": null,
   "id": "stuffed-truck",
   "metadata": {},
   "outputs": [],
   "source": [
    "loan_data['annual_inc'].fillna(loan_data['annual_inc'].mean(), inplace=True)"
   ]
  },
  {
   "cell_type": "code",
   "execution_count": null,
   "id": "annual-honduras",
   "metadata": {},
   "outputs": [],
   "source": [
    "loan_data['annual_inc'].isnull().sum()"
   ]
  },
  {
   "cell_type": "code",
   "execution_count": null,
   "id": "professional-still",
   "metadata": {},
   "outputs": [],
   "source": [
    "loan_data.update(loan_data[['mths_since_earliest_cr_line', 'acc_now_delinq', 'total_acc','pub_rec','open_acc','inq_last_6mths','delinq_2yrs','emp_length_int']].fillna(0))"
   ]
  },
  {
   "cell_type": "code",
   "execution_count": null,
   "id": "republican-dispute",
   "metadata": {},
   "outputs": [],
   "source": [
    "loan_data[['mths_since_earliest_cr_line', 'acc_now_delinq', 'total_acc','pub_rec','open_acc','inq_last_6mths','delinq_2yrs','emp_length_int']].isnull().sum()"
   ]
  },
  {
   "cell_type": "markdown",
   "id": "competent-immigration",
   "metadata": {},
   "source": [
    "create good/bad definition"
   ]
  },
  {
   "cell_type": "code",
   "execution_count": null,
   "id": "remarkable-monitor",
   "metadata": {},
   "outputs": [],
   "source": [
    "loan_data['loan_status'].unique()"
   ]
  },
  {
   "cell_type": "code",
   "execution_count": null,
   "id": "ethical-median",
   "metadata": {},
   "outputs": [],
   "source": [
    "loan_data['loan_status'].value_counts()/loan_data['loan_status'].count()"
   ]
  },
  {
   "cell_type": "code",
   "execution_count": null,
   "id": "concerned-celebrity",
   "metadata": {},
   "outputs": [],
   "source": [
    "loan_data['good_bad'] =np.where(loan_data['loan_status'].isin(['Charged Off','Default', 'Does not meet the credit policy. Status:Charged Off', 'Late (31-120 days)']),0,1)"
   ]
  },
  {
   "cell_type": "code",
   "execution_count": null,
   "id": "independent-survival",
   "metadata": {
    "scrolled": false
   },
   "outputs": [],
   "source": [
    "loan_data['good_bad'].unique()"
   ]
  },
  {
   "cell_type": "markdown",
   "id": "comprehensive-fancy",
   "metadata": {},
   "source": [
    "Independent Variables into dummies according to **WoE**\n",
    "\n",
    "fine classing -> WoE calculation -> Coarse classing\n",
    "\n",
    "# $\\text{WoE}_{i}=\\ln \\left(\\frac{\\%(y=1)_i}{\\%(y=0)_i}\\right)$\n",
    "\n",
    "Information Value (IF)\n",
    "\n",
    "# $\\text{IF} = \\sum_{i=1}^{k}\\left[\\left(\\%(y=1)_i-\\%(y=0)_i\\right)\\right]\\times\\text{WoE_i}$\n",
    "Suppose there are k categories for this variable. Either continuous after classing or discrete.\n",
    "\n",
    "More advanced methods: classing with WoE and sample size. abnormal values goes to the two side classes."
   ]
  },
  {
   "cell_type": "markdown",
   "id": "multiple-dependence",
   "metadata": {},
   "source": [
    "# splitting data"
   ]
  },
  {
   "cell_type": "code",
   "execution_count": null,
   "id": "driven-contest",
   "metadata": {},
   "outputs": [],
   "source": [
    "X_train, X_test, y_train, y_test = train_test_split(loan_data.drop('good_bad',axis=1), loan_data['good_bad'], test_size=0.2, random_state=42)"
   ]
  },
  {
   "cell_type": "code",
   "execution_count": null,
   "id": "julian-layout",
   "metadata": {},
   "outputs": [],
   "source": [
    "X_train.shape"
   ]
  },
  {
   "cell_type": "code",
   "execution_count": null,
   "id": "careful-tutorial",
   "metadata": {
    "scrolled": true
   },
   "outputs": [],
   "source": [
    "y_train.shape"
   ]
  },
  {
   "cell_type": "code",
   "execution_count": null,
   "id": "wicked-charm",
   "metadata": {},
   "outputs": [],
   "source": [
    "X_test.shape"
   ]
  },
  {
   "cell_type": "code",
   "execution_count": null,
   "id": "juvenile-conference",
   "metadata": {},
   "outputs": [],
   "source": [
    "y_test.shape"
   ]
  },
  {
   "cell_type": "code",
   "execution_count": null,
   "id": "accurate-diabetes",
   "metadata": {},
   "outputs": [],
   "source": [
    "#df_inputs_pre = X_train\n",
    "#df_targets_pre = y_train\n",
    "df_inputs_pre = X_test\n",
    "df_targets_pre = y_test"
   ]
  },
  {
   "cell_type": "code",
   "execution_count": null,
   "id": "hydraulic-spare",
   "metadata": {},
   "outputs": [],
   "source": [
    "df_inputs_pre['grade'].unique()"
   ]
  },
  {
   "cell_type": "code",
   "execution_count": null,
   "id": "massive-pierre",
   "metadata": {},
   "outputs": [],
   "source": [
    "df1 = pd.concat([df_inputs_pre['grade'], df_targets_pre],axis=1)\n",
    "df1.head()"
   ]
  },
  {
   "cell_type": "code",
   "execution_count": null,
   "id": "civilian-pantyhose",
   "metadata": {},
   "outputs": [],
   "source": [
    "df1.groupby(df1.columns.values[0], as_index=False)[df1.columns.values[1]].count()"
   ]
  },
  {
   "cell_type": "code",
   "execution_count": null,
   "id": "loved-shadow",
   "metadata": {},
   "outputs": [],
   "source": [
    "df1.groupby(df1.columns.values[0], as_index=False)[df1.columns.values[1]].mean()"
   ]
  },
  {
   "cell_type": "code",
   "execution_count": null,
   "id": "unexpected-oregon",
   "metadata": {},
   "outputs": [],
   "source": [
    "df1 = pd.concat([df1.groupby(df1.columns.values[0], as_index=False)[df1.columns.values[1]].count(),\n",
    "                df1.groupby(df1.columns.values[0], as_index=False)[df1.columns.values[1]].mean()], axis=1)"
   ]
  },
  {
   "cell_type": "code",
   "execution_count": null,
   "id": "twelve-barcelona",
   "metadata": {},
   "outputs": [],
   "source": [
    "df1.head()"
   ]
  },
  {
   "cell_type": "code",
   "execution_count": null,
   "id": "preliminary-policy",
   "metadata": {},
   "outputs": [],
   "source": [
    "df1 = df1.iloc[:,[0,1,3]]\n",
    "df1.columns = [df1.columns.values[0], 'n_obs', 'prop_good']"
   ]
  },
  {
   "cell_type": "code",
   "execution_count": null,
   "id": "biblical-cinema",
   "metadata": {},
   "outputs": [],
   "source": [
    "df1['prop_n_obs'] = df1['n_obs']/df1['n_obs'].sum()"
   ]
  },
  {
   "cell_type": "code",
   "execution_count": null,
   "id": "environmental-decline",
   "metadata": {},
   "outputs": [],
   "source": [
    "df1['n_good'] = df1['prop_good'] * df1['n_obs']\n",
    "df1['n_bad'] = (1 - df1['prop_good']) * df1['n_obs']"
   ]
  },
  {
   "cell_type": "code",
   "execution_count": null,
   "id": "complex-bangladesh",
   "metadata": {},
   "outputs": [],
   "source": [
    "df1['prop_n_good'] = df1['n_good'] / df1['n_good'].sum()\n",
    "df1['prop_n_bad'] = df1['n_bad'] / df1['n_bad'].sum()"
   ]
  },
  {
   "cell_type": "code",
   "execution_count": null,
   "id": "metropolitan-jackson",
   "metadata": {},
   "outputs": [],
   "source": [
    "df1['WoE'] = np.log(df1['prop_n_good']/df1['prop_n_bad'])"
   ]
  },
  {
   "cell_type": "code",
   "execution_count": null,
   "id": "clinical-motivation",
   "metadata": {},
   "outputs": [],
   "source": [
    "df1 = df1.sort_values(['WoE'])\n",
    "df1 = df1.reset_index(drop = True)"
   ]
  },
  {
   "cell_type": "code",
   "execution_count": null,
   "id": "incident-simulation",
   "metadata": {},
   "outputs": [],
   "source": [
    "df1['diff_prop_good'] = df1['prop_good'].diff().abs()\n",
    "df1['diff_WoE'] = df1['WoE'].diff().abs()"
   ]
  },
  {
   "cell_type": "code",
   "execution_count": null,
   "id": "satisfactory-costa",
   "metadata": {},
   "outputs": [],
   "source": [
    "df1['IV'] = (df1['prop_n_good']-df1['prop_n_bad'])*df1['WoE']\n",
    "df1['IV'] = df1['IV'].sum()"
   ]
  },
  {
   "cell_type": "code",
   "execution_count": null,
   "id": "demographic-point",
   "metadata": {
    "scrolled": false
   },
   "outputs": [],
   "source": [
    "df1"
   ]
  },
  {
   "cell_type": "markdown",
   "id": "champion-angel",
   "metadata": {},
   "source": [
    "# Automatic WoE and IV calculator"
   ]
  },
  {
   "cell_type": "code",
   "execution_count": null,
   "id": "married-third",
   "metadata": {},
   "outputs": [],
   "source": [
    "def woe_discrete(df, discrete_variable_name, good_bad_variable_df):\n",
    "    df = pd.concat([df[discrete_variable_name], good_bad_variable_df],axis=1)\n",
    "    df = pd.concat([df.groupby(df.columns.values[0], as_index=False)[df.columns.values[1]].count(),\n",
    "                df.groupby(df.columns.values[0], as_index=False)[df.columns.values[1]].mean()], axis=1)\n",
    "    df = df.iloc[:,[0,1,3]]\n",
    "    df.columns = [df.columns.values[0], 'n_obs', 'prop_good']\n",
    "    df['prop_n_obs'] = df['n_obs']/df['n_obs'].sum()\n",
    "    df['n_good'] = df['prop_good'] * df['n_obs']\n",
    "    df['n_bad'] = (1 - df['prop_good']) * df['n_obs']\n",
    "    df['prop_n_good'] = df['n_good'] / df['n_good'].sum()\n",
    "    df['prop_n_bad'] = df['n_bad'] / df['n_bad'].sum()\n",
    "    df['WoE'] = np.log(df['prop_n_good']/df['prop_n_bad'])\n",
    "    df = df.sort_values(['WoE'])\n",
    "    df = df.reset_index(drop = True)\n",
    "    df['diff_prop_good'] = df['prop_good'].diff().abs()\n",
    "    df['diff_WoE'] = df['WoE'].diff().abs()\n",
    "    df['IV'] = (df['prop_n_good']-df['prop_n_bad'])*df['WoE']\n",
    "    df['IV'] = df['IV'].sum()\n",
    "    return df"
   ]
  },
  {
   "cell_type": "code",
   "execution_count": null,
   "id": "married-victory",
   "metadata": {},
   "outputs": [],
   "source": [
    "df_temp = woe_discrete(df_inputs_pre, 'grade', df_targets_pre)"
   ]
  },
  {
   "cell_type": "code",
   "execution_count": null,
   "id": "japanese-concert",
   "metadata": {},
   "outputs": [],
   "source": [
    "df_temp"
   ]
  },
  {
   "cell_type": "markdown",
   "id": "secret-edwards",
   "metadata": {},
   "source": [
    "# WoE Plotter"
   ]
  },
  {
   "cell_type": "code",
   "execution_count": null,
   "id": "genuine-injury",
   "metadata": {},
   "outputs": [],
   "source": [
    "def plot_by_woe(df_WoE, rotation_of_x_axis_labels = 0):\n",
    "    x = np.array(df_WoE.iloc[:, 0].apply(str))\n",
    "    y = df_WoE['WoE']\n",
    "    plt.figure(figsize = (18, 6))\n",
    "    plt.plot(x, y, marker='o', linestyle='--', color='k')\n",
    "    plt.xlabel(df_WoE.columns[0])\n",
    "    plt.ylabel('Weight of Evidence')\n",
    "    plt.title(str('Weight of Evidence ' + df_WoE.columns[0]))\n",
    "    plt.xticks(rotation = rotation_of_x_axis_labels)"
   ]
  },
  {
   "cell_type": "code",
   "execution_count": null,
   "id": "stopped-assignment",
   "metadata": {},
   "outputs": [],
   "source": [
    "plot_by_woe(df_temp)"
   ]
  },
  {
   "cell_type": "markdown",
   "id": "laughing-netscape",
   "metadata": {},
   "source": [
    "## Do rest discrete variables\n",
    "\n",
    "'home_ownership'"
   ]
  },
  {
   "cell_type": "code",
   "execution_count": null,
   "id": "traditional-machine",
   "metadata": {},
   "outputs": [],
   "source": [
    "df_temp = woe_discrete(df_inputs_pre, 'home_ownership', df_targets_pre)"
   ]
  },
  {
   "cell_type": "code",
   "execution_count": null,
   "id": "rocky-commission",
   "metadata": {},
   "outputs": [],
   "source": [
    "df_temp"
   ]
  },
  {
   "cell_type": "code",
   "execution_count": null,
   "id": "turned-bulgarian",
   "metadata": {},
   "outputs": [],
   "source": [
    "plot_by_woe(df_temp)"
   ]
  },
  {
   "cell_type": "markdown",
   "id": "smooth-freeze",
   "metadata": {},
   "source": [
    "Due to high risk and low number of samples, we combine the 'ANY', 'OTHER' and 'NONE' categories to the riskest category with enough number of observations, i.e. 'RENT'"
   ]
  },
  {
   "cell_type": "code",
   "execution_count": null,
   "id": "desirable-connection",
   "metadata": {},
   "outputs": [],
   "source": [
    "df_inputs_pre['home_ownership:RENT_OTHER_NONE_ANY'] = sum([df_inputs_pre['home_ownership:RENT'], df_inputs_pre['home_ownership:OTHER'], df_inputs_pre['home_ownership:NONE'], df_inputs_pre['home_ownership:ANY']])"
   ]
  },
  {
   "cell_type": "markdown",
   "id": "dominant-eleven",
   "metadata": {},
   "source": [
    "'addr_state'"
   ]
  },
  {
   "cell_type": "code",
   "execution_count": null,
   "id": "bronze-arrow",
   "metadata": {},
   "outputs": [],
   "source": [
    "df_inputs_pre['addr_state'].unique()"
   ]
  },
  {
   "cell_type": "code",
   "execution_count": null,
   "id": "voluntary-version",
   "metadata": {
    "scrolled": true
   },
   "outputs": [],
   "source": [
    "df_temp = woe_discrete(df_inputs_pre, 'addr_state', df_targets_pre)\n",
    "df_temp"
   ]
  },
  {
   "cell_type": "code",
   "execution_count": null,
   "id": "experienced-delay",
   "metadata": {},
   "outputs": [],
   "source": [
    "plot_by_woe(df_temp)"
   ]
  },
  {
   "cell_type": "code",
   "execution_count": null,
   "id": "scenic-acting",
   "metadata": {},
   "outputs": [],
   "source": [
    "if ['addr_state:ND'] in df_inputs_pre.columns.values:\n",
    "    pass\n",
    "else:\n",
    "    df_inputs_pre['addr_state:ND'] = 0"
   ]
  },
  {
   "cell_type": "code",
   "execution_count": null,
   "id": "turned-voice",
   "metadata": {
    "scrolled": false
   },
   "outputs": [],
   "source": [
    "plot_by_woe(df_temp[2:-2])"
   ]
  },
  {
   "cell_type": "code",
   "execution_count": null,
   "id": "transparent-thunder",
   "metadata": {},
   "outputs": [],
   "source": [
    "# combine ND, NE, IA, NV, FL, HI, and AL\n",
    "df_inputs_pre['addr_state:ND_NE_IA_NV_FL_HI_AL'] = sum([df_inputs_pre['addr_state:ND'], df_inputs_pre['addr_state:NE'], df_inputs_pre['addr_state:IA'], df_inputs_pre['addr_state:NV'], df_inputs_pre['addr_state:FL'], df_inputs_pre['addr_state:HI'], df_inputs_pre['addr_state:AL']])"
   ]
  },
  {
   "cell_type": "code",
   "execution_count": null,
   "id": "lined-gasoline",
   "metadata": {},
   "outputs": [],
   "source": [
    "# combine WV, NH, WY, DC, ME, ID\n",
    "df_inputs_pre['addr_state:WV_NH_WY_DC_ME_ID'] = sum([df_inputs_pre['addr_state:WV'], df_inputs_pre['addr_state:NH'], df_inputs_pre['addr_state:WY'], df_inputs_pre['addr_state:DC'], df_inputs_pre['addr_state:ME'], df_inputs_pre['addr_state:ID']])"
   ]
  },
  {
   "cell_type": "code",
   "execution_count": null,
   "id": "fantastic-lover",
   "metadata": {},
   "outputs": [],
   "source": [
    "plot_by_woe(df_temp[6:-6])"
   ]
  },
  {
   "cell_type": "code",
   "execution_count": null,
   "id": "level-benefit",
   "metadata": {},
   "outputs": [],
   "source": [
    "# combine NM, VA, keep NY\n",
    "df_inputs_pre['addr_state:NM_VA'] = sum([df_inputs_pre['addr_state:NM'], df_inputs_pre['addr_state:VA']])"
   ]
  },
  {
   "cell_type": "code",
   "execution_count": null,
   "id": "decimal-concept",
   "metadata": {},
   "outputs": [],
   "source": [
    "# combine OK, TN, MO, LA, MD, NC, keep CA\n",
    "df_inputs_pre['addr_state:OK_TN_MO_LA_MD_NC'] = sum([df_inputs_pre['addr_state:OK'], df_inputs_pre['addr_state:TN'], df_inputs_pre['addr_state:MO'], df_inputs_pre['addr_state:LA'], df_inputs_pre['addr_state:MD'], df_inputs_pre['addr_state:NC']])"
   ]
  },
  {
   "cell_type": "code",
   "execution_count": null,
   "id": "frequent-november",
   "metadata": {},
   "outputs": [],
   "source": [
    "# combine UT, KY, AZ, NJ\n",
    "df_inputs_pre['addr_state:UT_KY_AZ_NJ'] = sum([df_inputs_pre['addr_state:UT'], df_inputs_pre['addr_state:KY'], df_inputs_pre['addr_state:AZ'], df_inputs_pre['addr_state:NJ']])"
   ]
  },
  {
   "cell_type": "code",
   "execution_count": null,
   "id": "ethical-advocate",
   "metadata": {},
   "outputs": [],
   "source": [
    "# combine AR, MI, PA, OH, MN\n",
    "df_inputs_pre['addr_state:AR_MI_PA_OH_MN'] = sum([df_inputs_pre['addr_state:AR'], df_inputs_pre['addr_state:MI'], df_inputs_pre['addr_state:PA'], df_inputs_pre['addr_state:OH'], df_inputs_pre['addr_state:MN']])"
   ]
  },
  {
   "cell_type": "code",
   "execution_count": null,
   "id": "continued-flexibility",
   "metadata": {},
   "outputs": [],
   "source": [
    "# combine RI, MA, DE, SD, IN\n",
    "df_inputs_pre['addr_state:RI_MA_DE_SD_IN'] = sum([df_inputs_pre['addr_state:RI'], df_inputs_pre['addr_state:MA'], df_inputs_pre['addr_state:DE'], df_inputs_pre['addr_state:SD'], df_inputs_pre['addr_state:IN']])"
   ]
  },
  {
   "cell_type": "code",
   "execution_count": null,
   "id": "brutal-biotechnology",
   "metadata": {},
   "outputs": [],
   "source": [
    "# combine GA, WA, OR\n",
    "df_inputs_pre['addr_state:GA_WA_OR'] = sum([df_inputs_pre['addr_state:GA'], df_inputs_pre['addr_state:WA'], df_inputs_pre['addr_state:OR']])"
   ]
  },
  {
   "cell_type": "code",
   "execution_count": null,
   "id": "hundred-russian",
   "metadata": {},
   "outputs": [],
   "source": [
    "# combine WI, MT, keep TX\n",
    "df_inputs_pre['addr_state:WI_MT'] = sum([df_inputs_pre['addr_state:WI'], df_inputs_pre['addr_state:MT']])"
   ]
  },
  {
   "cell_type": "code",
   "execution_count": null,
   "id": "adopted-greeting",
   "metadata": {},
   "outputs": [],
   "source": [
    "# combine IL, CT\n",
    "df_inputs_pre['addr_state:IL_CT'] = sum([df_inputs_pre['addr_state:IL'], df_inputs_pre['addr_state:CT']])"
   ]
  },
  {
   "cell_type": "code",
   "execution_count": null,
   "id": "sustainable-australian",
   "metadata": {},
   "outputs": [],
   "source": [
    "# combine KS, SC, CO, VT, AK, MS\n",
    "df_inputs_pre['addr_state:KS_SC_CO_VT_AK_MS'] = sum([df_inputs_pre['addr_state:KS'], df_inputs_pre['addr_state:CO'], df_inputs_pre['addr_state:SC'], df_inputs_pre['addr_state:VT'], df_inputs_pre['addr_state:AK'], df_inputs_pre['addr_state:MS']])"
   ]
  },
  {
   "cell_type": "markdown",
   "id": "underlying-stream",
   "metadata": {},
   "source": [
    "'verification_status'"
   ]
  },
  {
   "cell_type": "code",
   "execution_count": null,
   "id": "designed-guitar",
   "metadata": {},
   "outputs": [],
   "source": [
    "df_temp = woe_discrete(df_inputs_pre, 'verification_status', df_targets_pre)\n",
    "df_temp"
   ]
  },
  {
   "cell_type": "code",
   "execution_count": null,
   "id": "authorized-french",
   "metadata": {},
   "outputs": [],
   "source": [
    "plot_by_woe(df_temp)"
   ]
  },
  {
   "cell_type": "code",
   "execution_count": null,
   "id": "looking-baking",
   "metadata": {},
   "outputs": [],
   "source": [
    "# 'verification_status:Not Verified', 'verification_status:Source Verified', verification_status:Verified"
   ]
  },
  {
   "cell_type": "markdown",
   "id": "fallen-sheriff",
   "metadata": {},
   "source": [
    "'purpose'"
   ]
  },
  {
   "cell_type": "code",
   "execution_count": null,
   "id": "progressive-thriller",
   "metadata": {},
   "outputs": [],
   "source": [
    "df_temp = woe_discrete(df_inputs_pre, 'purpose', df_targets_pre)\n",
    "df_temp"
   ]
  },
  {
   "cell_type": "code",
   "execution_count": null,
   "id": "proper-sharp",
   "metadata": {
    "scrolled": true
   },
   "outputs": [],
   "source": [
    "plot_by_woe(df_temp, 90)"
   ]
  },
  {
   "cell_type": "code",
   "execution_count": null,
   "id": "radio-treasury",
   "metadata": {},
   "outputs": [],
   "source": [
    "# 'purpose:smabus_edu_mov_hou_oth', 'purpose:reen_med_wed_vac', 'purpose:debt_consolidation', 'purpose:hom_maj_car', 'purpose:credit_card'\n",
    "#df_inputs_pre['purpose:']\n",
    "df_inputs_pre['purpose:smabus_edu_mov_hou_oth'] = sum([df_inputs_pre['purpose:small_business'], df_inputs_pre['purpose:educational'], df_inputs_pre['purpose:moving'], df_inputs_pre['purpose:house'], df_inputs_pre['purpose:other']])\n",
    "\n",
    "df_inputs_pre['purpose:reen_med_wed_vac'] = sum([df_inputs_pre['purpose:renewable_energy'], df_inputs_pre['purpose:medical'], df_inputs_pre['purpose:wedding'], df_inputs_pre['purpose:vacation']])\n",
    "\n",
    "df_inputs_pre['purpose:hom_maj_car'] = sum([df_inputs_pre['purpose:home_improvement'], df_inputs_pre['purpose:major_purchase'], df_inputs_pre['purpose:car']])"
   ]
  },
  {
   "cell_type": "markdown",
   "id": "armed-middle",
   "metadata": {},
   "source": [
    "'initial_list_status'"
   ]
  },
  {
   "cell_type": "code",
   "execution_count": null,
   "id": "personal-nudist",
   "metadata": {},
   "outputs": [],
   "source": [
    "df_temp = woe_discrete(df_inputs_pre, 'initial_list_status', df_targets_pre)\n",
    "df_temp"
   ]
  },
  {
   "cell_type": "code",
   "execution_count": null,
   "id": "nearby-delight",
   "metadata": {},
   "outputs": [],
   "source": [
    "plot_by_woe(df_temp)"
   ]
  },
  {
   "cell_type": "code",
   "execution_count": null,
   "id": "breathing-lodging",
   "metadata": {},
   "outputs": [],
   "source": [
    "#'initial_list_status:f', 'initial_list_status:w'"
   ]
  },
  {
   "cell_type": "code",
   "execution_count": null,
   "id": "indoor-pennsylvania",
   "metadata": {},
   "outputs": [],
   "source": []
  },
  {
   "cell_type": "markdown",
   "id": "seeing-diagnosis",
   "metadata": {},
   "source": [
    "### Continuous varialbes processing"
   ]
  },
  {
   "cell_type": "code",
   "execution_count": null,
   "id": "rough-tampa",
   "metadata": {},
   "outputs": [],
   "source": [
    "def woe_ordered_continuous(df, continuous_variable_name, good_bad_variable_df):\n",
    "    df = pd.concat([df[continuous_variable_name], good_bad_variable_df],axis=1)\n",
    "    df = pd.concat([df.groupby(df.columns.values[0], as_index=False)[df.columns.values[1]].count(),\n",
    "    df.groupby(df.columns.values[0], as_index=False)[df.columns.values[1]].mean()], axis=1)\n",
    "    df = df.iloc[:,[0,1,3]]\n",
    "    df.columns = [df.columns.values[0], 'n_obs', 'prop_good']\n",
    "    df['prop_n_obs'] = df['n_obs']/df['n_obs'].sum()\n",
    "    df['n_good'] = df['prop_good'] * df['n_obs']\n",
    "    df['n_bad'] = (1 - df['prop_good']) * df['n_obs']\n",
    "    df['prop_n_good'] = df['n_good'] / df['n_good'].sum()\n",
    "    df['prop_n_bad'] = df['n_bad'] / df['n_bad'].sum()\n",
    "    df['WoE'] = np.log(df['prop_n_good']/df['prop_n_bad'])\n",
    "    # df = df.sort_values(['WoE'])\n",
    "    # df = df.reset_index(drop = True)\n",
    "    df['diff_prop_good'] = df['prop_good'].diff().abs()\n",
    "    df['diff_WoE'] = df['WoE'].diff().abs()\n",
    "    df['IV'] = (df['prop_n_good']-df['prop_n_bad'])*df['WoE']\n",
    "    df['IV'] = df['IV'].sum()\n",
    "    return df"
   ]
  },
  {
   "cell_type": "markdown",
   "id": "infinite-philippines",
   "metadata": {},
   "source": [
    "'term_int' variable"
   ]
  },
  {
   "cell_type": "code",
   "execution_count": null,
   "id": "recent-heater",
   "metadata": {},
   "outputs": [],
   "source": [
    "df_inputs_pre['term_int'].unique()"
   ]
  },
  {
   "cell_type": "code",
   "execution_count": null,
   "id": "anonymous-insulin",
   "metadata": {},
   "outputs": [],
   "source": [
    "df_temp = woe_ordered_continuous(df_inputs_pre, 'term_int', df_targets_pre)"
   ]
  },
  {
   "cell_type": "code",
   "execution_count": null,
   "id": "variable-albany",
   "metadata": {},
   "outputs": [],
   "source": [
    "df_temp"
   ]
  },
  {
   "cell_type": "code",
   "execution_count": null,
   "id": "ordered-light",
   "metadata": {},
   "outputs": [],
   "source": [
    "plot_by_woe(df_temp)"
   ]
  },
  {
   "cell_type": "code",
   "execution_count": null,
   "id": "imperial-protocol",
   "metadata": {},
   "outputs": [],
   "source": [
    "# 'term:36', 'term:60'\n",
    "df_inputs_pre['term:36'] = np.where(df_inputs_pre['term_int'] == 36, 1, 0)\n",
    "df_inputs_pre['term:60'] = np.where(df_inputs_pre['term_int'] == 60, 1, 0)"
   ]
  },
  {
   "cell_type": "markdown",
   "id": "stone-cross",
   "metadata": {},
   "source": [
    "'emp_length_int'"
   ]
  },
  {
   "cell_type": "code",
   "execution_count": null,
   "id": "solar-scene",
   "metadata": {},
   "outputs": [],
   "source": [
    "df_inputs_pre['emp_length_int'].unique()"
   ]
  },
  {
   "cell_type": "code",
   "execution_count": null,
   "id": "collective-title",
   "metadata": {},
   "outputs": [],
   "source": [
    "df_temp = woe_ordered_continuous(df_inputs_pre, 'emp_length_int', df_targets_pre)"
   ]
  },
  {
   "cell_type": "code",
   "execution_count": null,
   "id": "opposed-scratch",
   "metadata": {},
   "outputs": [],
   "source": [
    "df_temp"
   ]
  },
  {
   "cell_type": "code",
   "execution_count": null,
   "id": "polished-joshua",
   "metadata": {},
   "outputs": [],
   "source": [
    "plot_by_woe(df_temp)"
   ]
  },
  {
   "cell_type": "code",
   "execution_count": null,
   "id": "concrete-leather",
   "metadata": {},
   "outputs": [],
   "source": [
    "# add 'emp_length:0', add 'emp_length:1', add 'emp_length:2-4', add 'emp_length:5-6', add 'emp_length:7-9', add 'emp_length:10'\n",
    "df_inputs_pre['emp_length:0'] = np.where(df_inputs_pre['emp_length_int'].isin([0]),1,0)\n",
    "df_inputs_pre['emp_length:1'] = np.where(df_inputs_pre['emp_length_int'].isin([1]),1,0)\n",
    "df_inputs_pre['emp_length:2-4'] = np.where(df_inputs_pre['emp_length_int'].isin(range(2,5)),1,0)\n",
    "df_inputs_pre['emp_length:5-6'] = np.where(df_inputs_pre['emp_length_int'].isin(range(5,7)),1,0)\n",
    "df_inputs_pre['emp_length:7-9'] = np.where(df_inputs_pre['emp_length_int'].isin(range(7,10)),1,0)\n",
    "df_inputs_pre['emp_length:10'] = np.where(df_inputs_pre['emp_length_int'].isin([10]),1,0)"
   ]
  },
  {
   "cell_type": "markdown",
   "id": "royal-stomach",
   "metadata": {},
   "source": [
    "'mths_since_issue_d'"
   ]
  },
  {
   "cell_type": "code",
   "execution_count": null,
   "id": "formed-rwanda",
   "metadata": {},
   "outputs": [],
   "source": [
    "df_inputs_pre['mths_since_issue_d'].unique()"
   ]
  },
  {
   "cell_type": "code",
   "execution_count": null,
   "id": "important-lesbian",
   "metadata": {},
   "outputs": [],
   "source": [
    "df_inputs_pre['mths_since_issue_d_factor'] = pd.cut(df_inputs_pre['mths_since_issue_d'],50)\n",
    "df_inputs_pre['mths_since_issue_d_factor']"
   ]
  },
  {
   "cell_type": "code",
   "execution_count": null,
   "id": "exposed-redhead",
   "metadata": {
    "scrolled": true
   },
   "outputs": [],
   "source": [
    "df_temp = woe_ordered_continuous(df_inputs_pre, 'mths_since_issue_d_factor', df_targets_pre)\n",
    "df_temp"
   ]
  },
  {
   "cell_type": "code",
   "execution_count": null,
   "id": "healthy-minute",
   "metadata": {},
   "outputs": [],
   "source": [
    "plot_by_woe(df_temp, 90)"
   ]
  },
  {
   "cell_type": "code",
   "execution_count": null,
   "id": "instant-paraguay",
   "metadata": {},
   "outputs": [],
   "source": [
    "plot_by_woe(df_temp.iloc[3:,:], 90)"
   ]
  },
  {
   "cell_type": "code",
   "execution_count": null,
   "id": "convinced-humanitarian",
   "metadata": {},
   "outputs": [],
   "source": [
    "# 'mths_since_issue_d::<38', 'mths_since_issue_d:38-39', 'mths_since_issue_d:40-41', 'mths_since_issue_d:42-48', mths_since_issue_d:49-52', 'mths_since_issue_d:53-64', 'mths_since_issue_d:65-84', 'mths_since_issue_d:>84'\n",
    "df_inputs_pre['mths_since_issue_d::<38'] = np.where(df_inputs_pre['mths_since_issue_d'].isin(range(38)),1,0)\n",
    "df_inputs_pre['mths_since_issue_d:38-39'] = np.where(df_inputs_pre['mths_since_issue_d'].isin(range(38,40)),1,0)  \n",
    "df_inputs_pre['mths_since_issue_d:40-41'] = np.where(df_inputs_pre['mths_since_issue_d'].isin(range(40,42)),1,0)  \n",
    "df_inputs_pre['mths_since_issue_d:42-48'] = np.where(df_inputs_pre['mths_since_issue_d'].isin(range(42,49)),1,0)\n",
    "df_inputs_pre['mths_since_issue_d:49-52'] = np.where(df_inputs_pre['mths_since_issue_d'].isin(range(49,53)),1,0)  \n",
    "df_inputs_pre['mths_since_issue_d:53-64'] = np.where(df_inputs_pre['mths_since_issue_d'].isin(range(53,65)),1,0)  \n",
    "df_inputs_pre['mths_since_issue_d:65-84'] = np.where(df_inputs_pre['mths_since_issue_d'].isin(range(65,85)),1,0)  \n",
    "df_inputs_pre['mths_since_issue_d:>84'] = np.where(df_inputs_pre['mths_since_issue_d'].isin(range(85, int(df_inputs_pre['mths_since_issue_d'].max()))),1,0)  "
   ]
  },
  {
   "cell_type": "markdown",
   "id": "concerned-business",
   "metadata": {},
   "source": [
    "'int_rate'"
   ]
  },
  {
   "cell_type": "code",
   "execution_count": null,
   "id": "polish-mixture",
   "metadata": {},
   "outputs": [],
   "source": [
    "df_inputs_pre['int_rate_factor'] = pd.cut(df_inputs_pre['int_rate'],50)"
   ]
  },
  {
   "cell_type": "code",
   "execution_count": null,
   "id": "british-cedar",
   "metadata": {},
   "outputs": [],
   "source": [
    "df_inputs_pre['int_rate_factor']"
   ]
  },
  {
   "cell_type": "code",
   "execution_count": null,
   "id": "corporate-short",
   "metadata": {},
   "outputs": [],
   "source": [
    "df_temp = woe_ordered_continuous(df_inputs_pre, 'int_rate_factor', df_targets_pre)"
   ]
  },
  {
   "cell_type": "code",
   "execution_count": null,
   "id": "false-appendix",
   "metadata": {
    "scrolled": true
   },
   "outputs": [],
   "source": [
    "df_temp"
   ]
  },
  {
   "cell_type": "code",
   "execution_count": null,
   "id": "figured-coalition",
   "metadata": {},
   "outputs": [],
   "source": [
    "plot_by_woe(df_temp,90)"
   ]
  },
  {
   "cell_type": "code",
   "execution_count": null,
   "id": "pediatric-relief",
   "metadata": {},
   "outputs": [],
   "source": [
    "# 'int_rate:<9.548', 'int_rate:9.548-12.025', 'int_rate:12.025-15.74', 'int_rate:15.75-20.281', 'int_rate:>20.281'\n",
    "df_inputs_pre['int_rate:<9.548'] = np.where((df_inputs_pre['int_rate']< 9.548),1,0)\n",
    "df_inputs_pre['int_rate:9.548-12.025'] = np.where((df_inputs_pre['int_rate'] >= 9.548 ) & (df_inputs_pre['int_rate'] < 12.025), 1, 0)\n",
    "df_inputs_pre['int_rate:12.025-15.74'] = np.where((df_inputs_pre['int_rate'] >= 12.025) & (df_inputs_pre['int_rate'] < 15.74), 1, 0)\n",
    "df_inputs_pre['int_rate:15.75-20.281'] = np.where((df_inputs_pre['int_rate'] >= 15.74) & (df_inputs_pre['int_rate'] < 20.281), 1, 0)\n",
    "df_inputs_pre['int_rate:>20.281'] = np.where((df_inputs_pre['int_rate'] >= 20.281), 1, 0)"
   ]
  },
  {
   "cell_type": "markdown",
   "id": "express-czech",
   "metadata": {},
   "source": [
    "'funded_amnt'"
   ]
  },
  {
   "cell_type": "code",
   "execution_count": null,
   "id": "fitting-florence",
   "metadata": {},
   "outputs": [],
   "source": [
    "df_inputs_pre['funded_amnt_factor'] = pd.cut(df_inputs_pre['funded_amnt'], 50)"
   ]
  },
  {
   "cell_type": "code",
   "execution_count": null,
   "id": "republican-finder",
   "metadata": {},
   "outputs": [],
   "source": [
    "df_temp = woe_ordered_continuous(df_inputs_pre, 'funded_amnt_factor', df_targets_pre)"
   ]
  },
  {
   "cell_type": "code",
   "execution_count": null,
   "id": "flexible-stamp",
   "metadata": {
    "scrolled": true
   },
   "outputs": [],
   "source": [
    "df_temp"
   ]
  },
  {
   "cell_type": "code",
   "execution_count": null,
   "id": "unusual-silicon",
   "metadata": {
    "scrolled": true
   },
   "outputs": [],
   "source": [
    "plot_by_woe(df_temp,90)"
   ]
  },
  {
   "cell_type": "markdown",
   "id": "rural-inside",
   "metadata": {},
   "source": [
    "not to use 'funded_amnt'"
   ]
  },
  {
   "cell_type": "markdown",
   "id": "auburn-shape",
   "metadata": {},
   "source": [
    "'mths_since_earliest_cr_line'"
   ]
  },
  {
   "cell_type": "code",
   "execution_count": null,
   "id": "advanced-essex",
   "metadata": {},
   "outputs": [],
   "source": [
    "df_inputs_pre['mths_since_earliest_cr_line_factor'] = pd.cut(df_inputs_pre['mths_since_earliest_cr_line'],50)"
   ]
  },
  {
   "cell_type": "code",
   "execution_count": null,
   "id": "promising-gamma",
   "metadata": {
    "scrolled": true
   },
   "outputs": [],
   "source": [
    "df_temp = woe_ordered_continuous(df_inputs_pre, 'mths_since_earliest_cr_line_factor', df_targets_pre)\n",
    "df_temp"
   ]
  },
  {
   "cell_type": "code",
   "execution_count": null,
   "id": "downtown-insight",
   "metadata": {},
   "outputs": [],
   "source": [
    "plot_by_woe(df_temp,90)"
   ]
  },
  {
   "cell_type": "code",
   "execution_count": null,
   "id": "smooth-fraud",
   "metadata": {},
   "outputs": [],
   "source": [
    "plot_by_woe(df_temp.iloc[6:,:],90)"
   ]
  },
  {
   "cell_type": "code",
   "execution_count": null,
   "id": "identified-massage",
   "metadata": {},
   "outputs": [],
   "source": [
    "# 'mths_since_earliest_cr_line:<140', 'mths_since_earliest_cr_line:141-164', 'mths_since_earliest_cr_line:165-247', 'mths_since_earliest_cr_line:248-270', 'mths_since_earliest_cr_line:271-352', 'mths_since_earliest_cr_line:>352'\n",
    "\n",
    "df_inputs_pre['mths_since_earliest_cr_line:<140'] = np.where(df_inputs_pre['mths_since_earliest_cr_line'].isin(range(140)),1,0)\n",
    "\n",
    "df_inputs_pre['mths_since_earliest_cr_line:141-164'] = np.where(df_inputs_pre['mths_since_earliest_cr_line'].isin(range(141,165)),1,0)\n",
    "\n",
    "df_inputs_pre['mths_since_earliest_cr_line:165-247'] = np.where(df_inputs_pre['mths_since_earliest_cr_line'].isin(range(165,248)),1,0)\n",
    "\n",
    "df_inputs_pre['mths_since_earliest_cr_line:248-270'] = np.where(df_inputs_pre['mths_since_earliest_cr_line'].isin(range(248,271)),1,0)\n",
    "\n",
    "df_inputs_pre['mths_since_earliest_cr_line:271-352'] = np.where(df_inputs_pre['mths_since_earliest_cr_line'].isin(range(271,353)),1,0)\n",
    "\n",
    "df_inputs_pre['mths_since_earliest_cr_line:>352'] = np.where(df_inputs_pre['mths_since_earliest_cr_line'].isin(range(353)),1,0)"
   ]
  },
  {
   "cell_type": "markdown",
   "id": "virgin-truth",
   "metadata": {},
   "source": [
    "'delinq_2yrs'"
   ]
  },
  {
   "cell_type": "code",
   "execution_count": null,
   "id": "voluntary-henry",
   "metadata": {},
   "outputs": [],
   "source": [
    "df_inputs_pre['delinq_2yrs'].unique()"
   ]
  },
  {
   "cell_type": "code",
   "execution_count": null,
   "id": "cosmetic-plaza",
   "metadata": {
    "scrolled": true
   },
   "outputs": [],
   "source": [
    "df_temp = woe_ordered_continuous(df_inputs_pre, 'delinq_2yrs', df_targets_pre)\n",
    "df_temp"
   ]
  },
  {
   "cell_type": "code",
   "execution_count": null,
   "id": "genuine-arthritis",
   "metadata": {},
   "outputs": [],
   "source": [
    "plot_by_woe(df_temp)"
   ]
  },
  {
   "cell_type": "code",
   "execution_count": null,
   "id": "early-horse",
   "metadata": {},
   "outputs": [],
   "source": [
    "# 'delinq_2yrs:0', 'delinq_2yrs:1-3', 'delinq_2yrs:>=4'\n",
    "df_inputs_pre['delinq_2yrs:0'] = np.where((df_inputs_pre['delinq_2yrs'] == 0), 1, 0)\n",
    "\n",
    "df_inputs_pre['delinq_2yrs:1-3'] = np.where((df_inputs_pre['delinq_2yrs'] >=1) & (df_inputs_pre['delinq_2yrs'] <=3), 1, 0)\n",
    "\n",
    "df_inputs_pre['delinq_2yrs:>=4'] = np.where((df_inputs_pre['delinq_2yrs'] >=4), 1, 0)"
   ]
  },
  {
   "cell_type": "markdown",
   "id": "macro-palestinian",
   "metadata": {},
   "source": [
    "'inq_last_6mths'"
   ]
  },
  {
   "cell_type": "code",
   "execution_count": null,
   "id": "younger-summary",
   "metadata": {},
   "outputs": [],
   "source": [
    "df_inputs_pre['inq_last_6mths'].unique()"
   ]
  },
  {
   "cell_type": "code",
   "execution_count": null,
   "id": "closed-executive",
   "metadata": {
    "scrolled": true
   },
   "outputs": [],
   "source": [
    "df_temp = woe_ordered_continuous(df_inputs_pre, 'inq_last_6mths', df_targets_pre)\n",
    "df_temp"
   ]
  },
  {
   "cell_type": "code",
   "execution_count": null,
   "id": "excessive-resource",
   "metadata": {
    "scrolled": true
   },
   "outputs": [],
   "source": [
    "plot_by_woe(df_temp)"
   ]
  },
  {
   "cell_type": "code",
   "execution_count": null,
   "id": "plastic-ordinary",
   "metadata": {},
   "outputs": [],
   "source": [
    "# 'inq_last_6mths:0', 'inq_last_6mths:1-2', 'inq_last_6mths:3-6', 'inq_last_6mths:>6'\n",
    "\n",
    "df_inputs_pre['inq_last_6mths:0'] = np.where((df_inputs_pre['inq_last_6mths'] == 0),  1, 0)\n",
    "df_inputs_pre['inq_last_6mths:1-2'] = np.where((df_inputs_pre['inq_last_6mths'] >=1) & (df_inputs_pre['inq_last_6mths']<=2),  1, 0)\n",
    "df_inputs_pre['inq_last_6mths:3-6'] = np.where((df_inputs_pre['inq_last_6mths']>=3) & (df_inputs_pre['inq_last_6mths']<=6),  1, 0)\n",
    "df_inputs_pre['inq_last_6mths:>6'] = np.where((df_inputs_pre['inq_last_6mths']>6),  1, 0)"
   ]
  },
  {
   "cell_type": "markdown",
   "id": "homeless-victor",
   "metadata": {},
   "source": [
    "'open_acc'"
   ]
  },
  {
   "cell_type": "code",
   "execution_count": null,
   "id": "processed-martin",
   "metadata": {},
   "outputs": [],
   "source": [
    "df_inputs_pre['open_acc'].unique()"
   ]
  },
  {
   "cell_type": "code",
   "execution_count": null,
   "id": "muslim-nickname",
   "metadata": {
    "scrolled": true
   },
   "outputs": [],
   "source": [
    "df_temp = woe_ordered_continuous(df_inputs_pre, 'open_acc', df_targets_pre)\n",
    "df_temp"
   ]
  },
  {
   "cell_type": "code",
   "execution_count": null,
   "id": "potential-return",
   "metadata": {},
   "outputs": [],
   "source": [
    "plot_by_woe(df_temp)"
   ]
  },
  {
   "cell_type": "code",
   "execution_count": null,
   "id": "bored-limitation",
   "metadata": {},
   "outputs": [],
   "source": [
    "plot_by_woe(df_temp.iloc[:40,:],90)"
   ]
  },
  {
   "cell_type": "code",
   "execution_count": null,
   "id": "young-observer",
   "metadata": {},
   "outputs": [],
   "source": [
    "# 'open_acc:0', 'open_acc:1-3', 'open_acc:4-12', 'open_acc:13-22', 'open_acc:23-25', 'open_acc:26-30' 'open_acc:>30'\n",
    "\n",
    "df_inputs_pre['open_acc:0'] = np.where((df_inputs_pre['open_acc'] ==0), 1, 0)\n",
    "\n",
    "df_inputs_pre['open_acc:1-3'] = np.where((df_inputs_pre['open_acc'] >= 1) & (df_inputs_pre['open_acc'] <= 3), 1, 0)\n",
    "\n",
    "df_inputs_pre['open_acc:4-12'] = np.where((df_inputs_pre['open_acc'] >= 4) & (df_inputs_pre['open_acc'] <= 12), 1, 0)\n",
    "\n",
    "df_inputs_pre['open_acc:13-22'] = np.where((df_inputs_pre['open_acc'] >= 13) & (df_inputs_pre['open_acc'] <= 22), 1, 0)\n",
    "\n",
    "df_inputs_pre['open_acc:23-25'] = np.where((df_inputs_pre['open_acc'] >= 23) & (df_inputs_pre['open_acc'] <= 25), 1, 0)\n",
    "\n",
    "df_inputs_pre['open_acc:26-30'] = np.where((df_inputs_pre['open_acc'] >= 26) & (df_inputs_pre['open_acc'] <= 30), 1, 0)\n",
    "\n",
    "df_inputs_pre['open_acc:>30'] = np.where((df_inputs_pre['open_acc'] >= 31), 1, 0)"
   ]
  },
  {
   "cell_type": "code",
   "execution_count": null,
   "id": "treated-structure",
   "metadata": {},
   "outputs": [],
   "source": []
  },
  {
   "cell_type": "markdown",
   "id": "planned-average",
   "metadata": {},
   "source": [
    "'pub_rec'"
   ]
  },
  {
   "cell_type": "code",
   "execution_count": null,
   "id": "indirect-arena",
   "metadata": {},
   "outputs": [],
   "source": [
    "df_inputs_pre['pub_rec'].unique()"
   ]
  },
  {
   "cell_type": "code",
   "execution_count": null,
   "id": "domestic-quality",
   "metadata": {
    "scrolled": true
   },
   "outputs": [],
   "source": [
    "df_temp = woe_ordered_continuous(df_inputs_pre, 'pub_rec', df_targets_pre)\n",
    "df_temp"
   ]
  },
  {
   "cell_type": "code",
   "execution_count": null,
   "id": "printable-bibliography",
   "metadata": {},
   "outputs": [],
   "source": [
    "plot_by_woe(df_temp)"
   ]
  },
  {
   "cell_type": "code",
   "execution_count": null,
   "id": "nominated-zealand",
   "metadata": {},
   "outputs": [],
   "source": [
    "# 'pub_rec:0',  'pub_rec:1-2',  'pub_rec:3-6', 'pub_rec:>6'\n",
    "\n",
    "df_inputs_pre['pub_rec:0'] = np.where((df_inputs_pre['pub_rec'] == 0), 1, 0)\n",
    "\n",
    "df_inputs_pre['pub_rec:1-2'] = np.where((df_inputs_pre['pub_rec'] >= 1) & (df_inputs_pre['pub_rec'] <= 2), 1, 0)\n",
    "\n",
    "df_inputs_pre['pub_rec:3-6'] = np.where((df_inputs_pre['pub_rec'] >= 3) & (df_inputs_pre['pub_rec'] <= 6), 1, 0)\n",
    "\n",
    "df_inputs_pre['pub_rec:>6'] = np.where((df_inputs_pre['pub_rec'] > 6), 1, 0)"
   ]
  },
  {
   "cell_type": "code",
   "execution_count": null,
   "id": "thousand-census",
   "metadata": {},
   "outputs": [],
   "source": []
  },
  {
   "cell_type": "markdown",
   "id": "lucky-poison",
   "metadata": {},
   "source": [
    "'total_acc'"
   ]
  },
  {
   "cell_type": "code",
   "execution_count": null,
   "id": "boolean-penetration",
   "metadata": {},
   "outputs": [],
   "source": [
    "df_inputs_pre['total_acc'].describe()\n",
    "df_inputs_pre['total_acc'].unique()"
   ]
  },
  {
   "cell_type": "code",
   "execution_count": null,
   "id": "diverse-beginning",
   "metadata": {
    "scrolled": true
   },
   "outputs": [],
   "source": [
    "df_inputs_pre['total_acc_factor'] = pd.cut(df_inputs_pre['total_acc'], 50)\n",
    "df_temp = woe_ordered_continuous(df_inputs_pre, 'total_acc_factor', df_targets_pre)\n",
    "df_temp"
   ]
  },
  {
   "cell_type": "code",
   "execution_count": null,
   "id": "sticky-voluntary",
   "metadata": {},
   "outputs": [],
   "source": [
    "plot_by_woe(df_temp,90)"
   ]
  },
  {
   "cell_type": "code",
   "execution_count": null,
   "id": "muslim-direction",
   "metadata": {},
   "outputs": [],
   "source": [
    "# 'total_acc:<=9', 'total_acc:10-21', 'total_acc:22-33', 'total_acc:34-51', 'total_acc:>51'\n",
    "\n",
    "df_inputs_pre['total_acc:<=9'] = np.where((df_inputs_pre['total_acc'] <= 9), 1, 0)\n",
    "\n",
    "df_inputs_pre['total_acc:10-21'] = np.where((df_inputs_pre['total_acc'] >= 10) & (df_inputs_pre['total_acc'] <= 21), 1, 0)\n",
    "\n",
    "df_inputs_pre['total_acc:22-33'] = np.where((df_inputs_pre['total_acc'] >= 22) & (df_inputs_pre['total_acc'] <= 33), 1, 0)\n",
    "\n",
    "df_inputs_pre['total_acc:34-51'] = np.where((df_inputs_pre['total_acc'] >= 34) & (df_inputs_pre['total_acc'] <= 51), 1, 0)\n",
    "\n",
    "df_inputs_pre['total_acc:>51'] = np.where((df_inputs_pre['total_acc'] > 51), 1, 0)"
   ]
  },
  {
   "cell_type": "code",
   "execution_count": null,
   "id": "dental-miami",
   "metadata": {},
   "outputs": [],
   "source": []
  },
  {
   "cell_type": "markdown",
   "id": "analyzed-charlotte",
   "metadata": {},
   "source": [
    "'acc_now_delinq'"
   ]
  },
  {
   "cell_type": "code",
   "execution_count": null,
   "id": "conscious-geography",
   "metadata": {},
   "outputs": [],
   "source": [
    "df_inputs_pre['acc_now_delinq'].unique()"
   ]
  },
  {
   "cell_type": "code",
   "execution_count": null,
   "id": "monthly-vanilla",
   "metadata": {},
   "outputs": [],
   "source": [
    "df_temp = woe_ordered_continuous(df_inputs_pre, 'acc_now_delinq', df_targets_pre)\n",
    "df_temp"
   ]
  },
  {
   "cell_type": "code",
   "execution_count": null,
   "id": "automated-episode",
   "metadata": {},
   "outputs": [],
   "source": [
    "plot_by_woe(df_temp)"
   ]
  },
  {
   "cell_type": "code",
   "execution_count": null,
   "id": "pleased-gospel",
   "metadata": {},
   "outputs": [],
   "source": [
    "# 'acc_now_delinq:0','acc_now_delinq:>=1'\n",
    "\n",
    "df_inputs_pre['acc_now_delinq:0'] = np.where((df_inputs_pre['acc_now_delinq'] == 0), 1, 0)\n",
    "\n",
    "df_inputs_pre['acc_now_delinq:>=1'] = np.where((df_inputs_pre['acc_now_delinq'] >= 1), 1, 0)"
   ]
  },
  {
   "cell_type": "code",
   "execution_count": null,
   "id": "everyday-tsunami",
   "metadata": {},
   "outputs": [],
   "source": []
  },
  {
   "cell_type": "markdown",
   "id": "sticky-dutch",
   "metadata": {},
   "source": [
    "'total_rev_hi_lim'"
   ]
  },
  {
   "cell_type": "code",
   "execution_count": null,
   "id": "proprietary-clinic",
   "metadata": {},
   "outputs": [],
   "source": [
    "df_inputs_pre['total_rev_hi_lim'].nunique()"
   ]
  },
  {
   "cell_type": "code",
   "execution_count": null,
   "id": "standing-rwanda",
   "metadata": {},
   "outputs": [],
   "source": [
    "df_inputs_pre['total_rev_hi_lim'].describe()"
   ]
  },
  {
   "cell_type": "code",
   "execution_count": null,
   "id": "ideal-meeting",
   "metadata": {},
   "outputs": [],
   "source": [
    "df_inputs_pre_temp = df_inputs_pre[df_inputs_pre['total_rev_hi_lim'] < 200000]"
   ]
  },
  {
   "cell_type": "code",
   "execution_count": null,
   "id": "legendary-british",
   "metadata": {},
   "outputs": [],
   "source": [
    "df_inputs_pre_temp['total_rev_hi_lim_factor'] = pd.cut(df_inputs_pre_temp['total_rev_hi_lim'], 50)"
   ]
  },
  {
   "cell_type": "code",
   "execution_count": null,
   "id": "healthy-chemical",
   "metadata": {
    "scrolled": true
   },
   "outputs": [],
   "source": [
    "df_temp = woe_ordered_continuous(df_inputs_pre_temp, 'total_rev_hi_lim_factor', df_targets_pre[df_inputs_pre_temp.index])\n",
    "df_temp"
   ]
  },
  {
   "cell_type": "code",
   "execution_count": null,
   "id": "gross-hydrogen",
   "metadata": {},
   "outputs": [],
   "source": [
    "plot_by_woe(df_temp,90)"
   ]
  },
  {
   "cell_type": "code",
   "execution_count": null,
   "id": "protected-dispute",
   "metadata": {},
   "outputs": [],
   "source": [
    "# 'total_rev_hi_lim:<36K', 'total_rev_hi_lim:36K-56K', 'total_rev_hi_lim:56K-92K', 'total_rev_hi_lim:>92K'\n",
    "\n",
    "df_inputs_pre['total_rev_hi_lim:<36K'] = np.where((df_inputs_pre['total_rev_hi_lim'] < 36000), 1, 0)\n",
    "\n",
    "df_inputs_pre['total_rev_hi_lim:36K-56K'] = np.where((df_inputs_pre['total_rev_hi_lim'] >= 36000) & (df_inputs_pre['total_rev_hi_lim'] < 56000), 1, 0)\n",
    "\n",
    "df_inputs_pre['total_rev_hi_lim:56K-92K'] = np.where((df_inputs_pre['total_rev_hi_lim'] >= 56000) & (df_inputs_pre['total_rev_hi_lim'] < 92000), 1, 0)\n",
    "\n",
    "df_inputs_pre['total_rev_hi_lim:>92K'] = np.where((df_inputs_pre['total_rev_hi_lim'] <= 92000), 1, 0)"
   ]
  },
  {
   "cell_type": "markdown",
   "id": "compact-lease",
   "metadata": {},
   "source": [
    "'installment'"
   ]
  },
  {
   "cell_type": "code",
   "execution_count": null,
   "id": "significant-forest",
   "metadata": {},
   "outputs": [],
   "source": [
    "df_inputs_pre['installment'].nunique()"
   ]
  },
  {
   "cell_type": "code",
   "execution_count": null,
   "id": "announced-commodity",
   "metadata": {},
   "outputs": [],
   "source": [
    "df_inputs_pre['installment_factor'] = pd.cut(df_inputs_pre['installment'],50)"
   ]
  },
  {
   "cell_type": "code",
   "execution_count": null,
   "id": "posted-latitude",
   "metadata": {
    "scrolled": true
   },
   "outputs": [],
   "source": [
    "df_temp = woe_ordered_continuous(df_inputs_pre, 'installment_factor', df_targets_pre)\n",
    "df_temp"
   ]
  },
  {
   "cell_type": "code",
   "execution_count": null,
   "id": "banned-stake",
   "metadata": {},
   "outputs": [],
   "source": [
    "plot_by_woe(df_temp,90)"
   ]
  },
  {
   "cell_type": "code",
   "execution_count": null,
   "id": "attempted-nickel",
   "metadata": {},
   "outputs": [],
   "source": [
    "# do not use 'installment'"
   ]
  },
  {
   "cell_type": "code",
   "execution_count": null,
   "id": "placed-assault",
   "metadata": {},
   "outputs": [],
   "source": []
  },
  {
   "cell_type": "code",
   "execution_count": null,
   "id": "excessive-ukraine",
   "metadata": {},
   "outputs": [],
   "source": []
  },
  {
   "cell_type": "markdown",
   "id": "curious-world",
   "metadata": {},
   "source": [
    "'annual_inc'"
   ]
  },
  {
   "cell_type": "code",
   "execution_count": null,
   "id": "marine-ghana",
   "metadata": {},
   "outputs": [],
   "source": [
    "df_inputs_pre['annual_inc_factor'] = pd.cut(df_inputs_pre['annual_inc'],50)"
   ]
  },
  {
   "cell_type": "code",
   "execution_count": null,
   "id": "offensive-guinea",
   "metadata": {},
   "outputs": [],
   "source": [
    "df_temp = woe_ordered_continuous(df_inputs_pre, 'annual_inc_factor', df_targets_pre)"
   ]
  },
  {
   "cell_type": "code",
   "execution_count": null,
   "id": "sporting-carolina",
   "metadata": {},
   "outputs": [],
   "source": [
    "df_temp"
   ]
  },
  {
   "cell_type": "code",
   "execution_count": null,
   "id": "clear-apartment",
   "metadata": {},
   "outputs": [],
   "source": [
    "# one dummy for high income 'annual_inc:>140000'"
   ]
  },
  {
   "cell_type": "code",
   "execution_count": null,
   "id": "irish-reform",
   "metadata": {},
   "outputs": [],
   "source": [
    "df_inputs_pre_temp = df_inputs_pre[df_inputs_pre['annual_inc']<=140000]"
   ]
  },
  {
   "cell_type": "code",
   "execution_count": null,
   "id": "virgin-trademark",
   "metadata": {},
   "outputs": [],
   "source": [
    "df_inputs_pre_temp['annual_inc_factor'] = pd.cut(df_inputs_pre_temp['annual_inc'],50)"
   ]
  },
  {
   "cell_type": "code",
   "execution_count": null,
   "id": "structural-applicant",
   "metadata": {},
   "outputs": [],
   "source": [
    "df_temp = woe_ordered_continuous(df_inputs_pre_temp, 'annual_inc_factor', df_targets_pre[df_inputs_pre['annual_inc']<=140000])"
   ]
  },
  {
   "cell_type": "code",
   "execution_count": null,
   "id": "hollywood-virginia",
   "metadata": {
    "scrolled": true
   },
   "outputs": [],
   "source": [
    "df_temp"
   ]
  },
  {
   "cell_type": "code",
   "execution_count": null,
   "id": "quality-relative",
   "metadata": {},
   "outputs": [],
   "source": [
    "plot_by_woe(df_temp, 90)"
   ]
  },
  {
   "cell_type": "code",
   "execution_count": null,
   "id": "furnished-roman",
   "metadata": {},
   "outputs": [],
   "source": [
    "# 'annual_inc:<20K', 'annual_inc:20K-30K', 'annual_inc:30K-40K', 'annual_inc:40K-50K', 'annual_inc:50K-60K', 'annual_inc:60K-70K', 'annual_inc:70K-80K', 'annual_inc:80K-90K', 'annual_inc:90K-100K', 'annual_inc:100K-120K', 'annual_inc:120K-140K', 'annual_inc:>140K'\n",
    "df_inputs_pre['annual_inc:<20K'] = np.where((df_inputs_pre['annual_inc'] < 20000), 1, 0) \n",
    "df_inputs_pre['annual_inc:20K-30K'] = np.where((df_inputs_pre['annual_inc'] < 20000) & (df_inputs_pre['annual_inc'] >= 30000), 1, 0) \n",
    "df_inputs_pre['annual_inc:30K-40K'] = np.where((df_inputs_pre['annual_inc'] < 30000) & (df_inputs_pre['annual_inc'] >= 40000), 1, 0) \n",
    "df_inputs_pre['annual_inc:40K-50K'] = np.where((df_inputs_pre['annual_inc'] < 40000) & (df_inputs_pre['annual_inc'] >= 50000), 1, 0) \n",
    "df_inputs_pre['annual_inc:50K-60K'] = np.where((df_inputs_pre['annual_inc'] < 50000) & (df_inputs_pre['annual_inc'] >= 60000), 1, 0) \n",
    "df_inputs_pre['annual_inc:60K-70K'] = np.where((df_inputs_pre['annual_inc'] < 60000) & (df_inputs_pre['annual_inc'] >= 70000), 1, 0) \n",
    "df_inputs_pre['annual_inc:70K-80K'] = np.where((df_inputs_pre['annual_inc'] < 70000) & (df_inputs_pre['annual_inc'] >= 80000), 1, 0) \n",
    "df_inputs_pre['annual_inc:80K-90K'] = np.where((df_inputs_pre['annual_inc'] < 80000) & (df_inputs_pre['annual_inc'] >= 90000), 1, 0) \n",
    "df_inputs_pre['annual_inc:90K-100K'] = np.where((df_inputs_pre['annual_inc'] < 90000) & (df_inputs_pre['annual_inc'] >= 100000), 1, 0) \n",
    "df_inputs_pre['annual_inc:100K-120K'] = np.where((df_inputs_pre['annual_inc'] < 100000) & (df_inputs_pre['annual_inc'] >= 120000), 1, 0) \n",
    "df_inputs_pre['annual_inc:120K-140K'] = np.where((df_inputs_pre['annual_inc'] < 120000) & (df_inputs_pre['annual_inc'] >= 140000), 1, 0) \n",
    "df_inputs_pre['annual_inc:>140K'] = np.where((df_inputs_pre['annual_inc'] >= 140000), 1, 0) "
   ]
  },
  {
   "cell_type": "markdown",
   "id": "upper-geneva",
   "metadata": {},
   "source": [
    "'mths_since_last_delinq'"
   ]
  },
  {
   "cell_type": "code",
   "execution_count": null,
   "id": "former-mobile",
   "metadata": {},
   "outputs": [],
   "source": [
    "df_inputs_pre_temp = df_inputs_pre[pd.notnull(df_inputs_pre['mths_since_last_delinq'])]"
   ]
  },
  {
   "cell_type": "code",
   "execution_count": null,
   "id": "brave-integral",
   "metadata": {},
   "outputs": [],
   "source": [
    "df_inputs_pre_temp.shape"
   ]
  },
  {
   "cell_type": "code",
   "execution_count": null,
   "id": "injured-worst",
   "metadata": {},
   "outputs": [],
   "source": [
    "df_inputs_pre.shape"
   ]
  },
  {
   "cell_type": "code",
   "execution_count": null,
   "id": "accepted-softball",
   "metadata": {},
   "outputs": [],
   "source": [
    "df_inputs_pre_temp['mths_since_last_delinq_factor'] = pd.cut(df_inputs_pre_temp['mths_since_last_delinq'],50)"
   ]
  },
  {
   "cell_type": "code",
   "execution_count": null,
   "id": "serious-argentina",
   "metadata": {},
   "outputs": [],
   "source": [
    "df_temp = woe_ordered_continuous(df_inputs_pre_temp, 'mths_since_last_delinq_factor', df_targets_pre[df_inputs_pre_temp.index])"
   ]
  },
  {
   "cell_type": "code",
   "execution_count": null,
   "id": "chubby-indicator",
   "metadata": {
    "scrolled": true
   },
   "outputs": [],
   "source": [
    "df_temp"
   ]
  },
  {
   "cell_type": "code",
   "execution_count": null,
   "id": "female-participation",
   "metadata": {},
   "outputs": [],
   "source": [
    "plot_by_woe(df_temp,90)"
   ]
  },
  {
   "cell_type": "code",
   "execution_count": null,
   "id": "confident-conversion",
   "metadata": {},
   "outputs": [],
   "source": [
    "# 'mths_since_last_delinq:Missing', 'mths_since_last_delinq:0-3', 'mths_since_last_delinq:4-30', 'mths_since_last_delinq:31-56', 'mths_since_last_delinq:>=57'\n",
    "df_inputs_pre['mths_since_last_delinq:Missing'] = np.where((df_inputs_pre['mths_since_last_delinq'].isnull()), 1, 0)\n",
    "df_inputs_pre['mths_since_last_delinq:0-3'] = np.where((df_inputs_pre['mths_since_last_delinq'] >= 0) & (df_inputs_pre['mths_since_last_delinq'] < 3), 1, 0)\n",
    "df_inputs_pre['mths_since_last_delinq:4-30'] = np.where((df_inputs_pre['mths_since_last_delinq'] >= 4) & (df_inputs_pre['mths_since_last_delinq'] < 30), 1, 0)\n",
    "df_inputs_pre['mths_since_last_delinq:31-56'] = np.where((df_inputs_pre['mths_since_last_delinq'] >= 31) & (df_inputs_pre['mths_since_last_delinq'] < 56), 1, 0)\n",
    "df_inputs_pre['mths_since_last_delinq:>=57'] = np.where((df_inputs_pre['mths_since_last_delinq'] >= 57), 1, 0)"
   ]
  },
  {
   "cell_type": "markdown",
   "id": "antique-scout",
   "metadata": {},
   "source": [
    "'dti'"
   ]
  },
  {
   "cell_type": "code",
   "execution_count": null,
   "id": "eleven-repair",
   "metadata": {},
   "outputs": [],
   "source": [
    "df_inputs_pre['dti'].nunique()"
   ]
  },
  {
   "cell_type": "code",
   "execution_count": null,
   "id": "satellite-cattle",
   "metadata": {},
   "outputs": [],
   "source": [
    "df_inputs_pre['dti_factor'] = pd.cut(df_inputs_pre['dti'], 50)"
   ]
  },
  {
   "cell_type": "code",
   "execution_count": null,
   "id": "fundamental-writing",
   "metadata": {},
   "outputs": [],
   "source": [
    "df_temp = woe_ordered_continuous(df_inputs_pre, 'dti_factor', df_targets_pre)\n",
    "df_temp"
   ]
  },
  {
   "cell_type": "code",
   "execution_count": null,
   "id": "parallel-leone",
   "metadata": {
    "scrolled": true
   },
   "outputs": [],
   "source": [
    "plot_by_woe(df_temp,90)"
   ]
  },
  {
   "cell_type": "code",
   "execution_count": null,
   "id": "ranging-basement",
   "metadata": {},
   "outputs": [],
   "source": [
    "# 'dti:<4', 'dti:4-8', 'dti:8-12', 'dti:12-13.6', 'dti:13.6-16.8', 'dti:16.8-20.8', 'dti:20.8-24', 'dti:24-28', 'dti:>28'\n",
    "\n",
    "df_inputs_pre['dti:<4'] = np.where((df_inputs_pre['dti'] < 4), 1, 0)\n",
    "\n",
    "df_inputs_pre['dti:4-8'] = np.where((df_inputs_pre['dti'] >= 4) & (df_inputs_pre['dti'] < 8), 1, 0)\n",
    "\n",
    "df_inputs_pre['dti:8-12'] = np.where((df_inputs_pre['dti'] >= 8) & (df_inputs_pre['dti'] < 12), 1, 0)\n",
    "\n",
    "df_inputs_pre['dti:12-13.6'] = np.where((df_inputs_pre['dti'] >= 12) & (df_inputs_pre['dti'] < 13.6), 1, 0)\n",
    "\n",
    "df_inputs_pre['dti:13.6-16.8'] = np.where((df_inputs_pre['dti'] >= 13.6) & (df_inputs_pre['dti'] < 16.8), 1, 0)\n",
    "\n",
    "df_inputs_pre['dti:16.8-20.8'] = np.where((df_inputs_pre['dti'] >= 16.8) & (df_inputs_pre['dti'] < 20.8), 1, 0)\n",
    "\n",
    "df_inputs_pre['dti:20.8-24'] = np.where((df_inputs_pre['dti'] >= 20.8) & (df_inputs_pre['dti'] < 24), 1, 0)\n",
    "\n",
    "df_inputs_pre['dti:24-28'] = np.where((df_inputs_pre['dti'] >= 24) & (df_inputs_pre['dti'] < 28), 1, 0)\n",
    "\n",
    "df_inputs_pre['dti:>28'] = np.where((df_inputs_pre['dti'] >= 28), 1, 0)"
   ]
  },
  {
   "cell_type": "markdown",
   "id": "laden-bobby",
   "metadata": {},
   "source": [
    "'mths_since_last_record'"
   ]
  },
  {
   "cell_type": "code",
   "execution_count": null,
   "id": "attractive-question",
   "metadata": {},
   "outputs": [],
   "source": [
    "df_inputs_pre['mths_since_last_record'].describe()"
   ]
  },
  {
   "cell_type": "code",
   "execution_count": null,
   "id": "capable-prague",
   "metadata": {},
   "outputs": [],
   "source": [
    "df_inputs_pre['mths_since_last_record'].isnull().sum()"
   ]
  },
  {
   "cell_type": "code",
   "execution_count": null,
   "id": "czech-mobility",
   "metadata": {},
   "outputs": [],
   "source": [
    "X_train.shape"
   ]
  },
  {
   "cell_type": "code",
   "execution_count": null,
   "id": "fancy-clearing",
   "metadata": {},
   "outputs": [],
   "source": [
    "pd.options.display.max_rows = 100"
   ]
  },
  {
   "cell_type": "code",
   "execution_count": null,
   "id": "empirical-nicaragua",
   "metadata": {},
   "outputs": [],
   "source": [
    "df_inputs_pre['mths_since_last_record_factor'] = pd.cut(df_inputs_pre['mths_since_last_record'], 50)"
   ]
  },
  {
   "cell_type": "code",
   "execution_count": null,
   "id": "worldwide-consciousness",
   "metadata": {},
   "outputs": [],
   "source": [
    "df_temp = woe_ordered_continuous(df_inputs_pre, 'mths_since_last_record_factor', df_targets_pre)"
   ]
  },
  {
   "cell_type": "code",
   "execution_count": null,
   "id": "colored-setting",
   "metadata": {
    "scrolled": true
   },
   "outputs": [],
   "source": [
    "df_temp"
   ]
  },
  {
   "cell_type": "code",
   "execution_count": null,
   "id": "integral-christianity",
   "metadata": {},
   "outputs": [],
   "source": [
    "plot_by_woe(df_temp,90)"
   ]
  },
  {
   "cell_type": "code",
   "execution_count": null,
   "id": "binding-source",
   "metadata": {},
   "outputs": [],
   "source": [
    "# 'mths_since_last_record:Missing','mths_since_last_record:0-4.8','mths_since_last_record:4.8-24.2','mths_since_last_record:24.2-36.3','mths_since_last_record:36.3-50.8','mths_since_last_record:50.8-67.8','mths_since_last_record:67.8-80','mths_since_last_record:80-84.7', 'mths_since_last_record:>84.7'\n",
    "\n",
    "df_inputs_pre['mths_since_last_record:Missing'] = np.where((df_inputs_pre['mths_since_last_record'].isnull()), 1, 0)\n",
    "\n",
    "df_inputs_pre['mths_since_last_record:0-4.8'] = np.where((df_inputs_pre['mths_since_last_record'] < 4.8), 1, 0)\n",
    "\n",
    "df_inputs_pre['mths_since_last_record:4.8-24.2'] = np.where((df_inputs_pre['mths_since_last_record'] >= 4.8) & (df_inputs_pre['mths_since_last_record'] < 24.2), 1, 0)\n",
    "\n",
    "df_inputs_pre['mths_since_last_record:24.2-36.3'] = np.where((df_inputs_pre['mths_since_last_record'] >= 24.2) & (df_inputs_pre['mths_since_last_record'] < 36.3), 1, 0)\n",
    "\n",
    "df_inputs_pre['mths_since_last_record:36.3-50.8'] = np.where((df_inputs_pre['mths_since_last_record'] >= 36.3) & (df_inputs_pre['mths_since_last_record'] < 50.8), 1, 0)\n",
    "\n",
    "df_inputs_pre['mths_since_last_record:50.8-67.8'] = np.where((df_inputs_pre['mths_since_last_record'] >= 50.8) & (df_inputs_pre['mths_since_last_record'] < 67.8), 1, 0)\n",
    "\n",
    "df_inputs_pre['mths_since_last_record:67.8-80'] = np.where((df_inputs_pre['mths_since_last_record'] >= 67.8) & (df_inputs_pre['mths_since_last_record'] < 80), 1, 0)\n",
    "\n",
    "df_inputs_pre['mths_since_last_record:80-84.7'] = np.where((df_inputs_pre['mths_since_last_record'] >= 80) & (df_inputs_pre['mths_since_last_record'] < 84.7), 1, 0)\n",
    "\n",
    "df_inputs_pre['mths_since_last_record:>84.7'] = np.where((df_inputs_pre['mths_since_last_record'] >= 84.7), 1, 0)"
   ]
  },
  {
   "cell_type": "code",
   "execution_count": null,
   "id": "regular-realtor",
   "metadata": {},
   "outputs": [],
   "source": [
    "df_inputs_pre.shape"
   ]
  },
  {
   "cell_type": "code",
   "execution_count": null,
   "id": "fundamental-decrease",
   "metadata": {},
   "outputs": [],
   "source": []
  },
  {
   "cell_type": "code",
   "execution_count": null,
   "id": "greater-india",
   "metadata": {},
   "outputs": [],
   "source": []
  },
  {
   "cell_type": "markdown",
   "id": "circular-little",
   "metadata": {},
   "source": [
    "### save precessed data to X_train"
   ]
  },
  {
   "cell_type": "code",
   "execution_count": null,
   "id": "powerful-coverage",
   "metadata": {},
   "outputs": [],
   "source": [
    "inputs_train = df_inputs_pre"
   ]
  },
  {
   "cell_type": "markdown",
   "id": "conscious-immune",
   "metadata": {},
   "source": [
    "## Preprocessing the Test Dataset\n",
    "\n",
    "change from\n",
    "df_inputs_pre = X_train\n",
    "df_targets_pre = y_train\n",
    "\n",
    "to\n",
    "df_inputs_pre = Xtest\n",
    "df_targets_pre = y_test\n",
    "\n",
    "rerun the above section"
   ]
  },
  {
   "cell_type": "code",
   "execution_count": null,
   "id": "swiss-cigarette",
   "metadata": {},
   "outputs": [],
   "source": [
    "inputs_test = df_inputs_pre"
   ]
  },
  {
   "cell_type": "code",
   "execution_count": null,
   "id": "vocal-greek",
   "metadata": {},
   "outputs": [],
   "source": [
    "inputs_train.to_csv('loan_data_inputs_train.csv')\n",
    "y_train.to_csv('loan_data_targets_train.csv')\n",
    "inputs_test.to_csv('loan_data_inputs_test.csv')\n",
    "y_test.to_csv('loan_data_targets_test.csv')"
   ]
  },
  {
   "cell_type": "markdown",
   "id": "comic-lancaster",
   "metadata": {},
   "source": [
    "# modeling"
   ]
  },
  {
   "cell_type": "code",
   "execution_count": 4,
   "id": "alert-speaking",
   "metadata": {
    "scrolled": true
   },
   "outputs": [
    {
     "name": "stderr",
     "output_type": "stream",
     "text": [
      "C:\\Users\\YizhiZhang\\anaconda3\\lib\\site-packages\\IPython\\core\\interactiveshell.py:3156: DtypeWarning: Columns (1) have mixed types.Specify dtype option on import or set low_memory=False.\n",
      "  interactivity=interactivity, compiler=compiler, result=result)\n"
     ]
    }
   ],
   "source": [
    "inputs_train = pd.read_csv('loan_data_inputs_train.csv', index_col=0)\n",
    "targets_train = pd.read_csv('loan_data_targets_train.csv', index_col=0)\n",
    "# , header=None)\n",
    "inputs_test = pd.read_csv('loan_data_inputs_test.csv', index_col=0)\n",
    "targets_test = pd.read_csv('loan_data_targets_test.csv', index_col=0) \n",
    "#, header=None)"
   ]
  },
  {
   "cell_type": "code",
   "execution_count": null,
   "id": "sapphire-leeds",
   "metadata": {},
   "outputs": [],
   "source": []
  },
  {
   "cell_type": "code",
   "execution_count": null,
   "id": "artistic-banks",
   "metadata": {},
   "outputs": [],
   "source": []
  },
  {
   "cell_type": "code",
   "execution_count": null,
   "id": "conservative-choir",
   "metadata": {},
   "outputs": [],
   "source": []
  },
  {
   "cell_type": "code",
   "execution_count": 5,
   "id": "boxed-calendar",
   "metadata": {
    "scrolled": false
   },
   "outputs": [
    {
     "data": {
      "text/html": [
       "<div>\n",
       "<style scoped>\n",
       "    .dataframe tbody tr th:only-of-type {\n",
       "        vertical-align: middle;\n",
       "    }\n",
       "\n",
       "    .dataframe tbody tr th {\n",
       "        vertical-align: top;\n",
       "    }\n",
       "\n",
       "    .dataframe thead th {\n",
       "        text-align: right;\n",
       "    }\n",
       "</style>\n",
       "<table border=\"1\" class=\"dataframe\">\n",
       "  <thead>\n",
       "    <tr style=\"text-align: right;\">\n",
       "      <th></th>\n",
       "      <th>Unnamed: 0.1</th>\n",
       "      <th>id</th>\n",
       "      <th>member_id</th>\n",
       "      <th>loan_amnt</th>\n",
       "      <th>funded_amnt</th>\n",
       "      <th>funded_amnt_inv</th>\n",
       "      <th>term</th>\n",
       "      <th>int_rate</th>\n",
       "      <th>installment</th>\n",
       "      <th>grade</th>\n",
       "      <th>...</th>\n",
       "      <th>dti:21.7-22.4</th>\n",
       "      <th>dti:22.4-35</th>\n",
       "      <th>dti:&gt;35</th>\n",
       "      <th>mths_since_last_record:Missing</th>\n",
       "      <th>mths_since_last_record:0-2</th>\n",
       "      <th>mths_since_last_record:3-20</th>\n",
       "      <th>mths_since_last_record:21-31</th>\n",
       "      <th>mths_since_last_record:32-80</th>\n",
       "      <th>mths_since_last_record:81-86</th>\n",
       "      <th>mths_since_last_record:&gt;86</th>\n",
       "    </tr>\n",
       "  </thead>\n",
       "  <tbody>\n",
       "    <tr>\n",
       "      <th>427211</th>\n",
       "      <td>427211</td>\n",
       "      <td>12796369</td>\n",
       "      <td>14818505</td>\n",
       "      <td>24000</td>\n",
       "      <td>24000</td>\n",
       "      <td>24000.0</td>\n",
       "      <td>36 months</td>\n",
       "      <td>8.90</td>\n",
       "      <td>762.08</td>\n",
       "      <td>A</td>\n",
       "      <td>...</td>\n",
       "      <td>1</td>\n",
       "      <td>0</td>\n",
       "      <td>0</td>\n",
       "      <td>1</td>\n",
       "      <td>0</td>\n",
       "      <td>0</td>\n",
       "      <td>0</td>\n",
       "      <td>0</td>\n",
       "      <td>0</td>\n",
       "      <td>0</td>\n",
       "    </tr>\n",
       "    <tr>\n",
       "      <th>206088</th>\n",
       "      <td>206088</td>\n",
       "      <td>1439740</td>\n",
       "      <td>1691948</td>\n",
       "      <td>10000</td>\n",
       "      <td>10000</td>\n",
       "      <td>10000.0</td>\n",
       "      <td>36 months</td>\n",
       "      <td>14.33</td>\n",
       "      <td>343.39</td>\n",
       "      <td>C</td>\n",
       "      <td>...</td>\n",
       "      <td>0</td>\n",
       "      <td>0</td>\n",
       "      <td>0</td>\n",
       "      <td>1</td>\n",
       "      <td>0</td>\n",
       "      <td>0</td>\n",
       "      <td>0</td>\n",
       "      <td>0</td>\n",
       "      <td>0</td>\n",
       "      <td>0</td>\n",
       "    </tr>\n",
       "    <tr>\n",
       "      <th>136020</th>\n",
       "      <td>136020</td>\n",
       "      <td>5214749</td>\n",
       "      <td>6556909</td>\n",
       "      <td>20425</td>\n",
       "      <td>20425</td>\n",
       "      <td>20425.0</td>\n",
       "      <td>36 months</td>\n",
       "      <td>8.90</td>\n",
       "      <td>648.56</td>\n",
       "      <td>A</td>\n",
       "      <td>...</td>\n",
       "      <td>0</td>\n",
       "      <td>0</td>\n",
       "      <td>0</td>\n",
       "      <td>1</td>\n",
       "      <td>0</td>\n",
       "      <td>0</td>\n",
       "      <td>0</td>\n",
       "      <td>0</td>\n",
       "      <td>0</td>\n",
       "      <td>0</td>\n",
       "    </tr>\n",
       "    <tr>\n",
       "      <th>412305</th>\n",
       "      <td>412305</td>\n",
       "      <td>13827698</td>\n",
       "      <td>15890016</td>\n",
       "      <td>17200</td>\n",
       "      <td>17200</td>\n",
       "      <td>17200.0</td>\n",
       "      <td>36 months</td>\n",
       "      <td>16.59</td>\n",
       "      <td>609.73</td>\n",
       "      <td>D</td>\n",
       "      <td>...</td>\n",
       "      <td>0</td>\n",
       "      <td>0</td>\n",
       "      <td>0</td>\n",
       "      <td>1</td>\n",
       "      <td>0</td>\n",
       "      <td>0</td>\n",
       "      <td>0</td>\n",
       "      <td>0</td>\n",
       "      <td>0</td>\n",
       "      <td>0</td>\n",
       "    </tr>\n",
       "    <tr>\n",
       "      <th>36159</th>\n",
       "      <td>36159</td>\n",
       "      <td>422455</td>\n",
       "      <td>496525</td>\n",
       "      <td>8400</td>\n",
       "      <td>8400</td>\n",
       "      <td>7450.0</td>\n",
       "      <td>36 months</td>\n",
       "      <td>12.84</td>\n",
       "      <td>282.40</td>\n",
       "      <td>C</td>\n",
       "      <td>...</td>\n",
       "      <td>0</td>\n",
       "      <td>1</td>\n",
       "      <td>0</td>\n",
       "      <td>1</td>\n",
       "      <td>0</td>\n",
       "      <td>0</td>\n",
       "      <td>0</td>\n",
       "      <td>0</td>\n",
       "      <td>0</td>\n",
       "      <td>0</td>\n",
       "    </tr>\n",
       "  </tbody>\n",
       "</table>\n",
       "<p>5 rows × 324 columns</p>\n",
       "</div>"
      ],
      "text/plain": [
       "        Unnamed: 0.1        id  member_id  loan_amnt  funded_amnt  \\\n",
       "427211        427211  12796369   14818505      24000        24000   \n",
       "206088        206088   1439740    1691948      10000        10000   \n",
       "136020        136020   5214749    6556909      20425        20425   \n",
       "412305        412305  13827698   15890016      17200        17200   \n",
       "36159          36159    422455     496525       8400         8400   \n",
       "\n",
       "        funded_amnt_inv        term  int_rate  installment grade  ...  \\\n",
       "427211          24000.0   36 months      8.90       762.08     A  ...   \n",
       "206088          10000.0   36 months     14.33       343.39     C  ...   \n",
       "136020          20425.0   36 months      8.90       648.56     A  ...   \n",
       "412305          17200.0   36 months     16.59       609.73     D  ...   \n",
       "36159            7450.0   36 months     12.84       282.40     C  ...   \n",
       "\n",
       "       dti:21.7-22.4 dti:22.4-35 dti:>35 mths_since_last_record:Missing  \\\n",
       "427211             1           0       0                              1   \n",
       "206088             0           0       0                              1   \n",
       "136020             0           0       0                              1   \n",
       "412305             0           0       0                              1   \n",
       "36159              0           1       0                              1   \n",
       "\n",
       "        mths_since_last_record:0-2 mths_since_last_record:3-20  \\\n",
       "427211                           0                           0   \n",
       "206088                           0                           0   \n",
       "136020                           0                           0   \n",
       "412305                           0                           0   \n",
       "36159                            0                           0   \n",
       "\n",
       "       mths_since_last_record:21-31 mths_since_last_record:32-80  \\\n",
       "427211                            0                            0   \n",
       "206088                            0                            0   \n",
       "136020                            0                            0   \n",
       "412305                            0                            0   \n",
       "36159                             0                            0   \n",
       "\n",
       "       mths_since_last_record:81-86 mths_since_last_record:>86  \n",
       "427211                            0                          0  \n",
       "206088                            0                          0  \n",
       "136020                            0                          0  \n",
       "412305                            0                          0  \n",
       "36159                             0                          0  \n",
       "\n",
       "[5 rows x 324 columns]"
      ]
     },
     "execution_count": 5,
     "metadata": {},
     "output_type": "execute_result"
    }
   ],
   "source": [
    "inputs_train.head()"
   ]
  },
  {
   "cell_type": "code",
   "execution_count": 7,
   "id": "foreign-designation",
   "metadata": {},
   "outputs": [
    {
     "data": {
      "text/plain": [
       "(373028, 324)"
      ]
     },
     "execution_count": 7,
     "metadata": {},
     "output_type": "execute_result"
    }
   ],
   "source": [
    "inputs_train.shape"
   ]
  },
  {
   "cell_type": "code",
   "execution_count": 37,
   "id": "forty-argentina",
   "metadata": {
    "scrolled": true
   },
   "outputs": [
    {
     "data": {
      "text/html": [
       "<div>\n",
       "<style scoped>\n",
       "    .dataframe tbody tr th:only-of-type {\n",
       "        vertical-align: middle;\n",
       "    }\n",
       "\n",
       "    .dataframe tbody tr th {\n",
       "        vertical-align: top;\n",
       "    }\n",
       "\n",
       "    .dataframe thead th {\n",
       "        text-align: right;\n",
       "    }\n",
       "</style>\n",
       "<table border=\"1\" class=\"dataframe\">\n",
       "  <thead>\n",
       "    <tr style=\"text-align: right;\">\n",
       "      <th></th>\n",
       "      <th>good_bad</th>\n",
       "    </tr>\n",
       "  </thead>\n",
       "  <tbody>\n",
       "    <tr>\n",
       "      <th>427211</th>\n",
       "      <td>1</td>\n",
       "    </tr>\n",
       "    <tr>\n",
       "      <th>206088</th>\n",
       "      <td>1</td>\n",
       "    </tr>\n",
       "    <tr>\n",
       "      <th>136020</th>\n",
       "      <td>1</td>\n",
       "    </tr>\n",
       "    <tr>\n",
       "      <th>412305</th>\n",
       "      <td>0</td>\n",
       "    </tr>\n",
       "    <tr>\n",
       "      <th>36159</th>\n",
       "      <td>0</td>\n",
       "    </tr>\n",
       "    <tr>\n",
       "      <th>260400</th>\n",
       "      <td>1</td>\n",
       "    </tr>\n",
       "    <tr>\n",
       "      <th>29626</th>\n",
       "      <td>1</td>\n",
       "    </tr>\n",
       "    <tr>\n",
       "      <th>117003</th>\n",
       "      <td>1</td>\n",
       "    </tr>\n",
       "    <tr>\n",
       "      <th>378696</th>\n",
       "      <td>1</td>\n",
       "    </tr>\n",
       "    <tr>\n",
       "      <th>159555</th>\n",
       "      <td>1</td>\n",
       "    </tr>\n",
       "  </tbody>\n",
       "</table>\n",
       "</div>"
      ],
      "text/plain": [
       "        good_bad\n",
       "427211         1\n",
       "206088         1\n",
       "136020         1\n",
       "412305         0\n",
       "36159          0\n",
       "260400         1\n",
       "29626          1\n",
       "117003         1\n",
       "378696         1\n",
       "159555         1"
      ]
     },
     "execution_count": 37,
     "metadata": {},
     "output_type": "execute_result"
    }
   ],
   "source": [
    "targets_train.head(10)"
   ]
  },
  {
   "cell_type": "code",
   "execution_count": 38,
   "id": "affected-reason",
   "metadata": {},
   "outputs": [
    {
     "data": {
      "text/plain": [
       "pandas.core.frame.DataFrame"
      ]
     },
     "execution_count": 38,
     "metadata": {},
     "output_type": "execute_result"
    }
   ],
   "source": [
    "type(targets_train)"
   ]
  },
  {
   "cell_type": "code",
   "execution_count": 14,
   "id": "planned-casting",
   "metadata": {},
   "outputs": [
    {
     "data": {
      "text/plain": [
       "(373028, 1)"
      ]
     },
     "execution_count": 14,
     "metadata": {},
     "output_type": "execute_result"
    }
   ],
   "source": [
    "targets_train.shape"
   ]
  },
  {
   "cell_type": "code",
   "execution_count": 15,
   "id": "iraqi-emperor",
   "metadata": {},
   "outputs": [
    {
     "data": {
      "text/plain": [
       "(93257, 324)"
      ]
     },
     "execution_count": 15,
     "metadata": {},
     "output_type": "execute_result"
    }
   ],
   "source": [
    "inputs_test.shape"
   ]
  },
  {
   "cell_type": "code",
   "execution_count": 16,
   "id": "finite-bangkok",
   "metadata": {},
   "outputs": [],
   "source": [
    "targets_test = pd.read_csv('loan_data_targets_test.csv', index_col=0) "
   ]
  },
  {
   "cell_type": "code",
   "execution_count": 17,
   "id": "fleet-berkeley",
   "metadata": {},
   "outputs": [
    {
     "data": {
      "text/plain": [
       "(93257, 1)"
      ]
     },
     "execution_count": 17,
     "metadata": {},
     "output_type": "execute_result"
    }
   ],
   "source": [
    "targets_test.shape"
   ]
  },
  {
   "cell_type": "code",
   "execution_count": 23,
   "id": "desperate-joseph",
   "metadata": {},
   "outputs": [],
   "source": [
    "inputs_train_ref = inputs_train.loc[:, ['grade:A',\n",
    "'grade:B',\n",
    "'grade:C',\n",
    "'grade:D',\n",
    "'grade:E',\n",
    "'grade:F',\n",
    "'grade:G',\n",
    "'home_ownership:RENT_OTHER_NONE_ANY',\n",
    "'home_ownership:OWN',\n",
    "'home_ownership:MORTGAGE',\n",
    "'addr_state:ND_NE_IA_NV_FL_HI_AL',\n",
    "'addr_state:NM_VA',\n",
    "'addr_state:NY',\n",
    "'addr_state:OK_TN_MO_LA_MD_NC',\n",
    "'addr_state:CA',\n",
    "'addr_state:UT_KY_AZ_NJ',\n",
    "'addr_state:AR_MI_PA_OH_MN',\n",
    "'addr_state:RI_MA_DE_SD_IN',\n",
    "'addr_state:GA_WA_OR',\n",
    "'addr_state:WI_MT',\n",
    "'addr_state:TX',\n",
    "'addr_state:IL_CT',\n",
    "'addr_state:KS_SC_CO_VT_AK_MS',\n",
    "'addr_state:WV_NH_WY_DC_ME_ID',\n",
    "'verification_status:Not Verified',\n",
    "'verification_status:Source Verified',\n",
    "'verification_status:Verified',\n",
    "'purpose:educ__sm_b__wedd__ren_en__mov__house',\n",
    "'purpose:credit_card',\n",
    "'purpose:debt_consolidation',\n",
    "'purpose:oth__med__vacation',\n",
    "'purpose:major_purch__car__home_impr',\n",
    "'initial_list_status:f',\n",
    "'initial_list_status:w',\n",
    "'term:36',\n",
    "'term:60',\n",
    "'emp_length:0',\n",
    "'emp_length:1',\n",
    "'emp_length:2-4',\n",
    "'emp_length:5-6',\n",
    "'emp_length:7-9',\n",
    "'emp_length:10',\n",
    "'mths_since_issue_d:<38',\n",
    "'mths_since_issue_d:38-39',\n",
    "'mths_since_issue_d:40-41',\n",
    "'mths_since_issue_d:42-48',\n",
    "'mths_since_issue_d:49-52',\n",
    "'mths_since_issue_d:53-64',\n",
    "'mths_since_issue_d:65-84',\n",
    "'mths_since_issue_d:>84',\n",
    "'int_rate:<9.548',\n",
    "'int_rate:9.548-12.025',\n",
    "'int_rate:12.025-15.74',\n",
    "'int_rate:15.74-20.281',\n",
    "'int_rate:>20.281',\n",
    "'mths_since_earliest_cr_line:<140',\n",
    "'mths_since_earliest_cr_line:141-164',\n",
    "'mths_since_earliest_cr_line:165-247',\n",
    "'mths_since_earliest_cr_line:248-270',\n",
    "'mths_since_earliest_cr_line:271-352',\n",
    "'mths_since_earliest_cr_line:>352',\n",
    "'delinq_2yrs:0',\n",
    "'delinq_2yrs:1-3',\n",
    "'delinq_2yrs:>=4',\n",
    "'inq_last_6mths:0',\n",
    "'inq_last_6mths:1-2',\n",
    "'inq_last_6mths:3-6',\n",
    "'inq_last_6mths:>6',\n",
    "'open_acc:0',\n",
    "'open_acc:1-3',\n",
    "'open_acc:4-12',\n",
    "'open_acc:13-17',\n",
    "'open_acc:18-22',\n",
    "'open_acc:23-25',\n",
    "'open_acc:26-30',\n",
    "'open_acc:>=31',\n",
    "'pub_rec:0-2',\n",
    "'pub_rec:3-4',\n",
    "'pub_rec:>=5',\n",
    "'total_acc:<=27',\n",
    "'total_acc:28-51',\n",
    "'total_acc:>=52',\n",
    "'acc_now_delinq:0',\n",
    "'acc_now_delinq:>=1',\n",
    "'total_rev_hi_lim:<=5K',\n",
    "'total_rev_hi_lim:5K-10K',\n",
    "'total_rev_hi_lim:10K-20K',\n",
    "'total_rev_hi_lim:20K-30K',\n",
    "'total_rev_hi_lim:30K-40K',\n",
    "'total_rev_hi_lim:40K-55K',\n",
    "'total_rev_hi_lim:55K-95K',\n",
    "'total_rev_hi_lim:>95K',\n",
    "'annual_inc:<20K',\n",
    "'annual_inc:20K-30K',\n",
    "'annual_inc:30K-40K',\n",
    "'annual_inc:40K-50K',\n",
    "'annual_inc:50K-60K',\n",
    "'annual_inc:60K-70K',\n",
    "'annual_inc:70K-80K',\n",
    "'annual_inc:80K-90K',\n",
    "'annual_inc:90K-100K',\n",
    "'annual_inc:100K-120K',\n",
    "'annual_inc:120K-140K',\n",
    "'annual_inc:>140K',\n",
    "'dti:<=1.4',\n",
    "'dti:1.4-3.5',\n",
    "'dti:3.5-7.7',\n",
    "'dti:7.7-10.5',\n",
    "'dti:10.5-16.1',\n",
    "'dti:16.1-20.3',\n",
    "'dti:20.3-21.7',\n",
    "'dti:21.7-22.4',\n",
    "'dti:22.4-35',\n",
    "'dti:>35',\n",
    "'mths_since_last_delinq:Missing',\n",
    "'mths_since_last_delinq:0-3',\n",
    "'mths_since_last_delinq:4-30',\n",
    "'mths_since_last_delinq:31-56',\n",
    "'mths_since_last_delinq:>=57',\n",
    "'mths_since_last_record:Missing',\n",
    "'mths_since_last_record:0-2',\n",
    "'mths_since_last_record:3-20',\n",
    "'mths_since_last_record:21-31',\n",
    "'mths_since_last_record:32-80',\n",
    "'mths_since_last_record:81-86',\n",
    "'mths_since_last_record:>86'\n",
    "]]"
   ]
  },
  {
   "cell_type": "code",
   "execution_count": 24,
   "id": "royal-briefs",
   "metadata": {},
   "outputs": [],
   "source": [
    "ref_catogoies = [  'grade:G',\n",
    "'home_ownership:RENT_OTHER_NONE_ANY',\n",
    "'addr_state:ND_NE_IA_NV_FL_HI_AL',\n",
    "'verification_status:Verified',\n",
    "'purpose:educ__sm_b__wedd__ren_en__mov__house',\n",
    "'initial_list_status:f',\n",
    "'term:60',\n",
    "'emp_length:0',\n",
    "'mths_since_issue_d:>84',\n",
    "'int_rate:>20.281',\n",
    "'mths_since_earliest_cr_line:<140',\n",
    "'delinq_2yrs:>=4',\n",
    "'inq_last_6mths:>6',\n",
    "'open_acc:0',\n",
    "'pub_rec:0-2',\n",
    "'total_acc:<=27',\n",
    "'acc_now_delinq:0',\n",
    "'total_rev_hi_lim:<=5K',\n",
    "'annual_inc:<20K',\n",
    "'dti:>35',\n",
    "'mths_since_last_delinq:0-3',\n",
    "'mths_since_last_record:0-2']"
   ]
  },
  {
   "cell_type": "code",
   "execution_count": 25,
   "id": "instructional-luxury",
   "metadata": {},
   "outputs": [],
   "source": [
    "X_train = inputs_train_ref.drop(ref_catogoies, axis=1)"
   ]
  },
  {
   "cell_type": "code",
   "execution_count": 26,
   "id": "express-dublin",
   "metadata": {},
   "outputs": [
    {
     "data": {
      "text/html": [
       "<div>\n",
       "<style scoped>\n",
       "    .dataframe tbody tr th:only-of-type {\n",
       "        vertical-align: middle;\n",
       "    }\n",
       "\n",
       "    .dataframe tbody tr th {\n",
       "        vertical-align: top;\n",
       "    }\n",
       "\n",
       "    .dataframe thead th {\n",
       "        text-align: right;\n",
       "    }\n",
       "</style>\n",
       "<table border=\"1\" class=\"dataframe\">\n",
       "  <thead>\n",
       "    <tr style=\"text-align: right;\">\n",
       "      <th></th>\n",
       "      <th>grade:A</th>\n",
       "      <th>grade:B</th>\n",
       "      <th>grade:C</th>\n",
       "      <th>grade:D</th>\n",
       "      <th>grade:E</th>\n",
       "      <th>grade:F</th>\n",
       "      <th>home_ownership:OWN</th>\n",
       "      <th>home_ownership:MORTGAGE</th>\n",
       "      <th>addr_state:NM_VA</th>\n",
       "      <th>addr_state:NY</th>\n",
       "      <th>...</th>\n",
       "      <th>mths_since_last_delinq:Missing</th>\n",
       "      <th>mths_since_last_delinq:4-30</th>\n",
       "      <th>mths_since_last_delinq:31-56</th>\n",
       "      <th>mths_since_last_delinq:&gt;=57</th>\n",
       "      <th>mths_since_last_record:Missing</th>\n",
       "      <th>mths_since_last_record:3-20</th>\n",
       "      <th>mths_since_last_record:21-31</th>\n",
       "      <th>mths_since_last_record:32-80</th>\n",
       "      <th>mths_since_last_record:81-86</th>\n",
       "      <th>mths_since_last_record:&gt;86</th>\n",
       "    </tr>\n",
       "  </thead>\n",
       "  <tbody>\n",
       "    <tr>\n",
       "      <th>427211</th>\n",
       "      <td>1</td>\n",
       "      <td>0</td>\n",
       "      <td>0</td>\n",
       "      <td>0</td>\n",
       "      <td>0</td>\n",
       "      <td>0</td>\n",
       "      <td>0</td>\n",
       "      <td>1</td>\n",
       "      <td>0</td>\n",
       "      <td>0</td>\n",
       "      <td>...</td>\n",
       "      <td>1</td>\n",
       "      <td>0</td>\n",
       "      <td>0</td>\n",
       "      <td>0</td>\n",
       "      <td>1</td>\n",
       "      <td>0</td>\n",
       "      <td>0</td>\n",
       "      <td>0</td>\n",
       "      <td>0</td>\n",
       "      <td>0</td>\n",
       "    </tr>\n",
       "    <tr>\n",
       "      <th>206088</th>\n",
       "      <td>0</td>\n",
       "      <td>0</td>\n",
       "      <td>1</td>\n",
       "      <td>0</td>\n",
       "      <td>0</td>\n",
       "      <td>0</td>\n",
       "      <td>0</td>\n",
       "      <td>1</td>\n",
       "      <td>0</td>\n",
       "      <td>0</td>\n",
       "      <td>...</td>\n",
       "      <td>0</td>\n",
       "      <td>1</td>\n",
       "      <td>0</td>\n",
       "      <td>0</td>\n",
       "      <td>1</td>\n",
       "      <td>0</td>\n",
       "      <td>0</td>\n",
       "      <td>0</td>\n",
       "      <td>0</td>\n",
       "      <td>0</td>\n",
       "    </tr>\n",
       "    <tr>\n",
       "      <th>136020</th>\n",
       "      <td>1</td>\n",
       "      <td>0</td>\n",
       "      <td>0</td>\n",
       "      <td>0</td>\n",
       "      <td>0</td>\n",
       "      <td>0</td>\n",
       "      <td>0</td>\n",
       "      <td>1</td>\n",
       "      <td>0</td>\n",
       "      <td>0</td>\n",
       "      <td>...</td>\n",
       "      <td>0</td>\n",
       "      <td>0</td>\n",
       "      <td>1</td>\n",
       "      <td>0</td>\n",
       "      <td>1</td>\n",
       "      <td>0</td>\n",
       "      <td>0</td>\n",
       "      <td>0</td>\n",
       "      <td>0</td>\n",
       "      <td>0</td>\n",
       "    </tr>\n",
       "    <tr>\n",
       "      <th>412305</th>\n",
       "      <td>0</td>\n",
       "      <td>0</td>\n",
       "      <td>0</td>\n",
       "      <td>1</td>\n",
       "      <td>0</td>\n",
       "      <td>0</td>\n",
       "      <td>0</td>\n",
       "      <td>0</td>\n",
       "      <td>0</td>\n",
       "      <td>0</td>\n",
       "      <td>...</td>\n",
       "      <td>0</td>\n",
       "      <td>1</td>\n",
       "      <td>0</td>\n",
       "      <td>0</td>\n",
       "      <td>1</td>\n",
       "      <td>0</td>\n",
       "      <td>0</td>\n",
       "      <td>0</td>\n",
       "      <td>0</td>\n",
       "      <td>0</td>\n",
       "    </tr>\n",
       "    <tr>\n",
       "      <th>36159</th>\n",
       "      <td>0</td>\n",
       "      <td>0</td>\n",
       "      <td>1</td>\n",
       "      <td>0</td>\n",
       "      <td>0</td>\n",
       "      <td>0</td>\n",
       "      <td>0</td>\n",
       "      <td>1</td>\n",
       "      <td>0</td>\n",
       "      <td>0</td>\n",
       "      <td>...</td>\n",
       "      <td>1</td>\n",
       "      <td>0</td>\n",
       "      <td>0</td>\n",
       "      <td>0</td>\n",
       "      <td>1</td>\n",
       "      <td>0</td>\n",
       "      <td>0</td>\n",
       "      <td>0</td>\n",
       "      <td>0</td>\n",
       "      <td>0</td>\n",
       "    </tr>\n",
       "  </tbody>\n",
       "</table>\n",
       "<p>5 rows × 104 columns</p>\n",
       "</div>"
      ],
      "text/plain": [
       "        grade:A  grade:B  grade:C  grade:D  grade:E  grade:F  \\\n",
       "427211        1        0        0        0        0        0   \n",
       "206088        0        0        1        0        0        0   \n",
       "136020        1        0        0        0        0        0   \n",
       "412305        0        0        0        1        0        0   \n",
       "36159         0        0        1        0        0        0   \n",
       "\n",
       "        home_ownership:OWN  home_ownership:MORTGAGE  addr_state:NM_VA  \\\n",
       "427211                   0                        1                 0   \n",
       "206088                   0                        1                 0   \n",
       "136020                   0                        1                 0   \n",
       "412305                   0                        0                 0   \n",
       "36159                    0                        1                 0   \n",
       "\n",
       "        addr_state:NY  ...  mths_since_last_delinq:Missing  \\\n",
       "427211              0  ...                               1   \n",
       "206088              0  ...                               0   \n",
       "136020              0  ...                               0   \n",
       "412305              0  ...                               0   \n",
       "36159               0  ...                               1   \n",
       "\n",
       "        mths_since_last_delinq:4-30  mths_since_last_delinq:31-56  \\\n",
       "427211                            0                             0   \n",
       "206088                            1                             0   \n",
       "136020                            0                             1   \n",
       "412305                            1                             0   \n",
       "36159                             0                             0   \n",
       "\n",
       "        mths_since_last_delinq:>=57  mths_since_last_record:Missing  \\\n",
       "427211                            0                               1   \n",
       "206088                            0                               1   \n",
       "136020                            0                               1   \n",
       "412305                            0                               1   \n",
       "36159                             0                               1   \n",
       "\n",
       "        mths_since_last_record:3-20  mths_since_last_record:21-31  \\\n",
       "427211                            0                             0   \n",
       "206088                            0                             0   \n",
       "136020                            0                             0   \n",
       "412305                            0                             0   \n",
       "36159                             0                             0   \n",
       "\n",
       "        mths_since_last_record:32-80  mths_since_last_record:81-86  \\\n",
       "427211                             0                             0   \n",
       "206088                             0                             0   \n",
       "136020                             0                             0   \n",
       "412305                             0                             0   \n",
       "36159                              0                             0   \n",
       "\n",
       "        mths_since_last_record:>86  \n",
       "427211                           0  \n",
       "206088                           0  \n",
       "136020                           0  \n",
       "412305                           0  \n",
       "36159                            0  \n",
       "\n",
       "[5 rows x 104 columns]"
      ]
     },
     "execution_count": 26,
     "metadata": {},
     "output_type": "execute_result"
    }
   ],
   "source": [
    "X_train.head()"
   ]
  },
  {
   "cell_type": "code",
   "execution_count": 27,
   "id": "induced-better",
   "metadata": {},
   "outputs": [
    {
     "data": {
      "text/plain": [
       "(373028, 104)"
      ]
     },
     "execution_count": 27,
     "metadata": {},
     "output_type": "execute_result"
    }
   ],
   "source": [
    "X_train.shape"
   ]
  },
  {
   "cell_type": "code",
   "execution_count": 42,
   "id": "historic-bottle",
   "metadata": {},
   "outputs": [],
   "source": [
    "y_train = targets_train.values.ravel()"
   ]
  },
  {
   "cell_type": "code",
   "execution_count": 43,
   "id": "commercial-fields",
   "metadata": {},
   "outputs": [
    {
     "data": {
      "text/plain": [
       "(373028,)"
      ]
     },
     "execution_count": 43,
     "metadata": {},
     "output_type": "execute_result"
    }
   ],
   "source": [
    "y_train.shape"
   ]
  },
  {
   "cell_type": "markdown",
   "id": "supreme-store",
   "metadata": {},
   "source": [
    "## fit the model"
   ]
  },
  {
   "cell_type": "code",
   "execution_count": 28,
   "id": "frequent-caribbean",
   "metadata": {},
   "outputs": [],
   "source": [
    "reg = LogisticRegression()"
   ]
  },
  {
   "cell_type": "code",
   "execution_count": 44,
   "id": "answering-basin",
   "metadata": {
    "scrolled": false
   },
   "outputs": [
    {
     "name": "stderr",
     "output_type": "stream",
     "text": [
      "C:\\Users\\YizhiZhang\\anaconda3\\lib\\site-packages\\sklearn\\linear_model\\_logistic.py:765: ConvergenceWarning: lbfgs failed to converge (status=1):\n",
      "STOP: TOTAL NO. of ITERATIONS REACHED LIMIT.\n",
      "\n",
      "Increase the number of iterations (max_iter) or scale the data as shown in:\n",
      "    https://scikit-learn.org/stable/modules/preprocessing.html\n",
      "Please also refer to the documentation for alternative solver options:\n",
      "    https://scikit-learn.org/stable/modules/linear_model.html#logistic-regression\n",
      "  extra_warning_msg=_LOGISTIC_SOLVER_CONVERGENCE_MSG)\n"
     ]
    },
    {
     "data": {
      "text/plain": [
       "LogisticRegression()"
      ]
     },
     "execution_count": 44,
     "metadata": {},
     "output_type": "execute_result"
    }
   ],
   "source": [
    "reg.fit(X_train, y_train)"
   ]
  },
  {
   "cell_type": "code",
   "execution_count": null,
   "id": "respective-politics",
   "metadata": {},
   "outputs": [],
   "source": [
    "reg.intercept_"
   ]
  },
  {
   "cell_type": "code",
   "execution_count": null,
   "id": "adjustable-counter",
   "metadata": {},
   "outputs": [],
   "source": [
    "reg.coef_"
   ]
  },
  {
   "cell_type": "code",
   "execution_count": 45,
   "id": "breathing-layout",
   "metadata": {},
   "outputs": [],
   "source": [
    "feature_name = X_train.columns.values"
   ]
  },
  {
   "cell_type": "code",
   "execution_count": 46,
   "id": "wound-trick",
   "metadata": {},
   "outputs": [],
   "source": [
    "summary_table = pd.DataFrame(columns=['Feature Name'], data= feature_name)\n",
    "summary_table['Coefficients'] = np.transpose(reg.coef_)\n",
    "summary_table.index = summary_table.index + 1\n",
    "summary_table.loc[0] = ['Intercept', reg.intercept_[0]]\n",
    "summary_table = summary_table.sort_index()\n",
    "summary_table.head()"
   ]
  },
  {
   "cell_type": "markdown",
   "id": "young-space",
   "metadata": {},
   "source": [
    "# Build a model p-values"
   ]
  },
  {
   "cell_type": "code",
   "execution_count": 47,
   "id": "piano-monday",
   "metadata": {},
   "outputs": [],
   "source": [
    "from sklearn import linear_model\n",
    "import scipy.stats as stat\n",
    "\n",
    "class LogisticRegression_with_p_values:\n",
    "    def __init__(self, *args, **kwargs):\n",
    "        self.model = linear_model.LogisticRegression(*args, **kwargs)\n",
    "        \n",
    "    def fit(self, X, y):\n",
    "        self.model.fit(X, y)\n",
    "        demon = (2.0 * (1.0 + np.cosh(self.model.decision_function(X))))\n",
    "        demon = np.tile(demon, (X.shape[1],1)).T\n",
    "        F_ij = np.dot((X / demon).T, X)\n",
    "        Cramer_Rao = np.linalg.inv(F_ij)\n",
    "        sigma_estimates = np.sqrt(np.diagonal(Cramer_Rao))\n",
    "        z_scores = self.model.coef_[0] / sigma_estimates\n",
    "        p_values = [stat.norm.sf(abs(x)) * 2 for x in z_scores]\n",
    "        self.coef_ = self.model.coef_\n",
    "        self.intercept_ = self.model.intercept_\n",
    "        self.p_values = p_values"
   ]
  },
  {
   "cell_type": "code",
   "execution_count": 48,
   "id": "mediterranean-bennett",
   "metadata": {},
   "outputs": [],
   "source": [
    "reg = LogisticRegression_with_p_values()"
   ]
  },
  {
   "cell_type": "code",
   "execution_count": 49,
   "id": "rotary-input",
   "metadata": {},
   "outputs": [
    {
     "name": "stderr",
     "output_type": "stream",
     "text": [
      "C:\\Users\\YizhiZhang\\anaconda3\\lib\\site-packages\\sklearn\\linear_model\\_logistic.py:765: ConvergenceWarning: lbfgs failed to converge (status=1):\n",
      "STOP: TOTAL NO. of ITERATIONS REACHED LIMIT.\n",
      "\n",
      "Increase the number of iterations (max_iter) or scale the data as shown in:\n",
      "    https://scikit-learn.org/stable/modules/preprocessing.html\n",
      "Please also refer to the documentation for alternative solver options:\n",
      "    https://scikit-learn.org/stable/modules/linear_model.html#logistic-regression\n",
      "  extra_warning_msg=_LOGISTIC_SOLVER_CONVERGENCE_MSG)\n"
     ]
    }
   ],
   "source": [
    "reg.fit(X_train, y_train)"
   ]
  },
  {
   "cell_type": "code",
   "execution_count": null,
   "id": "exposed-advertiser",
   "metadata": {},
   "outputs": [],
   "source": []
  },
  {
   "cell_type": "code",
   "execution_count": null,
   "id": "confident-sunglasses",
   "metadata": {},
   "outputs": [],
   "source": []
  },
  {
   "cell_type": "code",
   "execution_count": null,
   "id": "flying-closing",
   "metadata": {},
   "outputs": [],
   "source": []
  },
  {
   "cell_type": "code",
   "execution_count": null,
   "id": "boring-final",
   "metadata": {},
   "outputs": [],
   "source": []
  },
  {
   "cell_type": "code",
   "execution_count": null,
   "id": "apart-brand",
   "metadata": {},
   "outputs": [],
   "source": []
  },
  {
   "cell_type": "code",
   "execution_count": null,
   "id": "verified-federal",
   "metadata": {},
   "outputs": [],
   "source": []
  },
  {
   "cell_type": "code",
   "execution_count": null,
   "id": "italian-advice",
   "metadata": {},
   "outputs": [],
   "source": []
  },
  {
   "cell_type": "code",
   "execution_count": null,
   "id": "limiting-technology",
   "metadata": {},
   "outputs": [],
   "source": []
  },
  {
   "cell_type": "code",
   "execution_count": null,
   "id": "fancy-barrier",
   "metadata": {},
   "outputs": [],
   "source": []
  }
 ],
 "metadata": {
  "kernelspec": {
   "display_name": "Python 3",
   "language": "python",
   "name": "python3"
  },
  "language_info": {
   "codemirror_mode": {
    "name": "ipython",
    "version": 3
   },
   "file_extension": ".py",
   "mimetype": "text/x-python",
   "name": "python",
   "nbconvert_exporter": "python",
   "pygments_lexer": "ipython3",
   "version": "3.7.10"
  }
 },
 "nbformat": 4,
 "nbformat_minor": 5
}
