{
 "cells": [
  {
   "cell_type": "markdown",
   "id": "compatible-declaration",
   "metadata": {},
   "source": [
    "# PD model"
   ]
  },
  {
   "cell_type": "markdown",
   "id": "living-alias",
   "metadata": {},
   "source": [
    "## Import libraries"
   ]
  },
  {
   "cell_type": "code",
   "execution_count": 1,
   "id": "induced-resource",
   "metadata": {},
   "outputs": [],
   "source": [
    "import numpy as np\n",
    "import pandas as pd\n",
    "import matplotlib.pyplot as plt\n",
    "%matplotlib inline\n",
    "import seaborn as sns\n",
    "sns.set()"
   ]
  },
  {
   "cell_type": "code",
   "execution_count": 2,
   "id": "related-auction",
   "metadata": {},
   "outputs": [],
   "source": [
    "from sklearn.model_selection import train_test_split\n",
    "from sklearn.linear_model import LogisticRegression\n",
    "from sklearn import metrics"
   ]
  },
  {
   "cell_type": "markdown",
   "id": "challenging-database",
   "metadata": {},
   "source": [
    "## Import data"
   ]
  },
  {
   "cell_type": "code",
   "execution_count": 3,
   "id": "imperial-optimum",
   "metadata": {},
   "outputs": [],
   "source": [
    "data_backup = pd.read_csv('credit_risk_dataset.csv')"
   ]
  },
  {
   "cell_type": "code",
   "execution_count": 4,
   "id": "academic-collins",
   "metadata": {},
   "outputs": [],
   "source": [
    "credit_data = data_backup.copy()"
   ]
  },
  {
   "cell_type": "code",
   "execution_count": 5,
   "id": "animal-guarantee",
   "metadata": {},
   "outputs": [
    {
     "data": {
      "text/html": [
       "<div>\n",
       "<style scoped>\n",
       "    .dataframe tbody tr th:only-of-type {\n",
       "        vertical-align: middle;\n",
       "    }\n",
       "\n",
       "    .dataframe tbody tr th {\n",
       "        vertical-align: top;\n",
       "    }\n",
       "\n",
       "    .dataframe thead th {\n",
       "        text-align: right;\n",
       "    }\n",
       "</style>\n",
       "<table border=\"1\" class=\"dataframe\">\n",
       "  <thead>\n",
       "    <tr style=\"text-align: right;\">\n",
       "      <th></th>\n",
       "      <th>person_age</th>\n",
       "      <th>person_income</th>\n",
       "      <th>person_home_ownership</th>\n",
       "      <th>person_emp_length</th>\n",
       "      <th>loan_intent</th>\n",
       "      <th>loan_grade</th>\n",
       "      <th>loan_amnt</th>\n",
       "      <th>loan_int_rate</th>\n",
       "      <th>loan_status</th>\n",
       "      <th>loan_percent_income</th>\n",
       "      <th>cb_person_default_on_file</th>\n",
       "      <th>cb_person_cred_hist_length</th>\n",
       "    </tr>\n",
       "  </thead>\n",
       "  <tbody>\n",
       "    <tr>\n",
       "      <th>0</th>\n",
       "      <td>22</td>\n",
       "      <td>59000</td>\n",
       "      <td>RENT</td>\n",
       "      <td>123.0</td>\n",
       "      <td>PERSONAL</td>\n",
       "      <td>D</td>\n",
       "      <td>35000</td>\n",
       "      <td>16.02</td>\n",
       "      <td>1</td>\n",
       "      <td>0.59</td>\n",
       "      <td>Y</td>\n",
       "      <td>3</td>\n",
       "    </tr>\n",
       "    <tr>\n",
       "      <th>1</th>\n",
       "      <td>21</td>\n",
       "      <td>9600</td>\n",
       "      <td>OWN</td>\n",
       "      <td>5.0</td>\n",
       "      <td>EDUCATION</td>\n",
       "      <td>B</td>\n",
       "      <td>1000</td>\n",
       "      <td>11.14</td>\n",
       "      <td>0</td>\n",
       "      <td>0.10</td>\n",
       "      <td>N</td>\n",
       "      <td>2</td>\n",
       "    </tr>\n",
       "    <tr>\n",
       "      <th>2</th>\n",
       "      <td>25</td>\n",
       "      <td>9600</td>\n",
       "      <td>MORTGAGE</td>\n",
       "      <td>1.0</td>\n",
       "      <td>MEDICAL</td>\n",
       "      <td>C</td>\n",
       "      <td>5500</td>\n",
       "      <td>12.87</td>\n",
       "      <td>1</td>\n",
       "      <td>0.57</td>\n",
       "      <td>N</td>\n",
       "      <td>3</td>\n",
       "    </tr>\n",
       "    <tr>\n",
       "      <th>3</th>\n",
       "      <td>23</td>\n",
       "      <td>65500</td>\n",
       "      <td>RENT</td>\n",
       "      <td>4.0</td>\n",
       "      <td>MEDICAL</td>\n",
       "      <td>C</td>\n",
       "      <td>35000</td>\n",
       "      <td>15.23</td>\n",
       "      <td>1</td>\n",
       "      <td>0.53</td>\n",
       "      <td>N</td>\n",
       "      <td>2</td>\n",
       "    </tr>\n",
       "    <tr>\n",
       "      <th>4</th>\n",
       "      <td>24</td>\n",
       "      <td>54400</td>\n",
       "      <td>RENT</td>\n",
       "      <td>8.0</td>\n",
       "      <td>MEDICAL</td>\n",
       "      <td>C</td>\n",
       "      <td>35000</td>\n",
       "      <td>14.27</td>\n",
       "      <td>1</td>\n",
       "      <td>0.55</td>\n",
       "      <td>Y</td>\n",
       "      <td>4</td>\n",
       "    </tr>\n",
       "  </tbody>\n",
       "</table>\n",
       "</div>"
      ],
      "text/plain": [
       "   person_age  person_income person_home_ownership  person_emp_length  \\\n",
       "0          22          59000                  RENT              123.0   \n",
       "1          21           9600                   OWN                5.0   \n",
       "2          25           9600              MORTGAGE                1.0   \n",
       "3          23          65500                  RENT                4.0   \n",
       "4          24          54400                  RENT                8.0   \n",
       "\n",
       "  loan_intent loan_grade  loan_amnt  loan_int_rate  loan_status  \\\n",
       "0    PERSONAL          D      35000          16.02            1   \n",
       "1   EDUCATION          B       1000          11.14            0   \n",
       "2     MEDICAL          C       5500          12.87            1   \n",
       "3     MEDICAL          C      35000          15.23            1   \n",
       "4     MEDICAL          C      35000          14.27            1   \n",
       "\n",
       "   loan_percent_income cb_person_default_on_file  cb_person_cred_hist_length  \n",
       "0                 0.59                         Y                           3  \n",
       "1                 0.10                         N                           2  \n",
       "2                 0.57                         N                           3  \n",
       "3                 0.53                         N                           2  \n",
       "4                 0.55                         Y                           4  "
      ]
     },
     "execution_count": 5,
     "metadata": {},
     "output_type": "execute_result"
    }
   ],
   "source": [
    "credit_data.head()"
   ]
  },
  {
   "cell_type": "code",
   "execution_count": 6,
   "id": "tender-output",
   "metadata": {},
   "outputs": [
    {
     "data": {
      "text/plain": [
       "(32581, 12)"
      ]
     },
     "execution_count": 6,
     "metadata": {},
     "output_type": "execute_result"
    }
   ],
   "source": [
    "credit_data.shape"
   ]
  },
  {
   "cell_type": "code",
   "execution_count": 7,
   "id": "equipped-hypothetical",
   "metadata": {},
   "outputs": [
    {
     "data": {
      "text/plain": [
       "person_age                       0\n",
       "person_income                    0\n",
       "person_home_ownership            0\n",
       "person_emp_length              895\n",
       "loan_intent                      0\n",
       "loan_grade                       0\n",
       "loan_amnt                        0\n",
       "loan_int_rate                 3116\n",
       "loan_status                      0\n",
       "loan_percent_income              0\n",
       "cb_person_default_on_file        0\n",
       "cb_person_cred_hist_length       0\n",
       "dtype: int64"
      ]
     },
     "execution_count": 7,
     "metadata": {},
     "output_type": "execute_result"
    }
   ],
   "source": [
    "credit_data.isnull().sum()"
   ]
  },
  {
   "cell_type": "code",
   "execution_count": 8,
   "id": "boxed-mixer",
   "metadata": {},
   "outputs": [
    {
     "name": "stdout",
     "output_type": "stream",
     "text": [
      "<class 'pandas.core.frame.DataFrame'>\n",
      "RangeIndex: 32581 entries, 0 to 32580\n",
      "Data columns (total 12 columns):\n",
      " #   Column                      Non-Null Count  Dtype  \n",
      "---  ------                      --------------  -----  \n",
      " 0   person_age                  32581 non-null  int64  \n",
      " 1   person_income               32581 non-null  int64  \n",
      " 2   person_home_ownership       32581 non-null  object \n",
      " 3   person_emp_length           31686 non-null  float64\n",
      " 4   loan_intent                 32581 non-null  object \n",
      " 5   loan_grade                  32581 non-null  object \n",
      " 6   loan_amnt                   32581 non-null  int64  \n",
      " 7   loan_int_rate               29465 non-null  float64\n",
      " 8   loan_status                 32581 non-null  int64  \n",
      " 9   loan_percent_income         32581 non-null  float64\n",
      " 10  cb_person_default_on_file   32581 non-null  object \n",
      " 11  cb_person_cred_hist_length  32581 non-null  int64  \n",
      "dtypes: float64(3), int64(5), object(4)\n",
      "memory usage: 3.0+ MB\n"
     ]
    }
   ],
   "source": [
    "credit_data.info()"
   ]
  },
  {
   "cell_type": "code",
   "execution_count": 9,
   "id": "contrary-native",
   "metadata": {},
   "outputs": [
    {
     "data": {
      "text/plain": [
       "array([123.,   5.,   1.,   4.,   8.,   2.,   6.,   7.,   0.,   9.,   3.,\n",
       "        10.,  nan,  11.,  18.,  12.,  17.,  14.,  16.,  13.,  19.,  15.,\n",
       "        20.,  22.,  21.,  24.,  23.,  26.,  25.,  27.,  28.,  31.,  41.,\n",
       "        34.,  29.,  38.,  30.])"
      ]
     },
     "execution_count": 9,
     "metadata": {},
     "output_type": "execute_result"
    }
   ],
   "source": [
    "credit_data['person_emp_length'].unique()"
   ]
  },
  {
   "cell_type": "code",
   "execution_count": 10,
   "id": "classified-living",
   "metadata": {},
   "outputs": [],
   "source": [
    "credit_data['person_emp_length'].fillna(0, inplace=True)"
   ]
  },
  {
   "cell_type": "code",
   "execution_count": 11,
   "id": "absent-speed",
   "metadata": {},
   "outputs": [
    {
     "data": {
      "text/plain": [
       "0"
      ]
     },
     "execution_count": 11,
     "metadata": {},
     "output_type": "execute_result"
    }
   ],
   "source": [
    "credit_data['person_emp_length'].isnull().sum()"
   ]
  },
  {
   "cell_type": "code",
   "execution_count": 12,
   "id": "administrative-behavior",
   "metadata": {
    "scrolled": true
   },
   "outputs": [
    {
     "data": {
      "text/plain": [
       "11.01169489224439"
      ]
     },
     "execution_count": 12,
     "metadata": {},
     "output_type": "execute_result"
    }
   ],
   "source": [
    "credit_data['loan_int_rate'].mean()"
   ]
  },
  {
   "cell_type": "code",
   "execution_count": 13,
   "id": "recovered-steps",
   "metadata": {},
   "outputs": [],
   "source": [
    "credit_data['loan_int_rate'].fillna(credit_data['loan_int_rate'].mean(), inplace=True)"
   ]
  },
  {
   "cell_type": "code",
   "execution_count": 14,
   "id": "documented-antibody",
   "metadata": {},
   "outputs": [
    {
     "data": {
      "text/plain": [
       "array(['Y', 'N'], dtype=object)"
      ]
     },
     "execution_count": 14,
     "metadata": {},
     "output_type": "execute_result"
    }
   ],
   "source": [
    "credit_data['cb_person_default_on_file'].unique()"
   ]
  },
  {
   "cell_type": "markdown",
   "id": "reduced-florence",
   "metadata": {},
   "source": [
    "credit_data['cb_person_default_on_file_int'] = np.where(credit_data['cb_person_default_on_file'] == 'Y', 1, 0)"
   ]
  },
  {
   "cell_type": "markdown",
   "id": "respected-specific",
   "metadata": {},
   "source": [
    "credit_data['cb_person_default_on_file_int'].head()"
   ]
  },
  {
   "cell_type": "code",
   "execution_count": 15,
   "id": "accompanied-peace",
   "metadata": {
    "scrolled": true
   },
   "outputs": [
    {
     "data": {
      "text/plain": [
       "person_age                    0\n",
       "person_income                 0\n",
       "person_home_ownership         0\n",
       "person_emp_length             0\n",
       "loan_intent                   0\n",
       "loan_grade                    0\n",
       "loan_amnt                     0\n",
       "loan_int_rate                 0\n",
       "loan_status                   0\n",
       "loan_percent_income           0\n",
       "cb_person_default_on_file     0\n",
       "cb_person_cred_hist_length    0\n",
       "dtype: int64"
      ]
     },
     "execution_count": 15,
     "metadata": {},
     "output_type": "execute_result"
    }
   ],
   "source": [
    "credit_data.isnull().sum()"
   ]
  },
  {
   "cell_type": "code",
   "execution_count": 16,
   "id": "mental-onion",
   "metadata": {},
   "outputs": [
    {
     "name": "stdout",
     "output_type": "stream",
     "text": [
      "<class 'pandas.core.frame.DataFrame'>\n",
      "RangeIndex: 32581 entries, 0 to 32580\n",
      "Data columns (total 12 columns):\n",
      " #   Column                      Non-Null Count  Dtype  \n",
      "---  ------                      --------------  -----  \n",
      " 0   person_age                  32581 non-null  int64  \n",
      " 1   person_income               32581 non-null  int64  \n",
      " 2   person_home_ownership       32581 non-null  object \n",
      " 3   person_emp_length           32581 non-null  float64\n",
      " 4   loan_intent                 32581 non-null  object \n",
      " 5   loan_grade                  32581 non-null  object \n",
      " 6   loan_amnt                   32581 non-null  int64  \n",
      " 7   loan_int_rate               32581 non-null  float64\n",
      " 8   loan_status                 32581 non-null  int64  \n",
      " 9   loan_percent_income         32581 non-null  float64\n",
      " 10  cb_person_default_on_file   32581 non-null  object \n",
      " 11  cb_person_cred_hist_length  32581 non-null  int64  \n",
      "dtypes: float64(3), int64(5), object(4)\n",
      "memory usage: 3.0+ MB\n"
     ]
    }
   ],
   "source": [
    "credit_data.info()"
   ]
  },
  {
   "cell_type": "code",
   "execution_count": 17,
   "id": "agreed-configuration",
   "metadata": {},
   "outputs": [
    {
     "data": {
      "text/plain": [
       "array([1, 0], dtype=int64)"
      ]
     },
     "execution_count": 17,
     "metadata": {},
     "output_type": "execute_result"
    }
   ],
   "source": [
    "credit_data['loan_status'].unique()"
   ]
  },
  {
   "cell_type": "markdown",
   "id": "reliable-legislature",
   "metadata": {},
   "source": [
    "### continuous variables: \n",
    "'person_age', \n",
    "'person_income', \n",
    "'person_emp_length', \n",
    "'loan_amnt', \n",
    "'loan_int_rate', \n",
    "'loan_percent_income', \n",
    "'cb_person_cred_hist_length'\n",
    "\n",
    "### discrete variables: \n",
    "'person_home_ownership', \n",
    "'loan_grade', 'loan_intent', \n",
    "'cb_person_default_on_file'\n",
    "\n",
    "\n",
    "### target variable: \n",
    "'loan_status'"
   ]
  },
  {
   "cell_type": "markdown",
   "id": "raised-eating",
   "metadata": {},
   "source": [
    "### create dummy varialbes for discrete variables:"
   ]
  },
  {
   "cell_type": "code",
   "execution_count": 18,
   "id": "divided-jewel",
   "metadata": {},
   "outputs": [
    {
     "data": {
      "text/plain": [
       "array(['RENT', 'OWN', 'MORTGAGE', 'OTHER'], dtype=object)"
      ]
     },
     "execution_count": 18,
     "metadata": {},
     "output_type": "execute_result"
    }
   ],
   "source": [
    "credit_data['person_home_ownership'].unique()"
   ]
  },
  {
   "cell_type": "code",
   "execution_count": 19,
   "id": "invisible-barrel",
   "metadata": {},
   "outputs": [
    {
     "data": {
      "text/plain": [
       "array(['D', 'B', 'C', 'A', 'E', 'F', 'G'], dtype=object)"
      ]
     },
     "execution_count": 19,
     "metadata": {},
     "output_type": "execute_result"
    }
   ],
   "source": [
    "credit_data['loan_grade'].unique()"
   ]
  },
  {
   "cell_type": "code",
   "execution_count": 20,
   "id": "premium-inside",
   "metadata": {},
   "outputs": [],
   "source": [
    "dummies = [\n",
    "    pd.get_dummies(credit_data['person_home_ownership'], prefix='person_home_ownership', prefix_sep=':'),\n",
    "    pd.get_dummies(credit_data['loan_grade'], prefix='loan_grade', prefix_sep=':'), \n",
    "    pd.get_dummies(credit_data['cb_person_default_on_file'], prefix='cb_person_default_on_file', prefix_sep=':')\n",
    "]"
   ]
  },
  {
   "cell_type": "code",
   "execution_count": 21,
   "id": "expected-vision",
   "metadata": {},
   "outputs": [],
   "source": [
    "dummies = pd.concat(dummies, axis=1)"
   ]
  },
  {
   "cell_type": "code",
   "execution_count": 22,
   "id": "covered-lambda",
   "metadata": {},
   "outputs": [
    {
     "data": {
      "text/plain": [
       "pandas.core.frame.DataFrame"
      ]
     },
     "execution_count": 22,
     "metadata": {},
     "output_type": "execute_result"
    }
   ],
   "source": [
    "type(dummies)"
   ]
  },
  {
   "cell_type": "markdown",
   "id": "worth-poverty",
   "metadata": {},
   "source": [
    "credit_data['cb_person_default_on_file:Y'] = credit_data['cb_person_default_on_file_int']"
   ]
  },
  {
   "cell_type": "markdown",
   "id": "classified-independence",
   "metadata": {},
   "source": [
    "credit_data['cb_person_default_on_file:N'] = 1 - credit_data['cb_person_default_on_file:Y'] "
   ]
  },
  {
   "cell_type": "code",
   "execution_count": 23,
   "id": "urban-savannah",
   "metadata": {},
   "outputs": [],
   "source": [
    "credit_data = pd.concat([credit_data, dummies], axis=1)"
   ]
  },
  {
   "cell_type": "code",
   "execution_count": 24,
   "id": "willing-degree",
   "metadata": {},
   "outputs": [
    {
     "data": {
      "text/plain": [
       "pandas.core.frame.DataFrame"
      ]
     },
     "execution_count": 24,
     "metadata": {},
     "output_type": "execute_result"
    }
   ],
   "source": [
    "type(credit_data)"
   ]
  },
  {
   "cell_type": "code",
   "execution_count": 25,
   "id": "verbal-winner",
   "metadata": {},
   "outputs": [],
   "source": [
    "pd.options.display.max_columns = None"
   ]
  },
  {
   "cell_type": "code",
   "execution_count": 26,
   "id": "broad-premium",
   "metadata": {
    "scrolled": true
   },
   "outputs": [
    {
     "data": {
      "text/html": [
       "<div>\n",
       "<style scoped>\n",
       "    .dataframe tbody tr th:only-of-type {\n",
       "        vertical-align: middle;\n",
       "    }\n",
       "\n",
       "    .dataframe tbody tr th {\n",
       "        vertical-align: top;\n",
       "    }\n",
       "\n",
       "    .dataframe thead th {\n",
       "        text-align: right;\n",
       "    }\n",
       "</style>\n",
       "<table border=\"1\" class=\"dataframe\">\n",
       "  <thead>\n",
       "    <tr style=\"text-align: right;\">\n",
       "      <th></th>\n",
       "      <th>person_age</th>\n",
       "      <th>person_income</th>\n",
       "      <th>person_home_ownership</th>\n",
       "      <th>person_emp_length</th>\n",
       "      <th>loan_intent</th>\n",
       "      <th>loan_grade</th>\n",
       "      <th>loan_amnt</th>\n",
       "      <th>loan_int_rate</th>\n",
       "      <th>loan_status</th>\n",
       "      <th>loan_percent_income</th>\n",
       "      <th>cb_person_default_on_file</th>\n",
       "      <th>cb_person_cred_hist_length</th>\n",
       "      <th>person_home_ownership:MORTGAGE</th>\n",
       "      <th>person_home_ownership:OTHER</th>\n",
       "      <th>person_home_ownership:OWN</th>\n",
       "      <th>person_home_ownership:RENT</th>\n",
       "      <th>loan_grade:A</th>\n",
       "      <th>loan_grade:B</th>\n",
       "      <th>loan_grade:C</th>\n",
       "      <th>loan_grade:D</th>\n",
       "      <th>loan_grade:E</th>\n",
       "      <th>loan_grade:F</th>\n",
       "      <th>loan_grade:G</th>\n",
       "      <th>cb_person_default_on_file:N</th>\n",
       "      <th>cb_person_default_on_file:Y</th>\n",
       "    </tr>\n",
       "  </thead>\n",
       "  <tbody>\n",
       "    <tr>\n",
       "      <th>0</th>\n",
       "      <td>22</td>\n",
       "      <td>59000</td>\n",
       "      <td>RENT</td>\n",
       "      <td>123.0</td>\n",
       "      <td>PERSONAL</td>\n",
       "      <td>D</td>\n",
       "      <td>35000</td>\n",
       "      <td>16.02</td>\n",
       "      <td>1</td>\n",
       "      <td>0.59</td>\n",
       "      <td>Y</td>\n",
       "      <td>3</td>\n",
       "      <td>0</td>\n",
       "      <td>0</td>\n",
       "      <td>0</td>\n",
       "      <td>1</td>\n",
       "      <td>0</td>\n",
       "      <td>0</td>\n",
       "      <td>0</td>\n",
       "      <td>1</td>\n",
       "      <td>0</td>\n",
       "      <td>0</td>\n",
       "      <td>0</td>\n",
       "      <td>0</td>\n",
       "      <td>1</td>\n",
       "    </tr>\n",
       "    <tr>\n",
       "      <th>1</th>\n",
       "      <td>21</td>\n",
       "      <td>9600</td>\n",
       "      <td>OWN</td>\n",
       "      <td>5.0</td>\n",
       "      <td>EDUCATION</td>\n",
       "      <td>B</td>\n",
       "      <td>1000</td>\n",
       "      <td>11.14</td>\n",
       "      <td>0</td>\n",
       "      <td>0.10</td>\n",
       "      <td>N</td>\n",
       "      <td>2</td>\n",
       "      <td>0</td>\n",
       "      <td>0</td>\n",
       "      <td>1</td>\n",
       "      <td>0</td>\n",
       "      <td>0</td>\n",
       "      <td>1</td>\n",
       "      <td>0</td>\n",
       "      <td>0</td>\n",
       "      <td>0</td>\n",
       "      <td>0</td>\n",
       "      <td>0</td>\n",
       "      <td>1</td>\n",
       "      <td>0</td>\n",
       "    </tr>\n",
       "    <tr>\n",
       "      <th>2</th>\n",
       "      <td>25</td>\n",
       "      <td>9600</td>\n",
       "      <td>MORTGAGE</td>\n",
       "      <td>1.0</td>\n",
       "      <td>MEDICAL</td>\n",
       "      <td>C</td>\n",
       "      <td>5500</td>\n",
       "      <td>12.87</td>\n",
       "      <td>1</td>\n",
       "      <td>0.57</td>\n",
       "      <td>N</td>\n",
       "      <td>3</td>\n",
       "      <td>1</td>\n",
       "      <td>0</td>\n",
       "      <td>0</td>\n",
       "      <td>0</td>\n",
       "      <td>0</td>\n",
       "      <td>0</td>\n",
       "      <td>1</td>\n",
       "      <td>0</td>\n",
       "      <td>0</td>\n",
       "      <td>0</td>\n",
       "      <td>0</td>\n",
       "      <td>1</td>\n",
       "      <td>0</td>\n",
       "    </tr>\n",
       "    <tr>\n",
       "      <th>3</th>\n",
       "      <td>23</td>\n",
       "      <td>65500</td>\n",
       "      <td>RENT</td>\n",
       "      <td>4.0</td>\n",
       "      <td>MEDICAL</td>\n",
       "      <td>C</td>\n",
       "      <td>35000</td>\n",
       "      <td>15.23</td>\n",
       "      <td>1</td>\n",
       "      <td>0.53</td>\n",
       "      <td>N</td>\n",
       "      <td>2</td>\n",
       "      <td>0</td>\n",
       "      <td>0</td>\n",
       "      <td>0</td>\n",
       "      <td>1</td>\n",
       "      <td>0</td>\n",
       "      <td>0</td>\n",
       "      <td>1</td>\n",
       "      <td>0</td>\n",
       "      <td>0</td>\n",
       "      <td>0</td>\n",
       "      <td>0</td>\n",
       "      <td>1</td>\n",
       "      <td>0</td>\n",
       "    </tr>\n",
       "    <tr>\n",
       "      <th>4</th>\n",
       "      <td>24</td>\n",
       "      <td>54400</td>\n",
       "      <td>RENT</td>\n",
       "      <td>8.0</td>\n",
       "      <td>MEDICAL</td>\n",
       "      <td>C</td>\n",
       "      <td>35000</td>\n",
       "      <td>14.27</td>\n",
       "      <td>1</td>\n",
       "      <td>0.55</td>\n",
       "      <td>Y</td>\n",
       "      <td>4</td>\n",
       "      <td>0</td>\n",
       "      <td>0</td>\n",
       "      <td>0</td>\n",
       "      <td>1</td>\n",
       "      <td>0</td>\n",
       "      <td>0</td>\n",
       "      <td>1</td>\n",
       "      <td>0</td>\n",
       "      <td>0</td>\n",
       "      <td>0</td>\n",
       "      <td>0</td>\n",
       "      <td>0</td>\n",
       "      <td>1</td>\n",
       "    </tr>\n",
       "    <tr>\n",
       "      <th>5</th>\n",
       "      <td>21</td>\n",
       "      <td>9900</td>\n",
       "      <td>OWN</td>\n",
       "      <td>2.0</td>\n",
       "      <td>VENTURE</td>\n",
       "      <td>A</td>\n",
       "      <td>2500</td>\n",
       "      <td>7.14</td>\n",
       "      <td>1</td>\n",
       "      <td>0.25</td>\n",
       "      <td>N</td>\n",
       "      <td>2</td>\n",
       "      <td>0</td>\n",
       "      <td>0</td>\n",
       "      <td>1</td>\n",
       "      <td>0</td>\n",
       "      <td>1</td>\n",
       "      <td>0</td>\n",
       "      <td>0</td>\n",
       "      <td>0</td>\n",
       "      <td>0</td>\n",
       "      <td>0</td>\n",
       "      <td>0</td>\n",
       "      <td>1</td>\n",
       "      <td>0</td>\n",
       "    </tr>\n",
       "    <tr>\n",
       "      <th>6</th>\n",
       "      <td>26</td>\n",
       "      <td>77100</td>\n",
       "      <td>RENT</td>\n",
       "      <td>8.0</td>\n",
       "      <td>EDUCATION</td>\n",
       "      <td>B</td>\n",
       "      <td>35000</td>\n",
       "      <td>12.42</td>\n",
       "      <td>1</td>\n",
       "      <td>0.45</td>\n",
       "      <td>N</td>\n",
       "      <td>3</td>\n",
       "      <td>0</td>\n",
       "      <td>0</td>\n",
       "      <td>0</td>\n",
       "      <td>1</td>\n",
       "      <td>0</td>\n",
       "      <td>1</td>\n",
       "      <td>0</td>\n",
       "      <td>0</td>\n",
       "      <td>0</td>\n",
       "      <td>0</td>\n",
       "      <td>0</td>\n",
       "      <td>1</td>\n",
       "      <td>0</td>\n",
       "    </tr>\n",
       "    <tr>\n",
       "      <th>7</th>\n",
       "      <td>24</td>\n",
       "      <td>78956</td>\n",
       "      <td>RENT</td>\n",
       "      <td>5.0</td>\n",
       "      <td>MEDICAL</td>\n",
       "      <td>B</td>\n",
       "      <td>35000</td>\n",
       "      <td>11.11</td>\n",
       "      <td>1</td>\n",
       "      <td>0.44</td>\n",
       "      <td>N</td>\n",
       "      <td>4</td>\n",
       "      <td>0</td>\n",
       "      <td>0</td>\n",
       "      <td>0</td>\n",
       "      <td>1</td>\n",
       "      <td>0</td>\n",
       "      <td>1</td>\n",
       "      <td>0</td>\n",
       "      <td>0</td>\n",
       "      <td>0</td>\n",
       "      <td>0</td>\n",
       "      <td>0</td>\n",
       "      <td>1</td>\n",
       "      <td>0</td>\n",
       "    </tr>\n",
       "    <tr>\n",
       "      <th>8</th>\n",
       "      <td>24</td>\n",
       "      <td>83000</td>\n",
       "      <td>RENT</td>\n",
       "      <td>8.0</td>\n",
       "      <td>PERSONAL</td>\n",
       "      <td>A</td>\n",
       "      <td>35000</td>\n",
       "      <td>8.90</td>\n",
       "      <td>1</td>\n",
       "      <td>0.42</td>\n",
       "      <td>N</td>\n",
       "      <td>2</td>\n",
       "      <td>0</td>\n",
       "      <td>0</td>\n",
       "      <td>0</td>\n",
       "      <td>1</td>\n",
       "      <td>1</td>\n",
       "      <td>0</td>\n",
       "      <td>0</td>\n",
       "      <td>0</td>\n",
       "      <td>0</td>\n",
       "      <td>0</td>\n",
       "      <td>0</td>\n",
       "      <td>1</td>\n",
       "      <td>0</td>\n",
       "    </tr>\n",
       "    <tr>\n",
       "      <th>9</th>\n",
       "      <td>21</td>\n",
       "      <td>10000</td>\n",
       "      <td>OWN</td>\n",
       "      <td>6.0</td>\n",
       "      <td>VENTURE</td>\n",
       "      <td>D</td>\n",
       "      <td>1600</td>\n",
       "      <td>14.74</td>\n",
       "      <td>1</td>\n",
       "      <td>0.16</td>\n",
       "      <td>N</td>\n",
       "      <td>3</td>\n",
       "      <td>0</td>\n",
       "      <td>0</td>\n",
       "      <td>1</td>\n",
       "      <td>0</td>\n",
       "      <td>0</td>\n",
       "      <td>0</td>\n",
       "      <td>0</td>\n",
       "      <td>1</td>\n",
       "      <td>0</td>\n",
       "      <td>0</td>\n",
       "      <td>0</td>\n",
       "      <td>1</td>\n",
       "      <td>0</td>\n",
       "    </tr>\n",
       "  </tbody>\n",
       "</table>\n",
       "</div>"
      ],
      "text/plain": [
       "   person_age  person_income person_home_ownership  person_emp_length  \\\n",
       "0          22          59000                  RENT              123.0   \n",
       "1          21           9600                   OWN                5.0   \n",
       "2          25           9600              MORTGAGE                1.0   \n",
       "3          23          65500                  RENT                4.0   \n",
       "4          24          54400                  RENT                8.0   \n",
       "5          21           9900                   OWN                2.0   \n",
       "6          26          77100                  RENT                8.0   \n",
       "7          24          78956                  RENT                5.0   \n",
       "8          24          83000                  RENT                8.0   \n",
       "9          21          10000                   OWN                6.0   \n",
       "\n",
       "  loan_intent loan_grade  loan_amnt  loan_int_rate  loan_status  \\\n",
       "0    PERSONAL          D      35000          16.02            1   \n",
       "1   EDUCATION          B       1000          11.14            0   \n",
       "2     MEDICAL          C       5500          12.87            1   \n",
       "3     MEDICAL          C      35000          15.23            1   \n",
       "4     MEDICAL          C      35000          14.27            1   \n",
       "5     VENTURE          A       2500           7.14            1   \n",
       "6   EDUCATION          B      35000          12.42            1   \n",
       "7     MEDICAL          B      35000          11.11            1   \n",
       "8    PERSONAL          A      35000           8.90            1   \n",
       "9     VENTURE          D       1600          14.74            1   \n",
       "\n",
       "   loan_percent_income cb_person_default_on_file  cb_person_cred_hist_length  \\\n",
       "0                 0.59                         Y                           3   \n",
       "1                 0.10                         N                           2   \n",
       "2                 0.57                         N                           3   \n",
       "3                 0.53                         N                           2   \n",
       "4                 0.55                         Y                           4   \n",
       "5                 0.25                         N                           2   \n",
       "6                 0.45                         N                           3   \n",
       "7                 0.44                         N                           4   \n",
       "8                 0.42                         N                           2   \n",
       "9                 0.16                         N                           3   \n",
       "\n",
       "   person_home_ownership:MORTGAGE  person_home_ownership:OTHER  \\\n",
       "0                               0                            0   \n",
       "1                               0                            0   \n",
       "2                               1                            0   \n",
       "3                               0                            0   \n",
       "4                               0                            0   \n",
       "5                               0                            0   \n",
       "6                               0                            0   \n",
       "7                               0                            0   \n",
       "8                               0                            0   \n",
       "9                               0                            0   \n",
       "\n",
       "   person_home_ownership:OWN  person_home_ownership:RENT  loan_grade:A  \\\n",
       "0                          0                           1             0   \n",
       "1                          1                           0             0   \n",
       "2                          0                           0             0   \n",
       "3                          0                           1             0   \n",
       "4                          0                           1             0   \n",
       "5                          1                           0             1   \n",
       "6                          0                           1             0   \n",
       "7                          0                           1             0   \n",
       "8                          0                           1             1   \n",
       "9                          1                           0             0   \n",
       "\n",
       "   loan_grade:B  loan_grade:C  loan_grade:D  loan_grade:E  loan_grade:F  \\\n",
       "0             0             0             1             0             0   \n",
       "1             1             0             0             0             0   \n",
       "2             0             1             0             0             0   \n",
       "3             0             1             0             0             0   \n",
       "4             0             1             0             0             0   \n",
       "5             0             0             0             0             0   \n",
       "6             1             0             0             0             0   \n",
       "7             1             0             0             0             0   \n",
       "8             0             0             0             0             0   \n",
       "9             0             0             1             0             0   \n",
       "\n",
       "   loan_grade:G  cb_person_default_on_file:N  cb_person_default_on_file:Y  \n",
       "0             0                            0                            1  \n",
       "1             0                            1                            0  \n",
       "2             0                            1                            0  \n",
       "3             0                            1                            0  \n",
       "4             0                            0                            1  \n",
       "5             0                            1                            0  \n",
       "6             0                            1                            0  \n",
       "7             0                            1                            0  \n",
       "8             0                            1                            0  \n",
       "9             0                            1                            0  "
      ]
     },
     "execution_count": 26,
     "metadata": {},
     "output_type": "execute_result"
    }
   ],
   "source": [
    "credit_data.head(10)"
   ]
  },
  {
   "cell_type": "code",
   "execution_count": 27,
   "id": "economic-favorite",
   "metadata": {},
   "outputs": [
    {
     "data": {
      "text/plain": [
       "0.21816396059052823"
      ]
     },
     "execution_count": 27,
     "metadata": {},
     "output_type": "execute_result"
    }
   ],
   "source": [
    "credit_data['loan_status'].sum() / credit_data.shape[0]"
   ]
  },
  {
   "cell_type": "markdown",
   "id": "external-permission",
   "metadata": {},
   "source": [
    "We guess 'loan_status' = 1 means that the loan is defaulted.\n",
    "\n",
    "After some examination below. We deduct that our guess is true. So we change the dependent variable to 'good_bad' having 1 representing a non-default (good) situation."
   ]
  },
  {
   "cell_type": "code",
   "execution_count": 28,
   "id": "female-error",
   "metadata": {},
   "outputs": [],
   "source": [
    "credit_data['good_bad'] = 1 - credit_data['loan_status']"
   ]
  },
  {
   "cell_type": "code",
   "execution_count": 29,
   "id": "authentic-explosion",
   "metadata": {},
   "outputs": [
    {
     "data": {
      "text/plain": [
       "0.7818360394094718"
      ]
     },
     "execution_count": 29,
     "metadata": {},
     "output_type": "execute_result"
    }
   ],
   "source": [
    "credit_data['good_bad'].sum() / credit_data.shape[0]"
   ]
  },
  {
   "cell_type": "markdown",
   "id": "quick-exhibit",
   "metadata": {},
   "source": [
    "Independent Variables dummies classing according to **WoE**\n",
    "\n",
    "fine classing -> WoE calculation -> Coarse classing\n",
    "\n",
    "# $\\text{WoE}_{i}=\\ln \\left(\\frac{\\%(y=1)_i}{\\%(y=0)_i}\\right)$\n",
    "\n",
    "Information Value (IF)\n",
    "\n",
    "# $\\text{IF} = \\sum_{i=1}^{k}\\left[\\left(\\%(y=1)_i-\\%(y=0)_i\\right)\\right]\\times\\text{WoE_i}$\n",
    "Suppose there are k categories for this variable. Either continuous after classing or discrete.\n",
    "\n",
    "More advanced methods: classing with WoE and sample size. abnormal values goes to the two side classes."
   ]
  },
  {
   "cell_type": "markdown",
   "id": "promising-scientist",
   "metadata": {},
   "source": [
    "## Splitting data"
   ]
  },
  {
   "cell_type": "code",
   "execution_count": 30,
   "id": "cathedral-kruger",
   "metadata": {},
   "outputs": [],
   "source": [
    "X_train, X_test, y_train, y_test = train_test_split(credit_data.drop('good_bad', axis=1), credit_data['good_bad'], test_size=0.2, random_state=42)"
   ]
  },
  {
   "cell_type": "code",
   "execution_count": 31,
   "id": "handmade-front",
   "metadata": {},
   "outputs": [
    {
     "data": {
      "text/plain": [
       "(26064, 25)"
      ]
     },
     "execution_count": 31,
     "metadata": {},
     "output_type": "execute_result"
    }
   ],
   "source": [
    "X_train.shape"
   ]
  },
  {
   "cell_type": "code",
   "execution_count": 32,
   "id": "macro-breakdown",
   "metadata": {},
   "outputs": [
    {
     "data": {
      "text/plain": [
       "(26064,)"
      ]
     },
     "execution_count": 32,
     "metadata": {},
     "output_type": "execute_result"
    }
   ],
   "source": [
    "y_train.shape"
   ]
  },
  {
   "cell_type": "code",
   "execution_count": 33,
   "id": "mobile-courtesy",
   "metadata": {},
   "outputs": [
    {
     "data": {
      "text/plain": [
       "(6517, 25)"
      ]
     },
     "execution_count": 33,
     "metadata": {},
     "output_type": "execute_result"
    }
   ],
   "source": [
    "X_test.shape"
   ]
  },
  {
   "cell_type": "code",
   "execution_count": 34,
   "id": "minute-engineering",
   "metadata": {},
   "outputs": [
    {
     "data": {
      "text/plain": [
       "(6517,)"
      ]
     },
     "execution_count": 34,
     "metadata": {},
     "output_type": "execute_result"
    }
   ],
   "source": [
    "y_test.shape"
   ]
  },
  {
   "cell_type": "code",
   "execution_count": 57,
   "id": "bronze-andrews",
   "metadata": {},
   "outputs": [
    {
     "data": {
      "text/plain": [
       "32377    1\n",
       "1338     0\n",
       "7047     1\n",
       "8225     1\n",
       "7178     1\n",
       "Name: good_bad, dtype: int64"
      ]
     },
     "execution_count": 57,
     "metadata": {},
     "output_type": "execute_result"
    }
   ],
   "source": [
    "y_train.head()"
   ]
  },
  {
   "cell_type": "code",
   "execution_count": 58,
   "id": "digital-packaging",
   "metadata": {
    "scrolled": true
   },
   "outputs": [
    {
     "data": {
      "text/plain": [
       "0    0\n",
       "1    1\n",
       "2    0\n",
       "3    0\n",
       "4    0\n",
       "Name: good_bad, dtype: int64"
      ]
     },
     "execution_count": 58,
     "metadata": {},
     "output_type": "execute_result"
    }
   ],
   "source": [
    "credit_data['good_bad'].head()"
   ]
  },
  {
   "cell_type": "code",
   "execution_count": 56,
   "id": "welsh-thursday",
   "metadata": {},
   "outputs": [
    {
     "data": {
      "text/html": [
       "<div>\n",
       "<style scoped>\n",
       "    .dataframe tbody tr th:only-of-type {\n",
       "        vertical-align: middle;\n",
       "    }\n",
       "\n",
       "    .dataframe tbody tr th {\n",
       "        vertical-align: top;\n",
       "    }\n",
       "\n",
       "    .dataframe thead th {\n",
       "        text-align: right;\n",
       "    }\n",
       "</style>\n",
       "<table border=\"1\" class=\"dataframe\">\n",
       "  <thead>\n",
       "    <tr style=\"text-align: right;\">\n",
       "      <th></th>\n",
       "      <th>person_age</th>\n",
       "      <th>person_income</th>\n",
       "      <th>person_home_ownership</th>\n",
       "      <th>person_emp_length</th>\n",
       "      <th>loan_intent</th>\n",
       "      <th>loan_grade</th>\n",
       "      <th>loan_amnt</th>\n",
       "      <th>loan_int_rate</th>\n",
       "      <th>loan_status</th>\n",
       "      <th>loan_percent_income</th>\n",
       "      <th>cb_person_default_on_file</th>\n",
       "      <th>cb_person_cred_hist_length</th>\n",
       "      <th>person_home_ownership:MORTGAGE</th>\n",
       "      <th>person_home_ownership:OTHER</th>\n",
       "      <th>person_home_ownership:OWN</th>\n",
       "      <th>person_home_ownership:RENT</th>\n",
       "      <th>loan_grade:A</th>\n",
       "      <th>loan_grade:B</th>\n",
       "      <th>loan_grade:C</th>\n",
       "      <th>loan_grade:D</th>\n",
       "      <th>loan_grade:E</th>\n",
       "      <th>loan_grade:F</th>\n",
       "      <th>loan_grade:G</th>\n",
       "      <th>cb_person_default_on_file:N</th>\n",
       "      <th>cb_person_default_on_file:Y</th>\n",
       "      <th>good_bad</th>\n",
       "    </tr>\n",
       "  </thead>\n",
       "  <tbody>\n",
       "    <tr>\n",
       "      <th>0</th>\n",
       "      <td>22</td>\n",
       "      <td>59000</td>\n",
       "      <td>RENT</td>\n",
       "      <td>123.0</td>\n",
       "      <td>PERSONAL</td>\n",
       "      <td>D</td>\n",
       "      <td>35000</td>\n",
       "      <td>16.02</td>\n",
       "      <td>1</td>\n",
       "      <td>0.59</td>\n",
       "      <td>Y</td>\n",
       "      <td>3</td>\n",
       "      <td>0</td>\n",
       "      <td>0</td>\n",
       "      <td>0</td>\n",
       "      <td>1</td>\n",
       "      <td>0</td>\n",
       "      <td>0</td>\n",
       "      <td>0</td>\n",
       "      <td>1</td>\n",
       "      <td>0</td>\n",
       "      <td>0</td>\n",
       "      <td>0</td>\n",
       "      <td>0</td>\n",
       "      <td>1</td>\n",
       "      <td>0</td>\n",
       "    </tr>\n",
       "    <tr>\n",
       "      <th>1</th>\n",
       "      <td>21</td>\n",
       "      <td>9600</td>\n",
       "      <td>OWN</td>\n",
       "      <td>5.0</td>\n",
       "      <td>EDUCATION</td>\n",
       "      <td>B</td>\n",
       "      <td>1000</td>\n",
       "      <td>11.14</td>\n",
       "      <td>0</td>\n",
       "      <td>0.10</td>\n",
       "      <td>N</td>\n",
       "      <td>2</td>\n",
       "      <td>0</td>\n",
       "      <td>0</td>\n",
       "      <td>1</td>\n",
       "      <td>0</td>\n",
       "      <td>0</td>\n",
       "      <td>1</td>\n",
       "      <td>0</td>\n",
       "      <td>0</td>\n",
       "      <td>0</td>\n",
       "      <td>0</td>\n",
       "      <td>0</td>\n",
       "      <td>1</td>\n",
       "      <td>0</td>\n",
       "      <td>1</td>\n",
       "    </tr>\n",
       "    <tr>\n",
       "      <th>2</th>\n",
       "      <td>25</td>\n",
       "      <td>9600</td>\n",
       "      <td>MORTGAGE</td>\n",
       "      <td>1.0</td>\n",
       "      <td>MEDICAL</td>\n",
       "      <td>C</td>\n",
       "      <td>5500</td>\n",
       "      <td>12.87</td>\n",
       "      <td>1</td>\n",
       "      <td>0.57</td>\n",
       "      <td>N</td>\n",
       "      <td>3</td>\n",
       "      <td>1</td>\n",
       "      <td>0</td>\n",
       "      <td>0</td>\n",
       "      <td>0</td>\n",
       "      <td>0</td>\n",
       "      <td>0</td>\n",
       "      <td>1</td>\n",
       "      <td>0</td>\n",
       "      <td>0</td>\n",
       "      <td>0</td>\n",
       "      <td>0</td>\n",
       "      <td>1</td>\n",
       "      <td>0</td>\n",
       "      <td>0</td>\n",
       "    </tr>\n",
       "    <tr>\n",
       "      <th>3</th>\n",
       "      <td>23</td>\n",
       "      <td>65500</td>\n",
       "      <td>RENT</td>\n",
       "      <td>4.0</td>\n",
       "      <td>MEDICAL</td>\n",
       "      <td>C</td>\n",
       "      <td>35000</td>\n",
       "      <td>15.23</td>\n",
       "      <td>1</td>\n",
       "      <td>0.53</td>\n",
       "      <td>N</td>\n",
       "      <td>2</td>\n",
       "      <td>0</td>\n",
       "      <td>0</td>\n",
       "      <td>0</td>\n",
       "      <td>1</td>\n",
       "      <td>0</td>\n",
       "      <td>0</td>\n",
       "      <td>1</td>\n",
       "      <td>0</td>\n",
       "      <td>0</td>\n",
       "      <td>0</td>\n",
       "      <td>0</td>\n",
       "      <td>1</td>\n",
       "      <td>0</td>\n",
       "      <td>0</td>\n",
       "    </tr>\n",
       "    <tr>\n",
       "      <th>4</th>\n",
       "      <td>24</td>\n",
       "      <td>54400</td>\n",
       "      <td>RENT</td>\n",
       "      <td>8.0</td>\n",
       "      <td>MEDICAL</td>\n",
       "      <td>C</td>\n",
       "      <td>35000</td>\n",
       "      <td>14.27</td>\n",
       "      <td>1</td>\n",
       "      <td>0.55</td>\n",
       "      <td>Y</td>\n",
       "      <td>4</td>\n",
       "      <td>0</td>\n",
       "      <td>0</td>\n",
       "      <td>0</td>\n",
       "      <td>1</td>\n",
       "      <td>0</td>\n",
       "      <td>0</td>\n",
       "      <td>1</td>\n",
       "      <td>0</td>\n",
       "      <td>0</td>\n",
       "      <td>0</td>\n",
       "      <td>0</td>\n",
       "      <td>0</td>\n",
       "      <td>1</td>\n",
       "      <td>0</td>\n",
       "    </tr>\n",
       "    <tr>\n",
       "      <th>5</th>\n",
       "      <td>21</td>\n",
       "      <td>9900</td>\n",
       "      <td>OWN</td>\n",
       "      <td>2.0</td>\n",
       "      <td>VENTURE</td>\n",
       "      <td>A</td>\n",
       "      <td>2500</td>\n",
       "      <td>7.14</td>\n",
       "      <td>1</td>\n",
       "      <td>0.25</td>\n",
       "      <td>N</td>\n",
       "      <td>2</td>\n",
       "      <td>0</td>\n",
       "      <td>0</td>\n",
       "      <td>1</td>\n",
       "      <td>0</td>\n",
       "      <td>1</td>\n",
       "      <td>0</td>\n",
       "      <td>0</td>\n",
       "      <td>0</td>\n",
       "      <td>0</td>\n",
       "      <td>0</td>\n",
       "      <td>0</td>\n",
       "      <td>1</td>\n",
       "      <td>0</td>\n",
       "      <td>0</td>\n",
       "    </tr>\n",
       "    <tr>\n",
       "      <th>6</th>\n",
       "      <td>26</td>\n",
       "      <td>77100</td>\n",
       "      <td>RENT</td>\n",
       "      <td>8.0</td>\n",
       "      <td>EDUCATION</td>\n",
       "      <td>B</td>\n",
       "      <td>35000</td>\n",
       "      <td>12.42</td>\n",
       "      <td>1</td>\n",
       "      <td>0.45</td>\n",
       "      <td>N</td>\n",
       "      <td>3</td>\n",
       "      <td>0</td>\n",
       "      <td>0</td>\n",
       "      <td>0</td>\n",
       "      <td>1</td>\n",
       "      <td>0</td>\n",
       "      <td>1</td>\n",
       "      <td>0</td>\n",
       "      <td>0</td>\n",
       "      <td>0</td>\n",
       "      <td>0</td>\n",
       "      <td>0</td>\n",
       "      <td>1</td>\n",
       "      <td>0</td>\n",
       "      <td>0</td>\n",
       "    </tr>\n",
       "    <tr>\n",
       "      <th>7</th>\n",
       "      <td>24</td>\n",
       "      <td>78956</td>\n",
       "      <td>RENT</td>\n",
       "      <td>5.0</td>\n",
       "      <td>MEDICAL</td>\n",
       "      <td>B</td>\n",
       "      <td>35000</td>\n",
       "      <td>11.11</td>\n",
       "      <td>1</td>\n",
       "      <td>0.44</td>\n",
       "      <td>N</td>\n",
       "      <td>4</td>\n",
       "      <td>0</td>\n",
       "      <td>0</td>\n",
       "      <td>0</td>\n",
       "      <td>1</td>\n",
       "      <td>0</td>\n",
       "      <td>1</td>\n",
       "      <td>0</td>\n",
       "      <td>0</td>\n",
       "      <td>0</td>\n",
       "      <td>0</td>\n",
       "      <td>0</td>\n",
       "      <td>1</td>\n",
       "      <td>0</td>\n",
       "      <td>0</td>\n",
       "    </tr>\n",
       "    <tr>\n",
       "      <th>8</th>\n",
       "      <td>24</td>\n",
       "      <td>83000</td>\n",
       "      <td>RENT</td>\n",
       "      <td>8.0</td>\n",
       "      <td>PERSONAL</td>\n",
       "      <td>A</td>\n",
       "      <td>35000</td>\n",
       "      <td>8.90</td>\n",
       "      <td>1</td>\n",
       "      <td>0.42</td>\n",
       "      <td>N</td>\n",
       "      <td>2</td>\n",
       "      <td>0</td>\n",
       "      <td>0</td>\n",
       "      <td>0</td>\n",
       "      <td>1</td>\n",
       "      <td>1</td>\n",
       "      <td>0</td>\n",
       "      <td>0</td>\n",
       "      <td>0</td>\n",
       "      <td>0</td>\n",
       "      <td>0</td>\n",
       "      <td>0</td>\n",
       "      <td>1</td>\n",
       "      <td>0</td>\n",
       "      <td>0</td>\n",
       "    </tr>\n",
       "    <tr>\n",
       "      <th>9</th>\n",
       "      <td>21</td>\n",
       "      <td>10000</td>\n",
       "      <td>OWN</td>\n",
       "      <td>6.0</td>\n",
       "      <td>VENTURE</td>\n",
       "      <td>D</td>\n",
       "      <td>1600</td>\n",
       "      <td>14.74</td>\n",
       "      <td>1</td>\n",
       "      <td>0.16</td>\n",
       "      <td>N</td>\n",
       "      <td>3</td>\n",
       "      <td>0</td>\n",
       "      <td>0</td>\n",
       "      <td>1</td>\n",
       "      <td>0</td>\n",
       "      <td>0</td>\n",
       "      <td>0</td>\n",
       "      <td>0</td>\n",
       "      <td>1</td>\n",
       "      <td>0</td>\n",
       "      <td>0</td>\n",
       "      <td>0</td>\n",
       "      <td>1</td>\n",
       "      <td>0</td>\n",
       "      <td>0</td>\n",
       "    </tr>\n",
       "  </tbody>\n",
       "</table>\n",
       "</div>"
      ],
      "text/plain": [
       "   person_age  person_income person_home_ownership  person_emp_length  \\\n",
       "0          22          59000                  RENT              123.0   \n",
       "1          21           9600                   OWN                5.0   \n",
       "2          25           9600              MORTGAGE                1.0   \n",
       "3          23          65500                  RENT                4.0   \n",
       "4          24          54400                  RENT                8.0   \n",
       "5          21           9900                   OWN                2.0   \n",
       "6          26          77100                  RENT                8.0   \n",
       "7          24          78956                  RENT                5.0   \n",
       "8          24          83000                  RENT                8.0   \n",
       "9          21          10000                   OWN                6.0   \n",
       "\n",
       "  loan_intent loan_grade  loan_amnt  loan_int_rate  loan_status  \\\n",
       "0    PERSONAL          D      35000          16.02            1   \n",
       "1   EDUCATION          B       1000          11.14            0   \n",
       "2     MEDICAL          C       5500          12.87            1   \n",
       "3     MEDICAL          C      35000          15.23            1   \n",
       "4     MEDICAL          C      35000          14.27            1   \n",
       "5     VENTURE          A       2500           7.14            1   \n",
       "6   EDUCATION          B      35000          12.42            1   \n",
       "7     MEDICAL          B      35000          11.11            1   \n",
       "8    PERSONAL          A      35000           8.90            1   \n",
       "9     VENTURE          D       1600          14.74            1   \n",
       "\n",
       "   loan_percent_income cb_person_default_on_file  cb_person_cred_hist_length  \\\n",
       "0                 0.59                         Y                           3   \n",
       "1                 0.10                         N                           2   \n",
       "2                 0.57                         N                           3   \n",
       "3                 0.53                         N                           2   \n",
       "4                 0.55                         Y                           4   \n",
       "5                 0.25                         N                           2   \n",
       "6                 0.45                         N                           3   \n",
       "7                 0.44                         N                           4   \n",
       "8                 0.42                         N                           2   \n",
       "9                 0.16                         N                           3   \n",
       "\n",
       "   person_home_ownership:MORTGAGE  person_home_ownership:OTHER  \\\n",
       "0                               0                            0   \n",
       "1                               0                            0   \n",
       "2                               1                            0   \n",
       "3                               0                            0   \n",
       "4                               0                            0   \n",
       "5                               0                            0   \n",
       "6                               0                            0   \n",
       "7                               0                            0   \n",
       "8                               0                            0   \n",
       "9                               0                            0   \n",
       "\n",
       "   person_home_ownership:OWN  person_home_ownership:RENT  loan_grade:A  \\\n",
       "0                          0                           1             0   \n",
       "1                          1                           0             0   \n",
       "2                          0                           0             0   \n",
       "3                          0                           1             0   \n",
       "4                          0                           1             0   \n",
       "5                          1                           0             1   \n",
       "6                          0                           1             0   \n",
       "7                          0                           1             0   \n",
       "8                          0                           1             1   \n",
       "9                          1                           0             0   \n",
       "\n",
       "   loan_grade:B  loan_grade:C  loan_grade:D  loan_grade:E  loan_grade:F  \\\n",
       "0             0             0             1             0             0   \n",
       "1             1             0             0             0             0   \n",
       "2             0             1             0             0             0   \n",
       "3             0             1             0             0             0   \n",
       "4             0             1             0             0             0   \n",
       "5             0             0             0             0             0   \n",
       "6             1             0             0             0             0   \n",
       "7             1             0             0             0             0   \n",
       "8             0             0             0             0             0   \n",
       "9             0             0             1             0             0   \n",
       "\n",
       "   loan_grade:G  cb_person_default_on_file:N  cb_person_default_on_file:Y  \\\n",
       "0             0                            0                            1   \n",
       "1             0                            1                            0   \n",
       "2             0                            1                            0   \n",
       "3             0                            1                            0   \n",
       "4             0                            0                            1   \n",
       "5             0                            1                            0   \n",
       "6             0                            1                            0   \n",
       "7             0                            1                            0   \n",
       "8             0                            1                            0   \n",
       "9             0                            1                            0   \n",
       "\n",
       "   good_bad  \n",
       "0         0  \n",
       "1         1  \n",
       "2         0  \n",
       "3         0  \n",
       "4         0  \n",
       "5         0  \n",
       "6         0  \n",
       "7         0  \n",
       "8         0  \n",
       "9         0  "
      ]
     },
     "execution_count": 56,
     "metadata": {},
     "output_type": "execute_result"
    }
   ],
   "source": [
    "credit_data.head(10)"
   ]
  },
  {
   "cell_type": "markdown",
   "id": "rolled-rubber",
   "metadata": {},
   "source": [
    "# ***marker for rerun"
   ]
  },
  {
   "cell_type": "code",
   "execution_count": 36,
   "id": "prescribed-apple",
   "metadata": {},
   "outputs": [],
   "source": [
    "X_prep = X_train\n",
    "y_prep = y_train\n",
    "#X_prep = X_test\n",
    "#y_prep = y_test"
   ]
  },
  {
   "cell_type": "markdown",
   "id": "concerned-maldives",
   "metadata": {},
   "source": [
    "# Automatic WoE and IV calculator"
   ]
  },
  {
   "cell_type": "code",
   "execution_count": 37,
   "id": "transparent-czech",
   "metadata": {},
   "outputs": [],
   "source": [
    "def woe_discrete(df, var_name, df_target):\n",
    "    df = pd.concat([df[var_name], df_target],axis=1)\n",
    "    df = pd.concat([df.groupby(df.columns.values[0], as_index=False)[df.columns.values[1]].count(),\n",
    "                df.groupby(df.columns.values[0], as_index=False)[df.columns.values[1]].mean()], axis=1)\n",
    "    df = df.iloc[:,[0,1,3]]\n",
    "    df.columns = [df.columns.values[0], 'n_obs', 'prop_good']\n",
    "    df['prop_n_obs'] = df['n_obs']/df['n_obs'].sum()\n",
    "    df['n_good'] = df['prop_good'] * df['n_obs']\n",
    "    df['n_bad'] = (1 - df['prop_good']) * df['n_obs']\n",
    "    df['prop_n_good'] = df['n_good'] / df['n_good'].sum()\n",
    "    df['prop_n_bad'] = df['n_bad'] / df['n_bad'].sum()\n",
    "    df['WoE'] = np.log(df['prop_n_good']/df['prop_n_bad'])\n",
    "    df = df.sort_values(['WoE'])\n",
    "    df = df.reset_index(drop = True)\n",
    "    df['diff_prop_good'] = df['prop_good'].diff().abs()\n",
    "    df['diff_WoE'] = df['WoE'].diff().abs()\n",
    "    df['IV'] = (df['prop_n_good']-df['prop_n_bad'])*df['WoE']\n",
    "    df['IV'] = df['IV'].sum()\n",
    "    return df"
   ]
  },
  {
   "cell_type": "markdown",
   "id": "sized-flooring",
   "metadata": {},
   "source": [
    "# WoE Plotter"
   ]
  },
  {
   "cell_type": "code",
   "execution_count": 38,
   "id": "aerial-cisco",
   "metadata": {},
   "outputs": [],
   "source": [
    "def plot_by_woe(df_WoE, rotation_of_x_axis_labels = 0):\n",
    "    x = np.array(df_WoE.iloc[:, 0].apply(str))\n",
    "    y = df_WoE['WoE']\n",
    "    plt.figure(figsize = (18, 6))\n",
    "    plt.plot(x, y, marker='o', linestyle='--', color='k')\n",
    "    plt.xlabel(df_WoE.columns[0])\n",
    "    plt.ylabel('Weight of Evidence')\n",
    "    plt.title(str('Weight of Evidence ' + df_WoE.columns[0]))\n",
    "    plt.xticks(rotation = rotation_of_x_axis_labels)"
   ]
  },
  {
   "cell_type": "code",
   "execution_count": null,
   "id": "celtic-minister",
   "metadata": {},
   "outputs": [],
   "source": []
  },
  {
   "cell_type": "code",
   "execution_count": 41,
   "id": "prostate-remains",
   "metadata": {},
   "outputs": [
    {
     "data": {
      "text/plain": [
       "array(['RENT', 'OWN', 'MORTGAGE', 'OTHER'], dtype=object)"
      ]
     },
     "execution_count": 41,
     "metadata": {},
     "output_type": "execute_result"
    }
   ],
   "source": [
    "X_prep['person_home_ownership'].unique()"
   ]
  },
  {
   "cell_type": "code",
   "execution_count": 42,
   "id": "thirty-spice",
   "metadata": {},
   "outputs": [],
   "source": [
    "df = woe_discrete(X_prep, 'person_home_ownership', y_prep)"
   ]
  },
  {
   "cell_type": "code",
   "execution_count": 43,
   "id": "alleged-island",
   "metadata": {},
   "outputs": [
    {
     "data": {
      "text/html": [
       "<div>\n",
       "<style scoped>\n",
       "    .dataframe tbody tr th:only-of-type {\n",
       "        vertical-align: middle;\n",
       "    }\n",
       "\n",
       "    .dataframe tbody tr th {\n",
       "        vertical-align: top;\n",
       "    }\n",
       "\n",
       "    .dataframe thead th {\n",
       "        text-align: right;\n",
       "    }\n",
       "</style>\n",
       "<table border=\"1\" class=\"dataframe\">\n",
       "  <thead>\n",
       "    <tr style=\"text-align: right;\">\n",
       "      <th></th>\n",
       "      <th>person_home_ownership</th>\n",
       "      <th>n_obs</th>\n",
       "      <th>prop_good</th>\n",
       "      <th>prop_n_obs</th>\n",
       "      <th>n_good</th>\n",
       "      <th>n_bad</th>\n",
       "      <th>prop_n_good</th>\n",
       "      <th>prop_n_bad</th>\n",
       "      <th>WoE</th>\n",
       "      <th>diff_prop_good</th>\n",
       "      <th>diff_WoE</th>\n",
       "      <th>IV</th>\n",
       "    </tr>\n",
       "  </thead>\n",
       "  <tbody>\n",
       "    <tr>\n",
       "      <th>0</th>\n",
       "      <td>RENT</td>\n",
       "      <td>13150</td>\n",
       "      <td>0.684943</td>\n",
       "      <td>0.504527</td>\n",
       "      <td>9007.0</td>\n",
       "      <td>4143.0</td>\n",
       "      <td>0.441498</td>\n",
       "      <td>0.731591</td>\n",
       "      <td>-0.505048</td>\n",
       "      <td>NaN</td>\n",
       "      <td>NaN</td>\n",
       "      <td>0.378239</td>\n",
       "    </tr>\n",
       "    <tr>\n",
       "      <th>1</th>\n",
       "      <td>OTHER</td>\n",
       "      <td>83</td>\n",
       "      <td>0.698795</td>\n",
       "      <td>0.003184</td>\n",
       "      <td>58.0</td>\n",
       "      <td>25.0</td>\n",
       "      <td>0.002843</td>\n",
       "      <td>0.004415</td>\n",
       "      <td>-0.440063</td>\n",
       "      <td>0.013852</td>\n",
       "      <td>0.064985</td>\n",
       "      <td>0.378239</td>\n",
       "    </tr>\n",
       "    <tr>\n",
       "      <th>2</th>\n",
       "      <td>MORTGAGE</td>\n",
       "      <td>10759</td>\n",
       "      <td>0.875825</td>\n",
       "      <td>0.412792</td>\n",
       "      <td>9423.0</td>\n",
       "      <td>1336.0</td>\n",
       "      <td>0.461889</td>\n",
       "      <td>0.235917</td>\n",
       "      <td>0.671843</td>\n",
       "      <td>0.177030</td>\n",
       "      <td>1.111906</td>\n",
       "      <td>0.378239</td>\n",
       "    </tr>\n",
       "    <tr>\n",
       "      <th>3</th>\n",
       "      <td>OWN</td>\n",
       "      <td>2072</td>\n",
       "      <td>0.923263</td>\n",
       "      <td>0.079497</td>\n",
       "      <td>1913.0</td>\n",
       "      <td>159.0</td>\n",
       "      <td>0.093770</td>\n",
       "      <td>0.028077</td>\n",
       "      <td>1.205894</td>\n",
       "      <td>0.047438</td>\n",
       "      <td>0.534050</td>\n",
       "      <td>0.378239</td>\n",
       "    </tr>\n",
       "  </tbody>\n",
       "</table>\n",
       "</div>"
      ],
      "text/plain": [
       "  person_home_ownership  n_obs  prop_good  prop_n_obs  n_good   n_bad  \\\n",
       "0                  RENT  13150   0.684943    0.504527  9007.0  4143.0   \n",
       "1                 OTHER     83   0.698795    0.003184    58.0    25.0   \n",
       "2              MORTGAGE  10759   0.875825    0.412792  9423.0  1336.0   \n",
       "3                   OWN   2072   0.923263    0.079497  1913.0   159.0   \n",
       "\n",
       "   prop_n_good  prop_n_bad       WoE  diff_prop_good  diff_WoE        IV  \n",
       "0     0.441498    0.731591 -0.505048             NaN       NaN  0.378239  \n",
       "1     0.002843    0.004415 -0.440063        0.013852  0.064985  0.378239  \n",
       "2     0.461889    0.235917  0.671843        0.177030  1.111906  0.378239  \n",
       "3     0.093770    0.028077  1.205894        0.047438  0.534050  0.378239  "
      ]
     },
     "execution_count": 43,
     "metadata": {},
     "output_type": "execute_result"
    }
   ],
   "source": [
    "df"
   ]
  },
  {
   "cell_type": "code",
   "execution_count": 44,
   "id": "competitive-firmware",
   "metadata": {
    "scrolled": true
   },
   "outputs": [
    {
     "data": {
      "image/png": "[encoded data removed]",
      "text/plain": [
       "<Figure size 1296x432 with 1 Axes>"
      ]
     },
     "metadata": {},
     "output_type": "display_data"
    }
   ],
   "source": [
    "plot_by_woe(df)"
   ]
  },
  {
   "cell_type": "code",
   "execution_count": 45,
   "id": "gentle-array",
   "metadata": {},
   "outputs": [],
   "source": [
    "# 'person_home_ownership:OWN', 'person_home_ownership:MORGAGE', 'person_home_ownership:OTHER_RENT'\n",
    "\n",
    "X_prep['person_home_ownership:OTHER_RENT'] = sum([X_prep['person_home_ownership:OTHER'], X_prep['person_home_ownership:RENT']])"
   ]
  },
  {
   "cell_type": "code",
   "execution_count": null,
   "id": "touched-audit",
   "metadata": {},
   "outputs": [],
   "source": []
  },
  {
   "cell_type": "code",
   "execution_count": 46,
   "id": "junior-biotechnology",
   "metadata": {},
   "outputs": [],
   "source": [
    "df= woe_discrete(X_prep,'cb_person_default_on_file',y_prep)"
   ]
  },
  {
   "cell_type": "code",
   "execution_count": 47,
   "id": "popular-beginning",
   "metadata": {},
   "outputs": [
    {
     "data": {
      "text/html": [
       "<div>\n",
       "<style scoped>\n",
       "    .dataframe tbody tr th:only-of-type {\n",
       "        vertical-align: middle;\n",
       "    }\n",
       "\n",
       "    .dataframe tbody tr th {\n",
       "        vertical-align: top;\n",
       "    }\n",
       "\n",
       "    .dataframe thead th {\n",
       "        text-align: right;\n",
       "    }\n",
       "</style>\n",
       "<table border=\"1\" class=\"dataframe\">\n",
       "  <thead>\n",
       "    <tr style=\"text-align: right;\">\n",
       "      <th></th>\n",
       "      <th>cb_person_default_on_file</th>\n",
       "      <th>n_obs</th>\n",
       "      <th>prop_good</th>\n",
       "      <th>prop_n_obs</th>\n",
       "      <th>n_good</th>\n",
       "      <th>n_bad</th>\n",
       "      <th>prop_n_good</th>\n",
       "      <th>prop_n_bad</th>\n",
       "      <th>WoE</th>\n",
       "      <th>diff_prop_good</th>\n",
       "      <th>diff_WoE</th>\n",
       "      <th>IV</th>\n",
       "    </tr>\n",
       "  </thead>\n",
       "  <tbody>\n",
       "    <tr>\n",
       "      <th>0</th>\n",
       "      <td>Y</td>\n",
       "      <td>4550</td>\n",
       "      <td>0.623736</td>\n",
       "      <td>0.17457</td>\n",
       "      <td>2838.0</td>\n",
       "      <td>1712.0</td>\n",
       "      <td>0.139111</td>\n",
       "      <td>0.302313</td>\n",
       "      <td>-0.776193</td>\n",
       "      <td>NaN</td>\n",
       "      <td>NaN</td>\n",
       "      <td>0.160981</td>\n",
       "    </tr>\n",
       "    <tr>\n",
       "      <th>1</th>\n",
       "      <td>N</td>\n",
       "      <td>21514</td>\n",
       "      <td>0.816352</td>\n",
       "      <td>0.82543</td>\n",
       "      <td>17563.0</td>\n",
       "      <td>3951.0</td>\n",
       "      <td>0.860889</td>\n",
       "      <td>0.697687</td>\n",
       "      <td>0.210196</td>\n",
       "      <td>0.192616</td>\n",
       "      <td>0.986388</td>\n",
       "      <td>0.160981</td>\n",
       "    </tr>\n",
       "  </tbody>\n",
       "</table>\n",
       "</div>"
      ],
      "text/plain": [
       "  cb_person_default_on_file  n_obs  prop_good  prop_n_obs   n_good   n_bad  \\\n",
       "0                         Y   4550   0.623736     0.17457   2838.0  1712.0   \n",
       "1                         N  21514   0.816352     0.82543  17563.0  3951.0   \n",
       "\n",
       "   prop_n_good  prop_n_bad       WoE  diff_prop_good  diff_WoE        IV  \n",
       "0     0.139111    0.302313 -0.776193             NaN       NaN  0.160981  \n",
       "1     0.860889    0.697687  0.210196        0.192616  0.986388  0.160981  "
      ]
     },
     "execution_count": 47,
     "metadata": {},
     "output_type": "execute_result"
    }
   ],
   "source": [
    "df"
   ]
  },
  {
   "cell_type": "code",
   "execution_count": 48,
   "id": "involved-jacksonville",
   "metadata": {},
   "outputs": [
    {
     "data": {
      "image/png": "[encoded data removed]",
      "text/plain": [
       "<Figure size 1296x432 with 1 Axes>"
      ]
     },
     "metadata": {},
     "output_type": "display_data"
    }
   ],
   "source": [
    "plot_by_woe(df)"
   ]
  },
  {
   "cell_type": "code",
   "execution_count": 49,
   "id": "broadband-plymouth",
   "metadata": {},
   "outputs": [],
   "source": [
    "# 'cb_person_default_on_file:Y', 'cb_person_default_on_file:N'"
   ]
  },
  {
   "cell_type": "code",
   "execution_count": null,
   "id": "discrete-replacement",
   "metadata": {},
   "outputs": [],
   "source": []
  },
  {
   "cell_type": "code",
   "execution_count": 50,
   "id": "destroyed-beginning",
   "metadata": {},
   "outputs": [
    {
     "data": {
      "text/plain": [
       "array(['C', 'E', 'A', 'B', 'D', 'F', 'G'], dtype=object)"
      ]
     },
     "execution_count": 50,
     "metadata": {},
     "output_type": "execute_result"
    }
   ],
   "source": [
    "X_prep['loan_grade'].unique()"
   ]
  },
  {
   "cell_type": "code",
   "execution_count": 51,
   "id": "handmade-robert",
   "metadata": {},
   "outputs": [],
   "source": [
    "df = woe_discrete(X_prep, 'loan_grade', y_prep)"
   ]
  },
  {
   "cell_type": "code",
   "execution_count": 52,
   "id": "rapid-hayes",
   "metadata": {
    "scrolled": true
   },
   "outputs": [
    {
     "data": {
      "text/html": [
       "<div>\n",
       "<style scoped>\n",
       "    .dataframe tbody tr th:only-of-type {\n",
       "        vertical-align: middle;\n",
       "    }\n",
       "\n",
       "    .dataframe tbody tr th {\n",
       "        vertical-align: top;\n",
       "    }\n",
       "\n",
       "    .dataframe thead th {\n",
       "        text-align: right;\n",
       "    }\n",
       "</style>\n",
       "<table border=\"1\" class=\"dataframe\">\n",
       "  <thead>\n",
       "    <tr style=\"text-align: right;\">\n",
       "      <th></th>\n",
       "      <th>loan_grade</th>\n",
       "      <th>n_obs</th>\n",
       "      <th>prop_good</th>\n",
       "      <th>prop_n_obs</th>\n",
       "      <th>n_good</th>\n",
       "      <th>n_bad</th>\n",
       "      <th>prop_n_good</th>\n",
       "      <th>prop_n_bad</th>\n",
       "      <th>WoE</th>\n",
       "      <th>diff_prop_good</th>\n",
       "      <th>diff_WoE</th>\n",
       "      <th>IV</th>\n",
       "    </tr>\n",
       "  </thead>\n",
       "  <tbody>\n",
       "    <tr>\n",
       "      <th>0</th>\n",
       "      <td>G</td>\n",
       "      <td>50</td>\n",
       "      <td>0.020000</td>\n",
       "      <td>0.001918</td>\n",
       "      <td>1.0</td>\n",
       "      <td>49.0</td>\n",
       "      <td>0.000049</td>\n",
       "      <td>0.008653</td>\n",
       "      <td>-5.173450</td>\n",
       "      <td>NaN</td>\n",
       "      <td>NaN</td>\n",
       "      <td>0.868905</td>\n",
       "    </tr>\n",
       "    <tr>\n",
       "      <th>1</th>\n",
       "      <td>F</td>\n",
       "      <td>188</td>\n",
       "      <td>0.287234</td>\n",
       "      <td>0.007213</td>\n",
       "      <td>54.0</td>\n",
       "      <td>134.0</td>\n",
       "      <td>0.002647</td>\n",
       "      <td>0.023662</td>\n",
       "      <td>-2.190486</td>\n",
       "      <td>0.267234</td>\n",
       "      <td>2.982965</td>\n",
       "      <td>0.868905</td>\n",
       "    </tr>\n",
       "    <tr>\n",
       "      <th>2</th>\n",
       "      <td>E</td>\n",
       "      <td>757</td>\n",
       "      <td>0.361955</td>\n",
       "      <td>0.029044</td>\n",
       "      <td>274.0</td>\n",
       "      <td>483.0</td>\n",
       "      <td>0.013431</td>\n",
       "      <td>0.085290</td>\n",
       "      <td>-1.848519</td>\n",
       "      <td>0.074721</td>\n",
       "      <td>0.341967</td>\n",
       "      <td>0.868905</td>\n",
       "    </tr>\n",
       "    <tr>\n",
       "      <th>3</th>\n",
       "      <td>D</td>\n",
       "      <td>2897</td>\n",
       "      <td>0.411460</td>\n",
       "      <td>0.111149</td>\n",
       "      <td>1192.0</td>\n",
       "      <td>1705.0</td>\n",
       "      <td>0.058429</td>\n",
       "      <td>0.301077</td>\n",
       "      <td>-1.639563</td>\n",
       "      <td>0.049505</td>\n",
       "      <td>0.208956</td>\n",
       "      <td>0.868905</td>\n",
       "    </tr>\n",
       "    <tr>\n",
       "      <th>4</th>\n",
       "      <td>C</td>\n",
       "      <td>5168</td>\n",
       "      <td>0.793150</td>\n",
       "      <td>0.198281</td>\n",
       "      <td>4099.0</td>\n",
       "      <td>1069.0</td>\n",
       "      <td>0.200922</td>\n",
       "      <td>0.188769</td>\n",
       "      <td>0.062389</td>\n",
       "      <td>0.381690</td>\n",
       "      <td>1.701952</td>\n",
       "      <td>0.868905</td>\n",
       "    </tr>\n",
       "    <tr>\n",
       "      <th>5</th>\n",
       "      <td>B</td>\n",
       "      <td>8389</td>\n",
       "      <td>0.837406</td>\n",
       "      <td>0.321862</td>\n",
       "      <td>7025.0</td>\n",
       "      <td>1364.0</td>\n",
       "      <td>0.344346</td>\n",
       "      <td>0.240862</td>\n",
       "      <td>0.357424</td>\n",
       "      <td>0.044256</td>\n",
       "      <td>0.295034</td>\n",
       "      <td>0.868905</td>\n",
       "    </tr>\n",
       "    <tr>\n",
       "      <th>6</th>\n",
       "      <td>A</td>\n",
       "      <td>8615</td>\n",
       "      <td>0.900290</td>\n",
       "      <td>0.330533</td>\n",
       "      <td>7756.0</td>\n",
       "      <td>859.0</td>\n",
       "      <td>0.380177</td>\n",
       "      <td>0.151686</td>\n",
       "      <td>0.918823</td>\n",
       "      <td>0.062884</td>\n",
       "      <td>0.561399</td>\n",
       "      <td>0.868905</td>\n",
       "    </tr>\n",
       "  </tbody>\n",
       "</table>\n",
       "</div>"
      ],
      "text/plain": [
       "  loan_grade  n_obs  prop_good  prop_n_obs  n_good   n_bad  prop_n_good  \\\n",
       "0          G     50   0.020000    0.001918     1.0    49.0     0.000049   \n",
       "1          F    188   0.287234    0.007213    54.0   134.0     0.002647   \n",
       "2          E    757   0.361955    0.029044   274.0   483.0     0.013431   \n",
       "3          D   2897   0.411460    0.111149  1192.0  1705.0     0.058429   \n",
       "4          C   5168   0.793150    0.198281  4099.0  1069.0     0.200922   \n",
       "5          B   8389   0.837406    0.321862  7025.0  1364.0     0.344346   \n",
       "6          A   8615   0.900290    0.330533  7756.0   859.0     0.380177   \n",
       "\n",
       "   prop_n_bad       WoE  diff_prop_good  diff_WoE        IV  \n",
       "0    0.008653 -5.173450             NaN       NaN  0.868905  \n",
       "1    0.023662 -2.190486        0.267234  2.982965  0.868905  \n",
       "2    0.085290 -1.848519        0.074721  0.341967  0.868905  \n",
       "3    0.301077 -1.639563        0.049505  0.208956  0.868905  \n",
       "4    0.188769  0.062389        0.381690  1.701952  0.868905  \n",
       "5    0.240862  0.357424        0.044256  0.295034  0.868905  \n",
       "6    0.151686  0.918823        0.062884  0.561399  0.868905  "
      ]
     },
     "execution_count": 52,
     "metadata": {},
     "output_type": "execute_result"
    }
   ],
   "source": [
    "df"
   ]
  },
  {
   "cell_type": "code",
   "execution_count": 53,
   "id": "juvenile-peace",
   "metadata": {},
   "outputs": [
    {
     "data": {
      "image/png": "[encoded data removed]",
      "text/plain": [
       "<Figure size 1296x432 with 1 Axes>"
      ]
     },
     "metadata": {},
     "output_type": "display_data"
    }
   ],
   "source": [
    "plot_by_woe(df)"
   ]
  },
  {
   "cell_type": "code",
   "execution_count": 54,
   "id": "mobile-yesterday",
   "metadata": {},
   "outputs": [],
   "source": [
    "# 'loan_grade:A',  'loan_grade:B', 'loan_grade:C', 'loan_grade:D', 'loan_grade:E', 'loan_grade:F', 'loan_grade:G',"
   ]
  },
  {
   "cell_type": "code",
   "execution_count": null,
   "id": "tough-living",
   "metadata": {},
   "outputs": [],
   "source": []
  },
  {
   "cell_type": "code",
   "execution_count": null,
   "id": "disturbed-velvet",
   "metadata": {},
   "outputs": [],
   "source": []
  },
  {
   "cell_type": "code",
   "execution_count": null,
   "id": "burning-oasis",
   "metadata": {},
   "outputs": [],
   "source": []
  },
  {
   "cell_type": "markdown",
   "id": "composite-millennium",
   "metadata": {},
   "source": [
    "categories:\n",
    "    \n",
    "'person_home_ownership:OWN', \n",
    "'person_home_ownership:MORGAGE', \n",
    "'person_home_ownership:OTHER_RENT',\n",
    "'cb_person_default_on_file:Y', \n",
    "'cb_person_default_on_file:N',\n",
    "'loan_grade:A',  \n",
    "'loan_grade:B',\n",
    "'loan_grade:C', \n",
    "'loan_grade:D', \n",
    "'loan_grade:E', \n",
    "'loan_grade:F', \n",
    "'loan_grade:G',"
   ]
  },
  {
   "cell_type": "markdown",
   "id": "major-bearing",
   "metadata": {},
   "source": [
    "reference categories:\n",
    "\n",
    "'person_home_ownership:OTHER_RENT',\n",
    "'cb_person_default_on_file:N',\n",
    "'loan_grade:G',"
   ]
  }
 ],
 "metadata": {
  "kernelspec": {
   "display_name": "Python 3",
   "language": "python",
   "name": "python3"
  },
  "language_info": {
   "codemirror_mode": {
    "name": "ipython",
    "version": 3
   },
   "file_extension": ".py",
   "mimetype": "text/x-python",
   "name": "python",
   "nbconvert_exporter": "python",
   "pygments_lexer": "ipython3",
   "version": "3.7.10"
  }
 },
 "nbformat": 4,
 "nbformat_minor": 5
}
